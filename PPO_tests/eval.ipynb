{
 "cells": [
  {
   "cell_type": "markdown",
   "metadata": {},
   "source": [
    "https://www.gymlibrary.ml/"
   ]
  },
  {
   "cell_type": "code",
   "execution_count": 17,
   "metadata": {},
   "outputs": [],
   "source": [
    "from stable_baselines3 import PPO\n",
    "from stable_baselines3.common.env_util import make_vec_env\n",
    "import numpy as np"
   ]
  },
  {
   "cell_type": "code",
   "execution_count": 24,
   "metadata": {},
   "outputs": [
    {
     "name": "stdout",
     "output_type": "stream",
     "text": [
      "Using cuda device\n",
      "Mean cum reward: 70.3196\n",
      "Std cum reward: 67.8622\n"
     ]
    }
   ],
   "source": [
    "env = make_vec_env(\"BipedalWalker-v3\")\n",
    "#env = make_vec_env(\"MountainCarContinuous-v0\")\n",
    "\n",
    "model = PPO(policy=\"MlpPolicy\",\n",
    "                  env=env,\n",
    "                  ent_coef=0,\n",
    "                  verbose=1)\n",
    "model = PPO.load(\"exps/ppo-nn-10/ppo_bipedalwalker\")\n",
    "\n",
    "nb_tests = 30\n",
    "rewards = np.zeros(nb_tests)\n",
    "for i in range(nb_tests):\n",
    "  cum_reward = 0\n",
    "  obs = env.reset()\n",
    "  done = False\n",
    "  steps = 0\n",
    "  while not done:\n",
    "    action, _states = model.predict(obs)\n",
    "    obs, reward, done, info = env.step(action)\n",
    "    #env.render()\n",
    "    cum_reward += reward[0]\n",
    "    steps += 1\n",
    "  rewards[i] = cum_reward\n",
    "print(f\"Mean cum reward: {rewards.mean():.4f}\\nStd cum reward: {rewards.std():.4f}\")"
   ]
  },
  {
   "cell_type": "code",
   "execution_count": null,
   "metadata": {},
   "outputs": [],
   "source": []
  }
 ],
 "metadata": {
  "interpreter": {
   "hash": "ac16c9cda3e1ca3ba8ef92137292ce35515d0771bf3965bd3a22025532cdb42f"
  },
  "kernelspec": {
   "display_name": "Python 3.9.12 ('L2RPN')",
   "language": "python",
   "name": "python3"
  },
  "language_info": {
   "codemirror_mode": {
    "name": "ipython",
    "version": 3
   },
   "file_extension": ".py",
   "mimetype": "text/x-python",
   "name": "python",
   "nbconvert_exporter": "python",
   "pygments_lexer": "ipython3",
   "version": "3.9.12"
  },
  "orig_nbformat": 4
 },
 "nbformat": 4,
 "nbformat_minor": 2
}
