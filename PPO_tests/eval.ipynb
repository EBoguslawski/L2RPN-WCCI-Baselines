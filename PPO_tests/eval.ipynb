{
 "cells": [
  {
   "cell_type": "code",
   "execution_count": 1,
   "metadata": {},
   "outputs": [],
   "source": [
    "from stable_baselines3 import PPO\n",
    "from stable_baselines3.common.env_util import make_vec_env"
   ]
  },
  {
   "cell_type": "code",
   "execution_count": 5,
   "metadata": {},
   "outputs": [
    {
     "name": "stdout",
     "output_type": "stream",
     "text": [
      "-5.135313609523697\n"
     ]
    }
   ],
   "source": [
    "env = make_vec_env(\"Pendulum-v1\")\n",
    "#env = make_vec_env(\"MountainCarContinuous-v0\")\n",
    "\n",
    "model = PPO.load(\"exps/ppo-nn-64-64/ppo_pendulum\")\n",
    "#model = PPO.load(\"exps/ppo-nn-64-64/ppo_mountaincar_c0\")\n",
    "\n",
    "r = 0\n",
    "for _ in range(10):\n",
    "  cum_reward = 0\n",
    "  obs = env.reset()\n",
    "  done = False\n",
    "  steps = 0\n",
    "  while not done:\n",
    "    action, _states = model.predict(obs)\n",
    "    obs, reward, done, info = env.step(action)\n",
    "    #env.render()\n",
    "    cum_reward += reward[0]\n",
    "    steps += 1\n",
    "  r += cum_reward / steps\n",
    "print(r / 10)"
   ]
  },
  {
   "cell_type": "code",
   "execution_count": null,
   "metadata": {},
   "outputs": [],
   "source": []
  }
 ],
 "metadata": {
  "interpreter": {
   "hash": "ac16c9cda3e1ca3ba8ef92137292ce35515d0771bf3965bd3a22025532cdb42f"
  },
  "kernelspec": {
   "display_name": "Python 3.9.12 ('L2RPN')",
   "language": "python",
   "name": "python3"
  },
  "language_info": {
   "codemirror_mode": {
    "name": "ipython",
    "version": 3
   },
   "file_extension": ".py",
   "mimetype": "text/x-python",
   "name": "python",
   "nbconvert_exporter": "python",
   "pygments_lexer": "ipython3",
   "version": "3.9.12"
  },
  "orig_nbformat": 4
 },
 "nbformat": 4,
 "nbformat_minor": 2
}
