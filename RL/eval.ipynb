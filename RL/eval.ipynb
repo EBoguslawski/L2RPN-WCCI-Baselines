{
 "cells": [
  {
   "cell_type": "code",
   "execution_count": 1,
   "metadata": {},
   "outputs": [],
   "source": [
    "from utils import *\n",
    "import os\n",
    "from grid2op.utils import ScoreL2RPN2020\n",
    "from CustomGymEnv import CustomGymEnv\n",
    "import numpy as np\n",
    "import re"
   ]
  },
  {
   "cell_type": "markdown",
   "metadata": {},
   "source": [
    "### Parameters of the agents to evaluate"
   ]
  },
  {
   "cell_type": "code",
   "execution_count": 2,
   "metadata": {},
   "outputs": [
    {
     "data": {
      "text/plain": [
       "['GymEnvWithRecoWithDN_2022-04-23_01-20_learning_rate_1']"
      ]
     },
     "execution_count": 2,
     "metadata": {},
     "output_type": "execute_result"
    }
   ],
   "source": [
    "save_path = \"./saved_model/\"\n",
    "ENV_NAME = \"l2rpn_wcci_2022_dev\"\n",
    "SCOREUSED = ScoreL2RPN2020\n",
    "gymenv_class = CustomGymEnv\n",
    "verbose = False\n",
    "p = Parameters()\n",
    "p.LIMIT_INFEASIBLE_CURTAILMENT_STORAGE_ACTION = True # It causes errors during training\n",
    "def filter_chronics(x):\n",
    "  list_chronics = ['2050-01-10_0', '2050-08-01_7'] # Names of chronics to keep\n",
    "  p = re.compile(\".*(\" + '|'.join([c + '$' for c in list_chronics]) + \")\")\n",
    "  return re.match(p, x) is not None\n",
    "\n",
    "train_args = {}\n",
    "train_args[\"gymenv_kwargs\"] = {\"safe_max_rho\": 0.2}\n",
    "\n",
    "values_to_test = np.array([{\"safe_max_rho\": 0.5}, {\"safe_max_rho\": 0.7}, {\"safe_max_rho\": 0.9}])\n",
    "var_to_test = \"gymenv_kwargs\"\n",
    "\n",
    "agents_names = [[d for d in os.listdir(save_path) if os.path.isdir(save_path + d)][2]]\n",
    "agents_names"
   ]
  },
  {
   "cell_type": "markdown",
   "metadata": {},
   "source": [
    "### Evaluation"
   ]
  },
  {
   "cell_type": "code",
   "execution_count": 3,
   "metadata": {},
   "outputs": [
    {
     "data": {
      "image/png": "[encoded data removed]",
      "text/plain": [
       "<Figure size 720x360 with 1 Axes>"
      ]
     },
     "metadata": {
      "needs_background": "light"
     },
     "output_type": "display_data"
    }
   ],
   "source": [
    "for i, agent_name in enumerate(agents_names):\n",
    "  results = eval_agent(ENV_NAME,\n",
    "            2,\n",
    "            agent_name,\n",
    "            save_path,\n",
    "            SCOREUSED,\n",
    "            gymenv_class,\n",
    "            verbose,\n",
    "            gymenv_kwargs=train_args[\"gymenv_kwargs\"], #if var_to_test!=\"gymenv_kwargs\" else values_to_test[i],\n",
    "            param=p,\n",
    "            filter_fun=filter_chronics)\n",
    "  create_bar_plot(*results)"
   ]
  }
 ],
 "metadata": {
  "interpreter": {
   "hash": "6ff328efa4567933ddc4c72ffd470532b6fc6588b5928ed695d935cb16d1bf3c"
  },
  "kernelspec": {
   "display_name": "Python 3.9.12 ('L2RPN')",
   "language": "python",
   "name": "python3"
  },
  "language_info": {
   "codemirror_mode": {
    "name": "ipython",
    "version": 3
   },
   "file_extension": ".py",
   "mimetype": "text/x-python",
   "name": "python",
   "nbconvert_exporter": "python",
   "pygments_lexer": "ipython3",
   "version": "3.9.12"
  },
  "orig_nbformat": 4
 },
 "nbformat": 4,
 "nbformat_minor": 2
}
