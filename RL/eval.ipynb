{
 "cells": [
  {
   "cell_type": "code",
   "execution_count": 1,
   "metadata": {},
   "outputs": [],
   "source": [
    "from utils import *\n",
    "import os\n",
    "from grid2op.utils import ScoreL2RPN2020\n",
    "from CustomGymEnv import CustomGymEnv"
   ]
  },
  {
   "cell_type": "markdown",
   "metadata": {},
   "source": [
    "### Parameters of the agents to evaluate"
   ]
  },
  {
   "cell_type": "code",
   "execution_count": 2,
   "metadata": {},
   "outputs": [
    {
     "data": {
      "text/plain": [
       "['GymEnvWithRecoWithDN_2022-04-08_19-15_learning_rate_0']"
      ]
     },
     "execution_count": 2,
     "metadata": {},
     "output_type": "execute_result"
    }
   ],
   "source": [
    "save_path = \"./saved_model/safe_max_rho/\"\n",
    "ENV_NAME = \"l2rpn_wcci_2022_dev_val\"\n",
    "SCOREUSED = ScoreL2RPN2020\n",
    "gymenv_class = CustomGymEnv\n",
    "verbose = True\n",
    "p = Parameters()\n",
    "p.LIMIT_INFEASIBLE_CURTAILMENT_STORAGE_ACTION = True # It causes errors during training\n",
    "filter_chronics = None\n",
    "\n",
    "train_args = {}\n",
    "train_args[\"gymenv_kwargs\"] = {\"safe_max_rho\": 0.7}\n",
    "\n",
    "values_to_test = np.array([3e-5, 3e-4, 3e-3])\n",
    "var_to_test = \"learning_rate\"\n",
    "\n",
    "agents_names = [[d for d in os.listdir(save_path) if os.path.isdir(save_path + d)][0]]\n",
    "agents_names"
   ]
  },
  {
   "cell_type": "markdown",
   "metadata": {},
   "source": [
    "### Evaluation"
   ]
  },
  {
   "cell_type": "code",
   "execution_count": 3,
   "metadata": {},
   "outputs": [
    {
     "name": "stdout",
     "output_type": "stream",
     "text": [
      "Starts the evaluation of the agent\n",
      "Start the evaluation of the scores\n",
      "\t:-) I survived 10 steps vs 7 for do nothing (3)\n",
      "\t:-( I survived 150 steps vs 156 for do nothing (-6)\n",
      "\t:-) I survived 713 steps vs 130 for do nothing (583)\n",
      "\t:-( I survived 136 steps vs 232 for do nothing (-96)\n",
      "\t:-) I survived 714 steps vs 384 for do nothing (330)\n",
      "\t:-) I survived 721 steps vs 384 for do nothing (337)\n",
      "\t:-) I survived 2017 steps vs 999 for do nothing (1018)\n",
      "\t:-) I survived 2017 steps vs 1271 for do nothing (746)\n",
      "\t:-) I survived 2017 steps vs 1561 for do nothing (456)\n",
      "\t:-) I survived 2017 steps vs 975 for do nothing (1042)\n",
      "\t:-) I survived 2017 steps vs 2017 for do nothing (0)\n",
      "\t:-) I survived 2017 steps vs 2017 for do nothing (0)\n",
      "\t:-) I survived 2017 steps vs 2017 for do nothing (0)\n",
      "\t:-) I survived 2017 steps vs 990 for do nothing (1027)\n",
      "\t:-) I survived 2017 steps vs 111 for do nothing (1906)\n",
      "\t:-) I survived 2017 steps vs 1871 for do nothing (146)\n",
      "\t:-) I survived 24 steps vs 24 for do nothing (0)\n",
      "\t:-) I survived 2017 steps vs 975 for do nothing (1042)\n",
      "\t:-) I survived 136 steps vs 125 for do nothing (11)\n",
      "\t:-) I survived 699 steps vs 360 for do nothing (339)\n",
      "\t:-) I survived 297 steps vs 193 for do nothing (104)\n",
      "The agent \"GymEnvWithRecoWithDN_2022-04-08_19-15_learning_rate_0\" beats \"do nothing\" baseline in 19 out of 21 episodes\n",
      "\t:-) I survived 10 steps vs 7 for reco powerline (3)\n",
      "\t:-( I survived 150 steps vs 156 for reco powerline (-6)\n",
      "\t:-) I survived 713 steps vs 130 for reco powerline (583)\n",
      "\t:-( I survived 136 steps vs 232 for reco powerline (-96)\n",
      "\t:-) I survived 714 steps vs 384 for reco powerline (330)\n",
      "\t:-) I survived 721 steps vs 384 for reco powerline (337)\n",
      "\t:-) I survived 2017 steps vs 2017 for reco powerline (0)\n",
      "\t:-) I survived 2017 steps vs 1271 for reco powerline (746)\n",
      "\t:-) I survived 2017 steps vs 1561 for reco powerline (456)\n",
      "\t:-) I survived 2017 steps vs 975 for reco powerline (1042)\n",
      "\t:-) I survived 2017 steps vs 2017 for reco powerline (0)\n",
      "\t:-) I survived 2017 steps vs 2017 for reco powerline (0)\n",
      "\t:-) I survived 2017 steps vs 2017 for reco powerline (0)\n",
      "\t:-) I survived 2017 steps vs 994 for reco powerline (1023)\n",
      "\t:-) I survived 2017 steps vs 111 for reco powerline (1906)\n",
      "\t:-) I survived 2017 steps vs 2017 for reco powerline (0)\n",
      "\t:-) I survived 24 steps vs 24 for reco powerline (0)\n",
      "\t:-) I survived 2017 steps vs 975 for reco powerline (1042)\n",
      "\t:-) I survived 136 steps vs 125 for reco powerline (11)\n",
      "\t:-) I survived 699 steps vs 360 for reco powerline (339)\n",
      "\t:-) I survived 297 steps vs 193 for reco powerline (104)\n",
      "The agent \"GymEnvWithRecoWithDN_2022-04-08_19-15_learning_rate_0\" beats \"reco powerline\" baseline in 19 out of 21 episodes\n"
     ]
    },
    {
     "data": {
      "image/png": "[encoded data removed]",
      "text/plain": [
       "<Figure size 720x360 with 1 Axes>"
      ]
     },
     "metadata": {
      "needs_background": "light"
     },
     "output_type": "display_data"
    }
   ],
   "source": [
    "for i, agent_name in enumerate(agents_names):\n",
    "  results = eval_agent(ENV_NAME,\n",
    "            21,\n",
    "            agent_name,\n",
    "            save_path,\n",
    "            SCOREUSED,\n",
    "            gymenv_class,\n",
    "            verbose,\n",
    "            gymenv_kwargs=train_args[\"gymenv_kwargs\"] if var_to_test!=\"gymenv_kwargs\" else values_to_test[i],\n",
    "            param=p,\n",
    "            filter_fun=filter_chronics)\n",
    "  create_bar_plot(*results)"
   ]
  },
  {
   "cell_type": "code",
   "execution_count": null,
   "metadata": {},
   "outputs": [],
   "source": []
  }
 ],
 "metadata": {
  "interpreter": {
   "hash": "91a35dfe52835051810f52e811c447a0465b76bfe18baf308825e1f156f0fde9"
  },
  "kernelspec": {
   "display_name": "Python 3.9.11 ('L2RPN')",
   "language": "python",
   "name": "python3"
  },
  "language_info": {
   "codemirror_mode": {
    "name": "ipython",
    "version": 3
   },
   "file_extension": ".py",
   "mimetype": "text/x-python",
   "name": "python",
   "nbconvert_exporter": "python",
   "pygments_lexer": "ipython3",
   "version": "3.9.11"
  },
  "orig_nbformat": 4
 },
 "nbformat": 4,
 "nbformat_minor": 2
}
