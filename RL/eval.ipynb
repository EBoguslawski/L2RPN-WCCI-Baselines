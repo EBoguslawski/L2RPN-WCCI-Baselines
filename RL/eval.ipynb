{
 "cells": [
  {
   "cell_type": "code",
   "execution_count": 1,
   "metadata": {},
   "outputs": [
    {
     "name": "stderr",
     "output_type": "stream",
     "text": [
      "2022-05-31 13:52:43.846702: W tensorflow/stream_executor/platform/default/dso_loader.cc:64] Could not load dynamic library 'libcudart.so.11.0'; dlerror: libcudart.so.11.0: cannot open shared object file: No such file or directory\n",
      "2022-05-31 13:52:43.846725: I tensorflow/stream_executor/cuda/cudart_stub.cc:29] Ignore above cudart dlerror if you do not have a GPU set up on your machine.\n",
      "/home/boguslawskieva/miniconda3/envs/baselines_dev/lib/python3.8/site-packages/tqdm/auto.py:22: TqdmWarning: IProgress not found. Please update jupyter and ipywidgets. See https://ipywidgets.readthedocs.io/en/stable/user_install.html\n",
      "  from .autonotebook import tqdm as notebook_tqdm\n"
     ]
    }
   ],
   "source": [
    "from utils import *\n",
    "import os\n",
    "from grid2op.utils import ScoreL2RPN2020\n",
    "from l2rpn_baselines.utils import GymEnvWithRecoWithDN\n",
    "import numpy as np\n",
    "import re\n",
    "import copy"
   ]
  },
  {
   "cell_type": "code",
   "execution_count": 2,
   "metadata": {},
   "outputs": [],
   "source": [
    "import pandas as pd\n",
    "import matplotlib.pyplot as plt\n",
    "import seaborn as sns"
   ]
  },
  {
   "cell_type": "code",
   "execution_count": 3,
   "metadata": {},
   "outputs": [],
   "source": [
    "def create_bar_plot(dict_ts_survived, dn_ts_survived=[], reco_ts_survived=[], path=None):\n",
    "  scenarios = [i+1 for i in range(len(list(dict_ts_survived.values())[0]))] + [\"Mean\"]\n",
    "  d = {\"Scenarios\": scenarios}\n",
    "  \n",
    "  if len(dn_ts_survived)>0:\n",
    "    d.update({\"Do Nothing\": np.append(dn_ts_survived, dn_ts_survived.mean())})\n",
    "  if len(reco_ts_survived)>0:\n",
    "    d.update({\"Reco\": np.append(reco_ts_survived, reco_ts_survived.mean())})\n",
    "\n",
    "  for key, value in dict_ts_survived.items():\n",
    "    dict_ts_survived[key] = np.append(value, value.mean())\n",
    "\n",
    "  d.update(dict_ts_survived)\n",
    "       \n",
    "  df = pd.DataFrame(d)\n",
    "  tidy = df.melt(id_vars=\"Scenarios\").rename(columns=str.title)\n",
    "  tidy.rename(columns={\"Value\": \"Survived steps\", \"Variable\": \"Agents\"}, inplace=True)\n",
    "  fig, ax1 = plt.subplots(figsize=(10, 5))\n",
    "  sns.barplot(x=\"Scenarios\", y=\"Survived steps\", hue=\"Agents\", data=tidy, palette=(\"magma\"), ax=ax1)\n",
    "  ax1.axhline(2017, color=\"black\", label=\"Maximum time steps\")\n",
    "  plt.legend()\n",
    "  sns.despine(fig)\n",
    "  if path is not None:\n",
    "    plt.savefig(path)\n",
    "  plt.show()"
   ]
  },
  {
   "cell_type": "code",
   "execution_count": 4,
   "metadata": {},
   "outputs": [],
   "source": [
    "import seaborn as sns\n",
    "\n",
    "def create_box_plot(dict_ts_survived, dn_ts_survived, reco_ts_survived, path=None):\n",
    "  d = {\"Scenarios\": [],\n",
    "       \"Agents\": [],\n",
    "       \"Survived steps\": []}\n",
    "\n",
    "  for i, v in enumerate(dn_ts_survived):\n",
    "    d[\"Scenarios\"].append(i)\n",
    "    d[\"Agents\"].append(\"DN\")\n",
    "    d[\"Survived steps\"].append(v)\n",
    "  \n",
    "  for i, v in enumerate(reco_ts_survived):\n",
    "    d[\"Scenarios\"].append(i)\n",
    "    d[\"Agents\"].append(\"Reco\")\n",
    "    d[\"Survived steps\"].append(v)\n",
    "\n",
    "  for key, scenarios in dict_ts_survived.items():\n",
    "    for i, values in enumerate(scenarios):\n",
    "      for v in values:\n",
    "        d[\"Scenarios\"].append(i)\n",
    "        d[\"Agents\"].append(key)\n",
    "        d[\"Survived steps\"].append(v)\n",
    "\n",
    "  df = pd.DataFrame(d)\n",
    "\n",
    "  fig, ax1 = plt.subplots(figsize=(10, 5))\n",
    "  sns.boxplot(x=\"Scenarios\", y=\"Survived steps\", hue=\"Agents\", data=df, palette=(\"magma\"), ax=ax1)\n",
    "  ax1.axhline(2017, color=\"black\", label=\"Maximum time steps\")\n",
    "  plt.legend()\n",
    "  sns.despine(fig)\n",
    "  if path is not None:\n",
    "    plt.savefig(path)\n",
    "  plt.show()"
   ]
  },
  {
   "cell_type": "markdown",
   "metadata": {},
   "source": [
    "### Parameters of the agents to evaluate"
   ]
  },
  {
   "cell_type": "code",
   "execution_count": 5,
   "metadata": {},
   "outputs": [
    {
     "data": {
      "text/plain": [
       "['before_adding_attacks',\n",
       " 'GymEnvWithRecoWithDN_2022-05-18_13-47_learning_rate_0',\n",
       " 'before_full_normalization',\n",
       " 'GymEnvWithRecoWithDN_2022-05-20_18-52_learning_rate_0',\n",
       " 'old']"
      ]
     },
     "execution_count": 5,
     "metadata": {},
     "output_type": "execute_result"
    }
   ],
   "source": [
    "save_path = \"./saved_model/\"\n",
    "ENV_NAME = \"l2rpn_wcci_2022_dev\"\n",
    "SCOREUSED = ScoreL2RPN2020\n",
    "gymenv_class = GymEnvWithRecoWithDN\n",
    "verbose = False\n",
    "p = Parameters()\n",
    "p.LIMIT_INFEASIBLE_CURTAILMENT_STORAGE_ACTION = True # It causes errors during training\n",
    "  \n",
    "train_args = {}\n",
    "train_args[\"gymenv_kwargs\"] = {\"safe_max_rho\": 0.2}\n",
    "\n",
    "values_to_test = np.array([1e-5, 3e-5, 1e-4])\n",
    "var_to_test = \"learning_rate\"\n",
    "\n",
    "agents_names = [d for d in os.listdir(save_path) if os.path.isdir(save_path + d)]\n",
    "agents_names"
   ]
  },
  {
   "cell_type": "code",
   "execution_count": 7,
   "metadata": {},
   "outputs": [],
   "source": [
    "def filter_chronics(x):\n",
    "  # list_chronics = [\"2050-01-03_31\",\n",
    "  #                  \"2050-02-21_31\",\n",
    "  #                  \"2050-03-07_31\",\n",
    "  #                  \"2050-04-18_31\"] # Names of chronics to keep\n",
    "  list_chronics = [\"2050-01-03_31\",\n",
    "                      \"2050-02-21_31\",\n",
    "                      \"2050-03-07_31\",\n",
    "                      \"2050-04-18_31\",\n",
    "                      \"2050-05-09_31\",\n",
    "                      \"2050-06-27_31\",\n",
    "                      \"2050-07-25_31\",\n",
    "                      \"2050-08-01_31\",\n",
    "                      \"2050-09-26_31\",\n",
    "                      \"2050-10-03_31\",\n",
    "                      \"2050-11-14_31\",\n",
    "                      \"2050-12-19_31\",\n",
    "                      ] # Names of chronics to keep\n",
    "\n",
    "  p = re.compile(\".*(\" + '|'.join([c + '$' for c in list_chronics]) + \")\")\n",
    "  return re.match(p, x) is not None\n",
    "\n",
    "# filter_chronics = None\n",
    "\n",
    "env_name_used = ENV_NAME + '_val' if filter_chronics is None else ENV_NAME\n",
    "nb_scenario = 59 if filter_chronics is None else 12 #4"
   ]
  },
  {
   "cell_type": "markdown",
   "metadata": {},
   "source": [
    "### Evaluation"
   ]
  },
  {
   "cell_type": "code",
   "execution_count": 81,
   "metadata": {},
   "outputs": [],
   "source": [
    "from l2rpn_baselines.OptimCVXPY import OptimCVXPY\n",
    "env = grid2op.make(env_name_used,\n",
    "                   backend=LightSimBackend()\n",
    "                   )\n",
    "\n",
    "agent = OptimCVXPY(env.action_space,\n",
    "                   env,\n",
    "                   penalty_redispatching_unsafe=0.,\n",
    "                   penalty_storage_unsafe=0.01,\n",
    "                   penalty_curtailment_unsafe=0.01,\n",
    "                   )"
   ]
  },
  {
   "cell_type": "code",
   "execution_count": 82,
   "metadata": {},
   "outputs": [],
   "source": [
    "agents_names = ['GymEnvWithRecoWithDN_2022-05-20_18-52_learning_rate_0']\n",
    "# agents_names = [el for el in os.listdir(save_path) if re.match(r'GymEnv.*', el) is not None]\n",
    "# agents_names = []\n",
    "\n",
    "agents_dict = {\"optimizer1\":agent}"
   ]
  },
  {
   "cell_type": "code",
   "execution_count": null,
   "metadata": {},
   "outputs": [],
   "source": [
    "agents_dict.update({agent_name:None for agent_name in agents_names})\n",
    "\n",
    "total_results = np.zeros((len(agents_dict), nb_scenario, 3))\n",
    "for i, (agent_name, my_agent) in enumerate(agents_dict.items()):\n",
    "  results = eval_agent(env_name_used,\n",
    "            nb_scenario,\n",
    "            agent_name,\n",
    "            save_path,\n",
    "            SCOREUSED,\n",
    "            gymenv_class,\n",
    "            verbose,\n",
    "            gymenv_kwargs=train_args[\"gymenv_kwargs\"] if var_to_test!=\"gymenv_kwargs\" else values_to_test[i],\n",
    "            param=p,\n",
    "            filter_fun=filter_chronics,\n",
    "            my_agent=my_agent\n",
    "            )\n",
    "  for k in range(3):\n",
    "    total_results[i, :, k]=np.array(results[k])\n",
    "  # print(results)"
   ]
  },
  {
   "cell_type": "code",
   "execution_count": 10,
   "metadata": {},
   "outputs": [],
   "source": [
    "total_results = np.load(\"./pre_train/total_results_2022-05-31_10-37.npy\")\n",
    "agent_name = [\"optim_0\", \"optim_1\"]"
   ]
  },
  {
   "cell_type": "code",
   "execution_count": 11,
   "metadata": {},
   "outputs": [],
   "source": [
    "# Agregation des initialisations si il y en a plusieurs et post-traitement\n",
    "\n",
    "# nb_init_train = 4\n",
    "nb_init_train = 1\n",
    "\n",
    "\n",
    "if nb_init_train > 2:\n",
    "    total_results_mean = np.zeros((total_results.shape[0]//nb_init_train, nb_scenario, 3))\n",
    "    total_results_std = np.zeros((total_results.shape[0]//nb_init_train, nb_scenario, 3))\n",
    "    total_results_best = np.zeros((total_results.shape[0], total_results.shape[1], 2))\n",
    "    total_results_best_mean = np.zeros((total_results.shape[0]//nb_init_train, 2))\n",
    "    dict_ts_survived_init = {}\n",
    "    for i_val in range(total_results_mean.shape[0]):\n",
    "        pattern = re.compile('.*' + str(i_val) + '$')\n",
    "        index = np.where([re.match(pattern, el) is not None for el in agents_names])[0]\n",
    "        dict_ts_survived_init.update({f\"Agent_{i_val}\" : total_results[index, :, 0].T})\n",
    "        total_results_mean[i_val] = np.mean(total_results[index], axis=0)\n",
    "        total_results_std[i_val] = np.std(total_results[index], axis=0)\n",
    "        total_results_best[index] = np.mean(total_results[index][:, :, [0]] > total_results[index][:, :, [1,2]], axis=1)\n",
    "        total_results_best_mean[i_val] = np.mean(total_results_best[index], axis=0)\n",
    "        \n",
    "else:\n",
    "    total_results_mean = copy.deepcopy(total_results)\n",
    "    total_results_best_mean = np.mean(total_results[:, :, [0]] > total_results[:, :, [1,2]], axis=1)\n",
    "    dict_ts_survived_scenario = {}\n",
    "    for i_val in range(total_results_mean.shape[0]):\n",
    "        dict_ts_survived_scenario.update({f\"Agent_{i_val}\" : total_results[[i_val], :, 0]})\n",
    "    dict_ts_survived_scenario.update({\"DN_Agent\": [total_results_mean[0, :, 1]], \"Reco_Agent\": [total_results_mean[0, :, 2]]})\n"
   ]
  },
  {
   "cell_type": "code",
   "execution_count": 15,
   "metadata": {},
   "outputs": [
    {
     "data": {
      "image/png": "[encoded data removed]",
      "text/plain": [
       "<Figure size 720x360 with 1 Axes>"
      ]
     },
     "metadata": {
      "needs_background": "light"
     },
     "output_type": "display_data"
    }
   ],
   "source": [
    "create_bar_plot({f\"Agent_{i}\" : total_results_mean[i, :, 0] for i in range(total_results_mean.shape[0])},\n",
    "                    total_results_mean[0, :, 1], \n",
    "                    total_results_mean[0, :, 2])\n",
    "\n",
    "if nb_init_train > 1:\n",
    "    create_bar_plot({f\"Agent_{i}\" : total_results_std[i, :, 0] for i in range(total_results_std.shape[0])},\n",
    "                    total_results_std[0, :, 1], \n",
    "                    total_results_std[0, :, 2])\n",
    "    create_box_plot(dict_ts_survived_init, total_results_mean[0, :, 1], total_results_mean[0, :, 2])"
   ]
  },
  {
   "cell_type": "code",
   "execution_count": 17,
   "metadata": {},
   "outputs": [
    {
     "data": {
      "image/png": "[encoded data removed]",
      "text/plain": [
       "<Figure size 720x360 with 1 Axes>"
      ]
     },
     "metadata": {
      "needs_background": "light"
     },
     "output_type": "display_data"
    }
   ],
   "source": [
    "# Un boxplot rassemble nb_scenatio chroniques et correspond à un agent\n",
    "create_box_plot(dict_ts_survived_scenario, [],  [])"
   ]
  },
  {
   "cell_type": "code",
   "execution_count": 18,
   "metadata": {},
   "outputs": [
    {
     "name": "stdout",
     "output_type": "stream",
     "text": [
      "Agent_0 has been better than DN_Agent for 75.0 % of the scenarios\n",
      "Agent_0 has been better than Reco_Agent for 66.66666666666666 % of the scenarios\n",
      "Agent_1 has been better than DN_Agent for 75.0 % of the scenarios\n",
      "Agent_1 has been better than Reco_Agent for 66.66666666666666 % of the scenarios\n"
     ]
    }
   ],
   "source": [
    "for i in range(total_results_best_mean.shape[0]):\n",
    "    print(f\"Agent_{i} has been better than DN_Agent for {total_results_best_mean[i,0]*100} % of the scenarios\")\n",
    "    print(f\"Agent_{i} has been better than Reco_Agent for {total_results_best_mean[i,1]*100} % of the scenarios\")"
   ]
  },
  {
   "cell_type": "markdown",
   "metadata": {},
   "source": [
    "## Varying seeds"
   ]
  },
  {
   "cell_type": "code",
   "execution_count": 50,
   "metadata": {},
   "outputs": [],
   "source": [
    "from grid2op.Agent import RecoPowerlineAgent, DoNothingAgent\n",
    "from grid2op.Runner import Runner\n",
    "from examples.ppo_stable_baselines.C_evaluate_trained_model import load_agent\n",
    "from grid2op.Chronics import MultifolderWithCache\n",
    "from tqdm import tqdm\n",
    "\n",
    "with open(\"./preprocess_obs.json\", \"r\", encoding=\"utf-8\") as f:\n",
    "    obs_space_kwargs = json.load(f)\n",
    "with open(\"./preprocess_act.json\", \"r\", encoding=\"utf-8\") as f:\n",
    "    act_space_kwargs = json.load(f)"
   ]
  },
  {
   "cell_type": "code",
   "execution_count": 69,
   "metadata": {},
   "outputs": [],
   "source": [
    "def vary_seeds(env_name, save_path, nb_scenario, gymenv_class, agents_names=[], gymenv_kwargs={}, nb_init_env_seeds=3, filter_chronics=None, agents_dict = {}, param=p):\n",
    "    env = grid2op.make(env_name,\n",
    "                    reward_class=CustomReward2,\n",
    "                    backend=LightSimBackend(),\n",
    "                    chronics_class=MultifolderWithCache,\n",
    "                    param=param)\n",
    "\n",
    "    agents_dict.update({\"DoNothingAgent\":DoNothingAgent(env.action_space),\n",
    "                    \"RecoPowerlineAgent\":RecoPowerlineAgent(env.action_space)})\n",
    "\n",
    "    agents_dict.update({agent_name:load_agent(env, \n",
    "                                load_path=save_path, \n",
    "                                name=agent_name, \n",
    "                                gymenv_class=gymenv_class, \n",
    "                                gymenv_kwargs=gymenv_kwargs,\n",
    "                                obs_space_kwargs=obs_space_kwargs,\n",
    "                                act_space_kwargs=act_space_kwargs) for agent_name in agents_names})\n",
    "\n",
    "    max_int = np.iinfo(dt_int).max\n",
    "    env_seeds_list=[np.random.randint(low=0,\n",
    "                                high=max_int,\n",
    "                                size=nb_scenario,\n",
    "                                dtype=dt_int) for _ in range(nb_init_env_seeds)]\n",
    "\n",
    "    results_list = []\n",
    "    results_dict = {}\n",
    "    for agent_name, agent in agents_dict.items():\n",
    "        results_dict[agent_name]=[]\n",
    "        for env_seeds in tqdm(env_seeds_list, desc = agent_name):\n",
    "            results = eval_agent(env_name,\n",
    "                        nb_scenario,\n",
    "                        agent_name,\n",
    "                        save_path,\n",
    "                        SCOREUSED,\n",
    "                        gymenv_class,\n",
    "                        verbose=False,\n",
    "                        gymenv_kwargs=gymenv_kwargs,\n",
    "                        param=p,\n",
    "                        filter_fun=filter_chronics,\n",
    "                        env_seeds=env_seeds,\n",
    "                        my_agent=agent)\n",
    "            results_dict[agent_name].append(results[0])\n",
    "            results_list.append([env_seeds, agent_name, results[0]])\n",
    "    results_dict = {k: np.array(v).T for k,v in results_dict.items()}\n",
    "    return results_dict"
   ]
  },
  {
   "cell_type": "code",
   "execution_count": null,
   "metadata": {},
   "outputs": [],
   "source": [
    "agents_names = ['GymEnvWithRecoWithDN_2022-05-20_18-52_learning_rate_0']\n",
    "agents_names = []\n",
    "\n",
    "results_dict = vary_seeds(agents_names=agents_names,\n",
    "                            env_name =env_name_used, \n",
    "                            save_path=save_path, \n",
    "                            gymenv_class=gymenv_class,\n",
    "                            gymenv_kwargs=train_args[\"gymenv_kwargs\"] if var_to_test!=\"gymenv_kwargs\" else values_to_test[i],\n",
    "                            nb_scenario=nb_scenario,\n",
    "                            filter_chronics=filter_chronics,\n",
    "                            nb_init_env_seeds=1,\n",
    "                            agents_dict={}\n",
    "                            )"
   ]
  },
  {
   "cell_type": "code",
   "execution_count": 53,
   "metadata": {},
   "outputs": [
    {
     "data": {
      "image/png": "[encoded data removed]",
      "text/plain": [
       "<Figure size 720x360 with 1 Axes>"
      ]
     },
     "metadata": {
      "needs_background": "light"
     },
     "output_type": "display_data"
    },
    {
     "data": {
      "text/plain": [
       "({'GymEnvWithRecoWithDN_2022-05-20_18-52_learning_rate_0': array([[121],\n",
       "         [  3],\n",
       "         [105],\n",
       "         [120]]),\n",
       "  'DoNothingAgent': array([[ 86],\n",
       "         [  3],\n",
       "         [115],\n",
       "         [142]]),\n",
       "  'RecoPowerlineAgent': array([[ 86],\n",
       "         [  3],\n",
       "         [115],\n",
       "         [142]])},\n",
       " None)"
      ]
     },
     "execution_count": 53,
     "metadata": {},
     "output_type": "execute_result"
    }
   ],
   "source": [
    "results_dict, create_box_plot(results_dict, [], [])"
   ]
  },
  {
   "cell_type": "code",
   "execution_count": 19,
   "metadata": {},
   "outputs": [],
   "source": [
    "# create_bar_plot({k:el.T[0] for k,el in results_dict.items()}, [], [])"
   ]
  },
  {
   "cell_type": "code",
   "execution_count": null,
   "metadata": {},
   "outputs": [],
   "source": []
  }
 ],
 "metadata": {
  "interpreter": {
   "hash": "c4f61d462cb5c7869e4a197937948bf593da4f031038557c2fa13a5c9eff1b5f"
  },
  "kernelspec": {
   "display_name": "Python 3.8.13 ('baselines_dev')",
   "language": "python",
   "name": "python3"
  },
  "language_info": {
   "codemirror_mode": {
    "name": "ipython",
    "version": 3
   },
   "file_extension": ".py",
   "mimetype": "text/x-python",
   "name": "python",
   "nbconvert_exporter": "python",
   "pygments_lexer": "ipython3",
   "version": "3.8.13"
  },
  "orig_nbformat": 4
 },
 "nbformat": 4,
 "nbformat_minor": 2
}
