{
 "cells": [
  {
   "cell_type": "code",
   "execution_count": 1,
   "metadata": {},
   "outputs": [],
   "source": [
    "from utils import *\n",
    "import os\n",
    "from grid2op.utils import ScoreL2RPN2020\n",
    "from CustomGymEnv import CustomGymEnv"
   ]
  },
  {
   "cell_type": "markdown",
   "metadata": {},
   "source": [
    "### Parameters of the agents to evaluate"
   ]
  },
  {
   "cell_type": "code",
   "execution_count": 2,
   "metadata": {},
   "outputs": [
    {
     "data": {
      "text/plain": [
       "['expe_GymEnvWithRecoWithDN_2022_learning_rate_1']"
      ]
     },
     "execution_count": 2,
     "metadata": {},
     "output_type": "execute_result"
    }
   ],
   "source": [
    "save_path = \"./saved_model/\"\n",
    "ENV_NAME = \"l2rpn_wcci_2022_dev_val\"\n",
    "SCOREUSED = ScoreL2RPN2020\n",
    "gymenv_class = CustomGymEnv\n",
    "verbose = True\n",
    "p = Parameters()\n",
    "p.LIMIT_INFEASIBLE_CURTAILMENT_STORAGE_ACTION = True # It causes errors during training\n",
    "filter_chronics = None\n",
    "\n",
    "train_args = {}\n",
    "train_args[\"gymenv_kwargs\"] = {\"safe_max_rho\": 0.9}\n",
    "\n",
    "values_to_test = np.array([3e-5, 3e-4])\n",
    "var_to_test = \"learning_rate\"\n",
    "\n",
    "agents_names = [[d for d in os.listdir(save_path) if os.path.isdir(save_path + d)][0]]\n",
    "agents_names"
   ]
  },
  {
   "cell_type": "markdown",
   "metadata": {},
   "source": [
    "### Evaluation"
   ]
  },
  {
   "cell_type": "code",
   "execution_count": 3,
   "metadata": {},
   "outputs": [
    {
     "ename": "KeyError",
     "evalue": "'2'",
     "output_type": "error",
     "traceback": [
      "\u001b[0;31m---------------------------------------------------------------------------\u001b[0m",
      "\u001b[0;31mKeyError\u001b[0m                                  Traceback (most recent call last)",
      "\u001b[1;32m/Users/gaetanserre/Documents/Projects/L2RPN-WCCI-Baselines/RL/eval.ipynb Cell 5'\u001b[0m in \u001b[0;36m<cell line: 1>\u001b[0;34m()\u001b[0m\n\u001b[1;32m      <a href='vscode-notebook-cell:/Users/gaetanserre/Documents/Projects/L2RPN-WCCI-Baselines/RL/eval.ipynb#ch0000004?line=0'>1</a>\u001b[0m \u001b[39mfor\u001b[39;00m i, agent_name \u001b[39min\u001b[39;00m \u001b[39menumerate\u001b[39m(agents_names):\n\u001b[0;32m----> <a href='vscode-notebook-cell:/Users/gaetanserre/Documents/Projects/L2RPN-WCCI-Baselines/RL/eval.ipynb#ch0000004?line=1'>2</a>\u001b[0m   results \u001b[39m=\u001b[39m eval_agent(ENV_NAME,\n\u001b[1;32m      <a href='vscode-notebook-cell:/Users/gaetanserre/Documents/Projects/L2RPN-WCCI-Baselines/RL/eval.ipynb#ch0000004?line=2'>3</a>\u001b[0m             \u001b[39m21\u001b[39;49m,\n\u001b[1;32m      <a href='vscode-notebook-cell:/Users/gaetanserre/Documents/Projects/L2RPN-WCCI-Baselines/RL/eval.ipynb#ch0000004?line=3'>4</a>\u001b[0m             agent_name,\n\u001b[1;32m      <a href='vscode-notebook-cell:/Users/gaetanserre/Documents/Projects/L2RPN-WCCI-Baselines/RL/eval.ipynb#ch0000004?line=4'>5</a>\u001b[0m             save_path,\n\u001b[1;32m      <a href='vscode-notebook-cell:/Users/gaetanserre/Documents/Projects/L2RPN-WCCI-Baselines/RL/eval.ipynb#ch0000004?line=5'>6</a>\u001b[0m             SCOREUSED,\n\u001b[1;32m      <a href='vscode-notebook-cell:/Users/gaetanserre/Documents/Projects/L2RPN-WCCI-Baselines/RL/eval.ipynb#ch0000004?line=6'>7</a>\u001b[0m             gymenv_class,\n\u001b[1;32m      <a href='vscode-notebook-cell:/Users/gaetanserre/Documents/Projects/L2RPN-WCCI-Baselines/RL/eval.ipynb#ch0000004?line=7'>8</a>\u001b[0m             verbose,\n\u001b[1;32m      <a href='vscode-notebook-cell:/Users/gaetanserre/Documents/Projects/L2RPN-WCCI-Baselines/RL/eval.ipynb#ch0000004?line=8'>9</a>\u001b[0m             gymenv_kwargs\u001b[39m=\u001b[39;49mtrain_args[\u001b[39m\"\u001b[39;49m\u001b[39mgymenv_kwargs\u001b[39;49m\u001b[39m\"\u001b[39;49m] \u001b[39mif\u001b[39;49;00m var_to_test\u001b[39m!=\u001b[39;49m\u001b[39m\"\u001b[39;49m\u001b[39mgymenv_kwargs\u001b[39;49m\u001b[39m\"\u001b[39;49m \u001b[39melse\u001b[39;49;00m values_to_test[i],\n\u001b[1;32m     <a href='vscode-notebook-cell:/Users/gaetanserre/Documents/Projects/L2RPN-WCCI-Baselines/RL/eval.ipynb#ch0000004?line=9'>10</a>\u001b[0m             param\u001b[39m=\u001b[39;49mp,\n\u001b[1;32m     <a href='vscode-notebook-cell:/Users/gaetanserre/Documents/Projects/L2RPN-WCCI-Baselines/RL/eval.ipynb#ch0000004?line=10'>11</a>\u001b[0m             filter_fun\u001b[39m=\u001b[39;49mfilter_chronics)\n\u001b[1;32m     <a href='vscode-notebook-cell:/Users/gaetanserre/Documents/Projects/L2RPN-WCCI-Baselines/RL/eval.ipynb#ch0000004?line=11'>12</a>\u001b[0m   create_bar_plot(\u001b[39m*\u001b[39mresults)\n",
      "File \u001b[0;32m~/Documents/Projects/L2RPN-WCCI-Baselines/RL/utils.py:207\u001b[0m, in \u001b[0;36meval_agent\u001b[0;34m(env_name, nb_scenario, agent_name, load_path, SCOREUSED, gymenv_class, verbose, nb_process_stats, gymenv_kwargs, param, filter_fun)\u001b[0m\n\u001b[1;32m    <a href='file:///Users/gaetanserre/Documents/Projects/L2RPN-WCCI-Baselines/RL/utils.py?line=203'>204</a>\u001b[0m   env_val\u001b[39m.\u001b[39mchronics_handler\u001b[39m.\u001b[39mreal_data\u001b[39m.\u001b[39mreset()\n\u001b[1;32m    <a href='file:///Users/gaetanserre/Documents/Projects/L2RPN-WCCI-Baselines/RL/utils.py?line=205'>206</a>\u001b[0m \u001b[39m# retrieve the reference data\u001b[39;00m\n\u001b[0;32m--> <a href='file:///Users/gaetanserre/Documents/Projects/L2RPN-WCCI-Baselines/RL/utils.py?line=206'>207</a>\u001b[0m dn_ts_survived \u001b[39m=\u001b[39m get_ts_survived_dn(env_name, nb_scenario)\n\u001b[1;32m    <a href='file:///Users/gaetanserre/Documents/Projects/L2RPN-WCCI-Baselines/RL/utils.py?line=207'>208</a>\u001b[0m reco_ts_survived \u001b[39m=\u001b[39m get_ts_survived_reco(env_name, nb_scenario)\n\u001b[1;32m    <a href='file:///Users/gaetanserre/Documents/Projects/L2RPN-WCCI-Baselines/RL/utils.py?line=209'>210</a>\u001b[0m my_score \u001b[39m=\u001b[39m SCOREUSED(env_val,\n\u001b[1;32m    <a href='file:///Users/gaetanserre/Documents/Projects/L2RPN-WCCI-Baselines/RL/utils.py?line=210'>211</a>\u001b[0m                       nb_scenario\u001b[39m=\u001b[39mnb_scenario,\n\u001b[1;32m    <a href='file:///Users/gaetanserre/Documents/Projects/L2RPN-WCCI-Baselines/RL/utils.py?line=211'>212</a>\u001b[0m                       env_seeds\u001b[39m=\u001b[39mget_env_seed(env_name)[:nb_scenario],\n\u001b[1;32m    <a href='file:///Users/gaetanserre/Documents/Projects/L2RPN-WCCI-Baselines/RL/utils.py?line=212'>213</a>\u001b[0m                       agent_seeds\u001b[39m=\u001b[39m[\u001b[39m0\u001b[39m \u001b[39mfor\u001b[39;00m _ \u001b[39min\u001b[39;00m \u001b[39mrange\u001b[39m(nb_scenario)],\n\u001b[1;32m    <a href='file:///Users/gaetanserre/Documents/Projects/L2RPN-WCCI-Baselines/RL/utils.py?line=213'>214</a>\u001b[0m                       verbose\u001b[39m=\u001b[39mverbose,\n\u001b[1;32m    <a href='file:///Users/gaetanserre/Documents/Projects/L2RPN-WCCI-Baselines/RL/utils.py?line=214'>215</a>\u001b[0m                       nb_process_stats\u001b[39m=\u001b[39mnb_process_stats)\n",
      "File \u001b[0;32m~/Documents/Projects/L2RPN-WCCI-Baselines/RL/examples/ppo_stable_baselines/C_evaluate_trained_model.py:50\u001b[0m, in \u001b[0;36mget_ts_survived_dn\u001b[0;34m(env_name, nb_scenario)\u001b[0m\n\u001b[1;32m     <a href='file:///Users/gaetanserre/Documents/Projects/L2RPN-WCCI-Baselines/RL/examples/ppo_stable_baselines/C_evaluate_trained_model.py?line=47'>48</a>\u001b[0m res \u001b[39m=\u001b[39m []\n\u001b[1;32m     <a href='file:///Users/gaetanserre/Documents/Projects/L2RPN-WCCI-Baselines/RL/examples/ppo_stable_baselines/C_evaluate_trained_model.py?line=48'>49</a>\u001b[0m \u001b[39mfor\u001b[39;00m kk \u001b[39min\u001b[39;00m \u001b[39mrange\u001b[39m(nb_scenario):\n\u001b[0;32m---> <a href='file:///Users/gaetanserre/Documents/Projects/L2RPN-WCCI-Baselines/RL/examples/ppo_stable_baselines/C_evaluate_trained_model.py?line=49'>50</a>\u001b[0m     tmp_ \u001b[39m=\u001b[39m dict_[\u001b[39mf\u001b[39;49m\u001b[39m\"\u001b[39;49m\u001b[39m{\u001b[39;49;00mkk\u001b[39m}\u001b[39;49;00m\u001b[39m\"\u001b[39;49m][\u001b[39m\"\u001b[39m\u001b[39mnb_step\u001b[39m\u001b[39m\"\u001b[39m]\n\u001b[1;32m     <a href='file:///Users/gaetanserre/Documents/Projects/L2RPN-WCCI-Baselines/RL/examples/ppo_stable_baselines/C_evaluate_trained_model.py?line=50'>51</a>\u001b[0m     res\u001b[39m.\u001b[39mappend(tmp_)\n\u001b[1;32m     <a href='file:///Users/gaetanserre/Documents/Projects/L2RPN-WCCI-Baselines/RL/examples/ppo_stable_baselines/C_evaluate_trained_model.py?line=51'>52</a>\u001b[0m res \u001b[39m=\u001b[39m np\u001b[39m.\u001b[39marray(res)\n",
      "\u001b[0;31mKeyError\u001b[0m: '2'"
     ]
    }
   ],
   "source": [
    "for i, agent_name in enumerate(agents_names):\n",
    "  results = eval_agent(ENV_NAME,\n",
    "            21,\n",
    "            agent_name,\n",
    "            save_path,\n",
    "            SCOREUSED,\n",
    "            gymenv_class,\n",
    "            verbose,\n",
    "            gymenv_kwargs=train_args[\"gymenv_kwargs\"] if var_to_test!=\"gymenv_kwargs\" else values_to_test[i],\n",
    "            param=p,\n",
    "            filter_fun=filter_chronics)\n",
    "  create_bar_plot(*results)"
   ]
  },
  {
   "cell_type": "code",
   "execution_count": null,
   "metadata": {},
   "outputs": [],
   "source": []
  }
 ],
 "metadata": {
  "interpreter": {
   "hash": "91a35dfe52835051810f52e811c447a0465b76bfe18baf308825e1f156f0fde9"
  },
  "kernelspec": {
   "display_name": "Python 3.9.11 ('L2RPN')",
   "language": "python",
   "name": "python3"
  },
  "language_info": {
   "codemirror_mode": {
    "name": "ipython",
    "version": 3
   },
   "file_extension": ".py",
   "mimetype": "text/x-python",
   "name": "python",
   "nbconvert_exporter": "python",
   "pygments_lexer": "ipython3",
   "version": "3.9.11"
  },
  "orig_nbformat": 4
 },
 "nbformat": 4,
 "nbformat_minor": 2
}
