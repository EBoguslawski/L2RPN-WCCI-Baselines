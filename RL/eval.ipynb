{
 "cells": [
  {
   "cell_type": "code",
   "execution_count": 1,
   "metadata": {},
   "outputs": [],
   "source": [
    "from utils import *\n",
    "import os\n",
    "from grid2op.utils import ScoreL2RPN2022\n",
    "from l2rpn_baselines.utils import GymEnvWithRecoWithDN\n",
    "from l2rpn_baselines.utils.gymenv_custom import GymEnvWithHeuristics\n",
    "from CustomGymEnv import CustomGymEnv\n",
    "import numpy as np\n",
    "import re\n",
    "import copy"
   ]
  },
  {
   "cell_type": "code",
   "execution_count": 2,
   "metadata": {},
   "outputs": [],
   "source": [
    "import pandas as pd\n",
    "import matplotlib.pyplot as plt\n",
    "import seaborn as sns"
   ]
  },
  {
   "cell_type": "code",
   "execution_count": 3,
   "metadata": {},
   "outputs": [],
   "source": [
    "def create_bar_plot(dict_ts_survived, dn_ts_survived=[], reco_ts_survived=[], path=None):\n",
    "  scenarios = [i+1 for i in range(len(list(dict_ts_survived.values())[0]))] + [\"Mean\"]\n",
    "  d = {\"Scenarios\": scenarios}\n",
    "  \n",
    "  if len(dn_ts_survived)>0:\n",
    "    d.update({\"Do Nothing\": np.append(dn_ts_survived, dn_ts_survived.mean())})\n",
    "  if len(reco_ts_survived)>0:\n",
    "    d.update({\"Reco\": np.append(reco_ts_survived, reco_ts_survived.mean())})\n",
    "\n",
    "  for key, value in dict_ts_survived.items():\n",
    "    dict_ts_survived[key] = np.append(value, value.mean())\n",
    "\n",
    "  d.update(dict_ts_survived)\n",
    "       \n",
    "  df = pd.DataFrame(d)\n",
    "  tidy = df.melt(id_vars=\"Scenarios\").rename(columns=str.title)\n",
    "  tidy.rename(columns={\"Value\": \"Survived steps\", \"Variable\": \"Agents\"}, inplace=True)\n",
    "  fig, ax1 = plt.subplots(figsize=(10, 5))\n",
    "  sns.barplot(x=\"Scenarios\", y=\"Survived steps\", hue=\"Agents\", data=tidy, palette=(\"magma\"), ax=ax1)\n",
    "  ax1.axhline(2017, color=\"black\", label=\"Maximum time steps\")\n",
    "  plt.legend()\n",
    "  sns.despine(fig)\n",
    "  if path is not None:\n",
    "    plt.savefig(path)\n",
    "  plt.show()"
   ]
  },
  {
   "cell_type": "code",
   "execution_count": 4,
   "metadata": {},
   "outputs": [],
   "source": [
    "import seaborn as sns\n",
    "\n",
    "def create_box_plot(dict_ts_survived, dn_ts_survived, reco_ts_survived, path=None):\n",
    "  d = {\"Scenarios\": [],\n",
    "       \"Agents\": [],\n",
    "       \"Survived steps\": []}\n",
    "\n",
    "  for i, v in enumerate(dn_ts_survived):\n",
    "    d[\"Scenarios\"].append(i)\n",
    "    d[\"Agents\"].append(\"DN\")\n",
    "    d[\"Survived steps\"].append(v)\n",
    "  \n",
    "  for i, v in enumerate(reco_ts_survived):\n",
    "    d[\"Scenarios\"].append(i)\n",
    "    d[\"Agents\"].append(\"Reco\")\n",
    "    d[\"Survived steps\"].append(v)\n",
    "\n",
    "  for key, scenarios in dict_ts_survived.items():\n",
    "    for i, values in enumerate(scenarios):\n",
    "      for v in values:\n",
    "        d[\"Scenarios\"].append(i)\n",
    "        d[\"Agents\"].append(key)\n",
    "        d[\"Survived steps\"].append(v)\n",
    "\n",
    "  df = pd.DataFrame(d)\n",
    "\n",
    "  fig, ax1 = plt.subplots(figsize=(10, 5))\n",
    "  sns.boxplot(x=\"Scenarios\", y=\"Survived steps\", hue=\"Agents\", data=df, palette=(\"magma\"), ax=ax1)\n",
    "  ax1.axhline(2017, color=\"black\", label=\"Maximum time steps\")\n",
    "  plt.legend()\n",
    "  sns.despine(fig)\n",
    "  if path is not None:\n",
    "    plt.savefig(path)\n",
    "  plt.show()"
   ]
  },
  {
   "cell_type": "markdown",
   "metadata": {},
   "source": [
    "### Parameters of the agents to evaluate"
   ]
  },
  {
   "cell_type": "code",
   "execution_count": 5,
   "metadata": {},
   "outputs": [
    {
     "data": {
      "text/plain": [
       "'PPO_agent'"
      ]
     },
     "execution_count": 5,
     "metadata": {},
     "output_type": "execute_result"
    }
   ],
   "source": [
    "save_path = \"./saved_model/\"\n",
    "ENV_NAME = \"input_data_local\"\n",
    "SCOREUSED = ScoreL2RPN2022\n",
    "gymenv_class = CustomGymEnv\n",
    "verbose = False\n",
    "p = Parameters()\n",
    "p.LIMIT_INFEASIBLE_CURTAILMENT_STORAGE_ACTION = True # It causes errors during training\n",
    "  \n",
    "train_args = {}\n",
    "train_args[\"gymenv_kwargs\"] = {\"safe_max_rho\": 0.2}\n",
    "\n",
    "values_to_test = np.array([1e-5, 3e-5, 1e-4])\n",
    "var_to_test = \"learning_rate\"\n",
    "\n",
    "agents_names = [d for d in os.listdir(save_path) if os.path.isdir(save_path + d)][1]\n",
    "agents_names"
   ]
  },
  {
   "cell_type": "code",
   "execution_count": 6,
   "metadata": {},
   "outputs": [],
   "source": [
    "def filter_chronics(x):\n",
    "  # list_chronics = [\"2050-01-03_31\",\n",
    "  #                  \"2050-02-21_31\",\n",
    "  #                  \"2050-03-07_31\",\n",
    "  #                  \"2050-04-18_31\"] # Names of chronics to keep\n",
    "  list_chronics = [\"2050-01-03_31\",\n",
    "                      \"2050-02-21_31\",\n",
    "                      \"2050-03-07_31\",\n",
    "                      \"2050-04-18_31\",\n",
    "                      \"2050-05-09_31\",\n",
    "                      \"2050-06-27_31\",\n",
    "                      \"2050-07-25_31\",\n",
    "                      \"2050-08-01_31\",\n",
    "                      \"2050-09-26_31\",\n",
    "                      \"2050-10-03_31\",\n",
    "                      \"2050-11-14_31\",\n",
    "                      \"2050-12-19_31\",\n",
    "                      ] # Names of chronics to keep\n",
    "\n",
    "  p = re.compile(\".*(\" + '|'.join([c + '$' for c in list_chronics]) + \")\")\n",
    "  return re.match(p, x) is not None\n",
    "\n",
    "filter_chronics = None\n",
    "\n",
    "env_name_used = ENV_NAME if filter_chronics is None else ENV_NAME\n",
    "nb_scenario = 52 if filter_chronics is None else 12 #4"
   ]
  },
  {
   "cell_type": "markdown",
   "metadata": {},
   "source": [
    "### Evaluation"
   ]
  },
  {
   "cell_type": "code",
   "execution_count": 7,
   "metadata": {},
   "outputs": [],
   "source": [
    "from l2rpn_baselines.OptimCVXPY import OptimCVXPY\n",
    "env = grid2op.make(env_name_used,\n",
    "                   backend=LightSimBackend()\n",
    "                   )\n",
    "\n",
    "agent = OptimCVXPY(env.action_space,\n",
    "                   env,\n",
    "                   penalty_redispatching_unsafe=0.,\n",
    "                   penalty_storage_unsafe=0.01,\n",
    "                   penalty_curtailment_unsafe=0.01,\n",
    "                   )"
   ]
  },
  {
   "cell_type": "code",
   "execution_count": 8,
   "metadata": {},
   "outputs": [],
   "source": [
    "agents_names = ['PPO_agent']\n",
    "# agents_names = [el for el in os.listdir(save_path) if re.match(r'GymEnv.*', el) is not None]\n",
    "# agents_names = []\n",
    "\n",
    "agents_dict = {\"PPO_agent\":None}"
   ]
  },
  {
   "cell_type": "code",
   "execution_count": 9,
   "metadata": {},
   "outputs": [],
   "source": [
    "generate_statistics([\"input_data_local\"], SCOREUSED, 1, \"_reco_powerline\", True, filter_fun=None)"
   ]
  },
  {
   "cell_type": "code",
   "execution_count": 10,
   "metadata": {},
   "outputs": [],
   "source": [
    "agent_ts, dn_ts , _ = eval_agent(\"input_data_local\",\n",
    "            52,\n",
    "            \"PPO_agent\",\n",
    "            save_path,\n",
    "            SCOREUSED,\n",
    "            verbose,\n",
    "            gymenv_class,\n",
    "            gymenv_kwargs=train_args[\"gymenv_kwargs\"],\n",
    "            param=p,\n",
    "            filter_fun=filter_chronics)"
   ]
  },
  {
   "cell_type": "code",
   "execution_count": 12,
   "metadata": {},
   "outputs": [
    {
     "data": {
      "text/plain": [
       "(674.2884615384615, 371.78846153846155)"
      ]
     },
     "execution_count": 12,
     "metadata": {},
     "output_type": "execute_result"
    }
   ],
   "source": [
    "np.array(agent_ts).mean(), np.array(dn_ts).mean()"
   ]
  },
  {
   "cell_type": "code",
   "execution_count": 13,
   "metadata": {},
   "outputs": [],
   "source": [
    "with open(\"./preprocess_obs.json\", \"r\", encoding=\"utf-8\") as f:\n",
    "  obs_space_kwargs = json.load(f)\n",
    "with open(\"./preprocess_act.json\", \"r\", encoding=\"utf-8\") as f:\n",
    "  act_space_kwargs = json.load(f)"
   ]
  },
  {
   "cell_type": "code",
   "execution_count": null,
   "metadata": {},
   "outputs": [],
   "source": [
    "env = grid2op.make(ENV_NAME, param=p)"
   ]
  },
  {
   "cell_type": "code",
   "execution_count": null,
   "metadata": {},
   "outputs": [],
   "source": [
    "my_agent = load_agent(env,\n",
    "                      load_path=save_path,\n",
    "                      name=\"PPO_agent\",\n",
    "                      gymenv_class=gymenv_class,\n",
    "                      gymenv_kwargs=train_args[\"gymenv_kwargs\"],\n",
    "                      obs_space_kwargs=obs_space_kwargs,\n",
    "                      act_space_kwargs=act_space_kwargs)"
   ]
  },
  {
   "cell_type": "code",
   "execution_count": null,
   "metadata": {},
   "outputs": [],
   "source": [
    "score = ScoreL2RPN2022(env, nb_scenario=52)"
   ]
  },
  {
   "cell_type": "code",
   "execution_count": null,
   "metadata": {},
   "outputs": [
    {
     "data": {
      "text/plain": [
       "([-99.8722945906222,\n",
       "  -86.96500788405135,\n",
       "  -98.64368916546992,\n",
       "  1.7058306358497788,\n",
       "  -53.30551107995187,\n",
       "  0.38814065070434367,\n",
       "  -67.20747690488629,\n",
       "  -98.75017345561429,\n",
       "  -96.33342209424605,\n",
       "  -99.2917440493695,\n",
       "  -99.23263709837003,\n",
       "  -14.781802048882795,\n",
       "  -81.96633525890412,\n",
       "  -83.73788000667525,\n",
       "  -83.66643532726502,\n",
       "  1.6253184347529128,\n",
       "  -91.83032337269913,\n",
       "  -99.7495989944769,\n",
       "  15.490552985945385,\n",
       "  -85.32436248857879,\n",
       "  -99.3843734744156,\n",
       "  -99.8373327777574,\n",
       "  -94.12939549218372,\n",
       "  -43.909581153324886,\n",
       "  -99.94238260997858,\n",
       "  -87.43547919702065,\n",
       "  -99.74528531493475,\n",
       "  4.523730421899302,\n",
       "  -99.7718078791865,\n",
       "  -99.087223649091,\n",
       "  -99.92287490281859,\n",
       "  -52.6777892216951,\n",
       "  -99.18996237445194,\n",
       "  -99.23622430690357,\n",
       "  -99.75997808650241,\n",
       "  -99.91091432667534,\n",
       "  -99.76852559835987,\n",
       "  -67.87067838827879,\n",
       "  -99.7291516549822,\n",
       "  -99.90476975205979,\n",
       "  -99.86806938087572,\n",
       "  -98.36182340669517,\n",
       "  -99.21975822834847,\n",
       "  -84.89073787626376,\n",
       "  -99.85911516742682,\n",
       "  -99.81895747066673,\n",
       "  -99.75775753968504,\n",
       "  -97.76445764862035,\n",
       "  -99.14110384513502,\n",
       "  -98.77801684713015,\n",
       "  -98.58791282513273,\n",
       "  -99.76803144693017],\n",
       " [1,\n",
       "  73,\n",
       "  1,\n",
       "  72,\n",
       "  13,\n",
       "  39,\n",
       "  55,\n",
       "  1,\n",
       "  1,\n",
       "  1,\n",
       "  1,\n",
       "  104,\n",
       "  49,\n",
       "  25,\n",
       "  37,\n",
       "  107,\n",
       "  37,\n",
       "  1,\n",
       "  505,\n",
       "  112,\n",
       "  1,\n",
       "  1,\n",
       "  73,\n",
       "  128,\n",
       "  1,\n",
       "  82,\n",
       "  1,\n",
       "  229,\n",
       "  1,\n",
       "  1,\n",
       "  1,\n",
       "  67,\n",
       "  1,\n",
       "  1,\n",
       "  1,\n",
       "  1,\n",
       "  1,\n",
       "  241,\n",
       "  1,\n",
       "  1,\n",
       "  1,\n",
       "  13,\n",
       "  1,\n",
       "  37,\n",
       "  1,\n",
       "  1,\n",
       "  1,\n",
       "  1,\n",
       "  1,\n",
       "  1,\n",
       "  1,\n",
       "  1],\n",
       " [2017,\n",
       "  2017,\n",
       "  2017,\n",
       "  2017,\n",
       "  2017,\n",
       "  2017,\n",
       "  2017,\n",
       "  2017,\n",
       "  2017,\n",
       "  2017,\n",
       "  2017,\n",
       "  2017,\n",
       "  2017,\n",
       "  2017,\n",
       "  2017,\n",
       "  2017,\n",
       "  2017,\n",
       "  2017,\n",
       "  2017,\n",
       "  2017,\n",
       "  2017,\n",
       "  2017,\n",
       "  2017,\n",
       "  2017,\n",
       "  2017,\n",
       "  2017,\n",
       "  2017,\n",
       "  2017,\n",
       "  2017,\n",
       "  2017,\n",
       "  2017,\n",
       "  2017,\n",
       "  2017,\n",
       "  2017,\n",
       "  2017,\n",
       "  2017,\n",
       "  2017,\n",
       "  2017,\n",
       "  2017,\n",
       "  2017,\n",
       "  2017,\n",
       "  2017,\n",
       "  2017,\n",
       "  2017,\n",
       "  2017,\n",
       "  2017,\n",
       "  2017,\n",
       "  2017,\n",
       "  2017,\n",
       "  2017,\n",
       "  2017,\n",
       "  2017])"
      ]
     },
     "execution_count": 28,
     "metadata": {},
     "output_type": "execute_result"
    }
   ],
   "source": [
    "scores, _, _ = score.get(my_agent)"
   ]
  },
  {
   "cell_type": "code",
   "execution_count": null,
   "metadata": {},
   "outputs": [],
   "source": [
    "scores.mean()"
   ]
  },
  {
   "cell_type": "code",
   "execution_count": 8,
   "metadata": {},
   "outputs": [
    {
     "ename": "TypeError",
     "evalue": "'bool' object is not callable",
     "output_type": "error",
     "traceback": [
      "\u001b[0;31m---------------------------------------------------------------------------\u001b[0m",
      "\u001b[0;31mTypeError\u001b[0m                                 Traceback (most recent call last)",
      "\u001b[1;32m/Users/gaetanserre/Documents/Projects/L2RPN-WCCI-Baselines/RL/eval.ipynb Cell 11'\u001b[0m in \u001b[0;36m<cell line: 4>\u001b[0;34m()\u001b[0m\n\u001b[1;32m      <a href='vscode-notebook-cell:/Users/gaetanserre/Documents/Projects/L2RPN-WCCI-Baselines/RL/eval.ipynb#ch0000010?line=2'>3</a>\u001b[0m total_results \u001b[39m=\u001b[39m np\u001b[39m.\u001b[39mzeros((\u001b[39mlen\u001b[39m(agents_dict), nb_scenario, \u001b[39m3\u001b[39m))\n\u001b[1;32m      <a href='vscode-notebook-cell:/Users/gaetanserre/Documents/Projects/L2RPN-WCCI-Baselines/RL/eval.ipynb#ch0000010?line=3'>4</a>\u001b[0m \u001b[39mfor\u001b[39;00m i, (agent_name, my_agent) \u001b[39min\u001b[39;00m \u001b[39menumerate\u001b[39m(agents_dict\u001b[39m.\u001b[39mitems()):\n\u001b[0;32m----> <a href='vscode-notebook-cell:/Users/gaetanserre/Documents/Projects/L2RPN-WCCI-Baselines/RL/eval.ipynb#ch0000010?line=4'>5</a>\u001b[0m   results \u001b[39m=\u001b[39m eval_agent(env_name_used,\n\u001b[1;32m      <a href='vscode-notebook-cell:/Users/gaetanserre/Documents/Projects/L2RPN-WCCI-Baselines/RL/eval.ipynb#ch0000010?line=5'>6</a>\u001b[0m             nb_scenario,\n\u001b[1;32m      <a href='vscode-notebook-cell:/Users/gaetanserre/Documents/Projects/L2RPN-WCCI-Baselines/RL/eval.ipynb#ch0000010?line=6'>7</a>\u001b[0m             agent_name,\n\u001b[1;32m      <a href='vscode-notebook-cell:/Users/gaetanserre/Documents/Projects/L2RPN-WCCI-Baselines/RL/eval.ipynb#ch0000010?line=7'>8</a>\u001b[0m             save_path,\n\u001b[1;32m      <a href='vscode-notebook-cell:/Users/gaetanserre/Documents/Projects/L2RPN-WCCI-Baselines/RL/eval.ipynb#ch0000010?line=8'>9</a>\u001b[0m             SCOREUSED,\n\u001b[1;32m     <a href='vscode-notebook-cell:/Users/gaetanserre/Documents/Projects/L2RPN-WCCI-Baselines/RL/eval.ipynb#ch0000010?line=9'>10</a>\u001b[0m             gymenv_class,\n\u001b[1;32m     <a href='vscode-notebook-cell:/Users/gaetanserre/Documents/Projects/L2RPN-WCCI-Baselines/RL/eval.ipynb#ch0000010?line=10'>11</a>\u001b[0m             verbose,\n\u001b[1;32m     <a href='vscode-notebook-cell:/Users/gaetanserre/Documents/Projects/L2RPN-WCCI-Baselines/RL/eval.ipynb#ch0000010?line=11'>12</a>\u001b[0m             gymenv_kwargs\u001b[39m=\u001b[39;49mtrain_args[\u001b[39m\"\u001b[39;49m\u001b[39mgymenv_kwargs\u001b[39;49m\u001b[39m\"\u001b[39;49m] \u001b[39mif\u001b[39;49;00m var_to_test\u001b[39m!=\u001b[39;49m\u001b[39m\"\u001b[39;49m\u001b[39mgymenv_kwargs\u001b[39;49m\u001b[39m\"\u001b[39;49m \u001b[39melse\u001b[39;49;00m values_to_test[i],\n\u001b[1;32m     <a href='vscode-notebook-cell:/Users/gaetanserre/Documents/Projects/L2RPN-WCCI-Baselines/RL/eval.ipynb#ch0000010?line=12'>13</a>\u001b[0m             param\u001b[39m=\u001b[39;49mp,\n\u001b[1;32m     <a href='vscode-notebook-cell:/Users/gaetanserre/Documents/Projects/L2RPN-WCCI-Baselines/RL/eval.ipynb#ch0000010?line=13'>14</a>\u001b[0m             filter_fun\u001b[39m=\u001b[39;49mfilter_chronics,\n\u001b[1;32m     <a href='vscode-notebook-cell:/Users/gaetanserre/Documents/Projects/L2RPN-WCCI-Baselines/RL/eval.ipynb#ch0000010?line=14'>15</a>\u001b[0m             my_agent\u001b[39m=\u001b[39;49mmy_agent\n\u001b[1;32m     <a href='vscode-notebook-cell:/Users/gaetanserre/Documents/Projects/L2RPN-WCCI-Baselines/RL/eval.ipynb#ch0000010?line=15'>16</a>\u001b[0m             )\n\u001b[1;32m     <a href='vscode-notebook-cell:/Users/gaetanserre/Documents/Projects/L2RPN-WCCI-Baselines/RL/eval.ipynb#ch0000010?line=16'>17</a>\u001b[0m   \u001b[39mfor\u001b[39;00m k \u001b[39min\u001b[39;00m \u001b[39mrange\u001b[39m(\u001b[39m3\u001b[39m):\n\u001b[1;32m     <a href='vscode-notebook-cell:/Users/gaetanserre/Documents/Projects/L2RPN-WCCI-Baselines/RL/eval.ipynb#ch0000010?line=17'>18</a>\u001b[0m     total_results[i, :, k]\u001b[39m=\u001b[39mnp\u001b[39m.\u001b[39marray(results[k])\n",
      "File \u001b[0;32m~/Documents/Projects/L2RPN-WCCI-Baselines/RL/utils.py:269\u001b[0m, in \u001b[0;36meval_agent\u001b[0;34m(env_name, nb_scenario, agent_name, load_path, SCOREUSED, verbose, gymenv_class, nb_process_stats, gymenv_kwargs, param, filter_fun, my_agent, env_seeds, agent_seeds)\u001b[0m\n\u001b[1;32m    266\u001b[0m   act_space_kwargs \u001b[39m=\u001b[39m json\u001b[39m.\u001b[39mload(f)\n\u001b[1;32m    268\u001b[0m \u001b[39mif\u001b[39;00m my_agent \u001b[39mis\u001b[39;00m \u001b[39mNone\u001b[39;00m:\n\u001b[0;32m--> 269\u001b[0m   my_agent \u001b[39m=\u001b[39m load_agent(env_val,\n\u001b[1;32m    270\u001b[0m                         load_path\u001b[39m=\u001b[39;49mload_path,\n\u001b[1;32m    271\u001b[0m                         name\u001b[39m=\u001b[39;49magent_name,\n\u001b[1;32m    272\u001b[0m                         gymenv_class\u001b[39m=\u001b[39;49mgymenv_class,\n\u001b[1;32m    273\u001b[0m                         gymenv_kwargs\u001b[39m=\u001b[39;49mgymenv_kwargs,\n\u001b[1;32m    274\u001b[0m                         obs_space_kwargs\u001b[39m=\u001b[39;49mobs_space_kwargs,\n\u001b[1;32m    275\u001b[0m                         act_space_kwargs\u001b[39m=\u001b[39;49mact_space_kwargs)\n\u001b[1;32m    276\u001b[0m _, ts_survived, _ \u001b[39m=\u001b[39m my_score\u001b[39m.\u001b[39mget(my_agent, nb_process\u001b[39m=\u001b[39mnb_process_stats)\n\u001b[1;32m    278\u001b[0m \u001b[39mif\u001b[39;00m env_seeds \u001b[39mis\u001b[39;00m \u001b[39mNone\u001b[39;00m :\n\u001b[1;32m    279\u001b[0m   \u001b[39m# compare with do nothing\u001b[39;00m\n",
      "File \u001b[0;32m~/Documents/Projects/L2RPN-WCCI-Baselines/RL/examples/ppo_stable_baselines/C_evaluate_trained_model.py:40\u001b[0m, in \u001b[0;36mload_agent\u001b[0;34m(env, load_path, name, gymenv_class, gymenv_kwargs, obs_space_kwargs, act_space_kwargs)\u001b[0m\n\u001b[1;32m     35\u001b[0m \u001b[39mdef\u001b[39;00m \u001b[39mload_agent\u001b[39m(env, load_path, name,\n\u001b[1;32m     36\u001b[0m                gymenv_class\u001b[39m=\u001b[39mgymenv_class,\n\u001b[1;32m     37\u001b[0m                gymenv_kwargs\u001b[39m=\u001b[39m{\u001b[39m\"\u001b[39m\u001b[39msafe_max_rho\u001b[39m\u001b[39m\"\u001b[39m: safe_max_rho},\n\u001b[1;32m     38\u001b[0m                obs_space_kwargs\u001b[39m=\u001b[39m\u001b[39mNone\u001b[39;00m,\n\u001b[1;32m     39\u001b[0m                act_space_kwargs\u001b[39m=\u001b[39m\u001b[39mNone\u001b[39;00m):\n\u001b[0;32m---> 40\u001b[0m     trained_agent, _ \u001b[39m=\u001b[39m evaluate(env,\n\u001b[1;32m     41\u001b[0m                                 nb_episode\u001b[39m=\u001b[39;49m\u001b[39m0\u001b[39;49m,\n\u001b[1;32m     42\u001b[0m                                 load_path\u001b[39m=\u001b[39;49mload_path,\n\u001b[1;32m     43\u001b[0m                                 name\u001b[39m=\u001b[39;49mname,\n\u001b[1;32m     44\u001b[0m                                 gymenv_class\u001b[39m=\u001b[39;49mgymenv_class,\n\u001b[1;32m     45\u001b[0m                                 iter_num\u001b[39m=\u001b[39;49miter_num,\n\u001b[1;32m     46\u001b[0m                                 gymenv_kwargs\u001b[39m=\u001b[39;49mgymenv_kwargs,\n\u001b[1;32m     47\u001b[0m                                 obs_space_kwargs\u001b[39m=\u001b[39;49mobs_space_kwargs,\n\u001b[1;32m     48\u001b[0m                                 act_space_kwargs\u001b[39m=\u001b[39;49mact_space_kwargs)\n\u001b[1;32m     49\u001b[0m     \u001b[39mreturn\u001b[39;00m trained_agent\n",
      "File \u001b[0;32m~/Documents/Projects/L2RPN-WCCI-Baselines/RL/l2rpn_baselines/PPO_SB3/evaluate.py:193\u001b[0m, in \u001b[0;36mevaluate\u001b[0;34m(env, load_path, name, logs_path, nb_episode, nb_process, max_steps, verbose, save_gif, gymenv_class, gymenv_kwargs, obs_space_kwargs, act_space_kwargs, iter_num, **kwargs)\u001b[0m\n\u001b[1;32m    191\u001b[0m \u001b[39mif\u001b[39;00m gymenv_kwargs \u001b[39mis\u001b[39;00m \u001b[39mNone\u001b[39;00m:\n\u001b[1;32m    192\u001b[0m     gymenv_kwargs \u001b[39m=\u001b[39m {}\n\u001b[0;32m--> 193\u001b[0m gymenv \u001b[39m=\u001b[39m gymenv_class(env, \u001b[39m*\u001b[39;49m\u001b[39m*\u001b[39;49mgymenv_kwargs)\n\u001b[1;32m    195\u001b[0m gymenv\u001b[39m.\u001b[39maction_space\u001b[39m.\u001b[39mclose()\n\u001b[1;32m    196\u001b[0m gymenv\u001b[39m.\u001b[39maction_space \u001b[39m=\u001b[39m gym_action_space\n",
      "\u001b[0;31mTypeError\u001b[0m: 'bool' object is not callable"
     ]
    }
   ],
   "source": [
    "#agents_dict.update({agent_name:None for agent_name in agents_names})\n",
    "\n",
    "total_results = np.zeros((len(agents_dict), nb_scenario, 3))\n",
    "for i, (agent_name, my_agent) in enumerate(agents_dict.items()):\n",
    "  results = eval_agent(env_name_used,\n",
    "            nb_scenario,\n",
    "            agent_name,\n",
    "            save_path,\n",
    "            SCOREUSED,\n",
    "            gymenv_class,\n",
    "            verbose,\n",
    "            gymenv_kwargs=train_args[\"gymenv_kwargs\"] if var_to_test!=\"gymenv_kwargs\" else values_to_test[i],\n",
    "            param=p,\n",
    "            filter_fun=filter_chronics,\n",
    "            my_agent=my_agent\n",
    "            )\n",
    "  for k in range(3):\n",
    "    total_results[i, :, k]=np.array(results[k])\n",
    "  # print(results)"
   ]
  },
  {
   "cell_type": "code",
   "execution_count": 12,
   "metadata": {},
   "outputs": [],
   "source": [
    "total_results = np.load(\"./pre_train/total_results/total_results_2022-05-31_10-37.npy\")\n",
    "agent_name = [\"optim_0\", \"optim_1\"]"
   ]
  },
  {
   "cell_type": "code",
   "execution_count": 13,
   "metadata": {},
   "outputs": [],
   "source": [
    "# Agregation des initialisations si il y en a plusieurs et post-traitement\n",
    "\n",
    "# nb_init_train = 4\n",
    "nb_init_train = 1\n",
    "\n",
    "\n",
    "if nb_init_train > 2:\n",
    "    total_results_mean = np.zeros((total_results.shape[0]//nb_init_train, nb_scenario, 3))\n",
    "    total_results_std = np.zeros((total_results.shape[0]//nb_init_train, nb_scenario, 3))\n",
    "    total_results_best = np.zeros((total_results.shape[0], total_results.shape[1], 2))\n",
    "    total_results_best_mean = np.zeros((total_results.shape[0]//nb_init_train, 2))\n",
    "    dict_ts_survived_init = {}\n",
    "    for i_val in range(total_results_mean.shape[0]):\n",
    "        pattern = re.compile('.*' + str(i_val) + '$')\n",
    "        index = np.where([re.match(pattern, el) is not None for el in agents_names])[0]\n",
    "        dict_ts_survived_init.update({f\"Agent_{i_val}\" : total_results[index, :, 0].T})\n",
    "        total_results_mean[i_val] = np.mean(total_results[index], axis=0)\n",
    "        total_results_std[i_val] = np.std(total_results[index], axis=0)\n",
    "        total_results_best[index] = np.mean(total_results[index][:, :, [0]] > total_results[index][:, :, [1,2]], axis=1)\n",
    "        total_results_best_mean[i_val] = np.mean(total_results_best[index], axis=0)\n",
    "        \n",
    "else:\n",
    "    total_results_mean = copy.deepcopy(total_results)\n",
    "    total_results_best_mean = np.mean(total_results[:, :, [0]] > total_results[:, :, [1,2]], axis=1)\n",
    "    dict_ts_survived_scenario = {}\n",
    "    for i_val in range(total_results_mean.shape[0]):\n",
    "        dict_ts_survived_scenario.update({f\"Agent_{i_val}\" : total_results[[i_val], :, 0]})\n",
    "    dict_ts_survived_scenario.update({\"DN_Agent\": [total_results_mean[0, :, 1]], \"Reco_Agent\": [total_results_mean[0, :, 2]]})\n"
   ]
  },
  {
   "cell_type": "code",
   "execution_count": 14,
   "metadata": {},
   "outputs": [
    {
     "data": {
      "image/png": "[encoded data removed]",
      "text/plain": [
       "<Figure size 720x360 with 1 Axes>"
      ]
     },
     "metadata": {
      "needs_background": "light"
     },
     "output_type": "display_data"
    }
   ],
   "source": [
    "create_bar_plot({f\"Agent_{i}\" : total_results_mean[i, :, 0] for i in range(total_results_mean.shape[0])},\n",
    "                    total_results_mean[0, :, 1], \n",
    "                    total_results_mean[0, :, 2])\n",
    "\n",
    "if nb_init_train > 1:\n",
    "    create_bar_plot({f\"Agent_{i}\" : total_results_std[i, :, 0] for i in range(total_results_std.shape[0])},\n",
    "                    total_results_std[0, :, 1], \n",
    "                    total_results_std[0, :, 2])\n",
    "    create_box_plot(dict_ts_survived_init, total_results_mean[0, :, 1], total_results_mean[0, :, 2])"
   ]
  },
  {
   "cell_type": "code",
   "execution_count": 15,
   "metadata": {},
   "outputs": [
    {
     "data": {
      "image/png": "[encoded data removed]",
      "text/plain": [
       "<Figure size 720x360 with 1 Axes>"
      ]
     },
     "metadata": {
      "needs_background": "light"
     },
     "output_type": "display_data"
    }
   ],
   "source": [
    "# Un boxplot rassemble nb_scenatio chroniques et correspond à un agent\n",
    "create_box_plot(dict_ts_survived_scenario, [],  [])"
   ]
  },
  {
   "cell_type": "code",
   "execution_count": 16,
   "metadata": {},
   "outputs": [
    {
     "name": "stdout",
     "output_type": "stream",
     "text": [
      "Agent_0 has been better than DN_Agent for 75.0 % of the scenarios\n",
      "Agent_0 has been better than Reco_Agent for 66.66666666666666 % of the scenarios\n",
      "Agent_1 has been better than DN_Agent for 75.0 % of the scenarios\n",
      "Agent_1 has been better than Reco_Agent for 66.66666666666666 % of the scenarios\n"
     ]
    }
   ],
   "source": [
    "for i in range(total_results_best_mean.shape[0]):\n",
    "    print(f\"Agent_{i} has been better than DN_Agent for {total_results_best_mean[i,0]*100} % of the scenarios\")\n",
    "    print(f\"Agent_{i} has been better than Reco_Agent for {total_results_best_mean[i,1]*100} % of the scenarios\")"
   ]
  },
  {
   "cell_type": "markdown",
   "metadata": {},
   "source": [
    "## Varying seeds"
   ]
  },
  {
   "cell_type": "code",
   "execution_count": 17,
   "metadata": {},
   "outputs": [],
   "source": [
    "from grid2op.Agent import RecoPowerlineAgent, DoNothingAgent\n",
    "from grid2op.Runner import Runner\n",
    "from examples.ppo_stable_baselines.C_evaluate_trained_model import load_agent\n",
    "from grid2op.Chronics import MultifolderWithCache\n",
    "from tqdm import tqdm\n",
    "\n",
    "with open(\"./preprocess_obs.json\", \"r\", encoding=\"utf-8\") as f:\n",
    "    obs_space_kwargs = json.load(f)\n",
    "with open(\"./preprocess_act.json\", \"r\", encoding=\"utf-8\") as f:\n",
    "    act_space_kwargs = json.load(f)"
   ]
  },
  {
   "cell_type": "code",
   "execution_count": 18,
   "metadata": {},
   "outputs": [],
   "source": [
    "def vary_seeds(env_name, save_path, nb_scenario, gymenv_class, agents_names=[], gymenv_kwargs={}, nb_init_env_seeds=3, filter_chronics=None, agents_dict = {}, param=p):\n",
    "    env = grid2op.make(env_name,\n",
    "                    reward_class=CustomReward2,\n",
    "                    backend=LightSimBackend(),\n",
    "                    chronics_class=MultifolderWithCache,\n",
    "                    param=param)\n",
    "\n",
    "    agents_dict.update({\"DoNothingAgent\":DoNothingAgent(env.action_space),\n",
    "                    \"RecoPowerlineAgent\":RecoPowerlineAgent(env.action_space)})\n",
    "\n",
    "    agents_dict.update({agent_name:load_agent(env, \n",
    "                                load_path=save_path, \n",
    "                                name=agent_name, \n",
    "                                gymenv_class=gymenv_class, \n",
    "                                gymenv_kwargs=gymenv_kwargs,\n",
    "                                obs_space_kwargs=obs_space_kwargs,\n",
    "                                act_space_kwargs=act_space_kwargs) for agent_name in agents_names})\n",
    "\n",
    "    max_int = np.iinfo(dt_int).max\n",
    "    env_seeds_list=[np.random.randint(low=0,\n",
    "                                high=max_int,\n",
    "                                size=nb_scenario,\n",
    "                                dtype=dt_int) for _ in range(nb_init_env_seeds)]\n",
    "\n",
    "    results_list = []\n",
    "    results_dict = {}\n",
    "    for agent_name, agent in agents_dict.items():\n",
    "        results_dict[agent_name]=[]\n",
    "        for env_seeds in tqdm(env_seeds_list, desc = agent_name):\n",
    "            results = eval_agent(env_name,\n",
    "                        nb_scenario,\n",
    "                        agent_name,\n",
    "                        save_path,\n",
    "                        SCOREUSED,\n",
    "                        gymenv_class,\n",
    "                        verbose=False,\n",
    "                        gymenv_kwargs=gymenv_kwargs,\n",
    "                        param=p,\n",
    "                        filter_fun=filter_chronics,\n",
    "                        env_seeds=env_seeds,\n",
    "                        my_agent=agent)\n",
    "            results_dict[agent_name].append(results[0])\n",
    "            results_list.append([env_seeds, agent_name, results[0]])\n",
    "    results_dict = {k: np.array(v).T for k,v in results_dict.items()}\n",
    "    return results_dict"
   ]
  },
  {
   "cell_type": "code",
   "execution_count": 19,
   "metadata": {},
   "outputs": [
    {
     "name": "stderr",
     "output_type": "stream",
     "text": [
      "DoNothingAgent:   0%|          | 0/1 [00:00<?, ?it/s]\n"
     ]
    },
    {
     "ename": "TypeError",
     "evalue": "eval_agent() got multiple values for argument 'verbose'",
     "output_type": "error",
     "traceback": [
      "\u001b[0;31m---------------------------------------------------------------------------\u001b[0m",
      "\u001b[0;31mTypeError\u001b[0m                                 Traceback (most recent call last)",
      "\u001b[1;32m/Users/gaetanserre/Documents/Projects/L2RPN-WCCI-Baselines/RL/eval.ipynb Cell 20'\u001b[0m in \u001b[0;36m<cell line: 4>\u001b[0;34m()\u001b[0m\n\u001b[1;32m      <a href='vscode-notebook-cell:/Users/gaetanserre/Documents/Projects/L2RPN-WCCI-Baselines/RL/eval.ipynb#ch0000019?line=0'>1</a>\u001b[0m agents_names \u001b[39m=\u001b[39m [\u001b[39m'\u001b[39m\u001b[39mGymEnvWithRecoWithDN_2022-05-20_18-52_learning_rate_0\u001b[39m\u001b[39m'\u001b[39m]\n\u001b[1;32m      <a href='vscode-notebook-cell:/Users/gaetanserre/Documents/Projects/L2RPN-WCCI-Baselines/RL/eval.ipynb#ch0000019?line=1'>2</a>\u001b[0m agents_names \u001b[39m=\u001b[39m []\n\u001b[0;32m----> <a href='vscode-notebook-cell:/Users/gaetanserre/Documents/Projects/L2RPN-WCCI-Baselines/RL/eval.ipynb#ch0000019?line=3'>4</a>\u001b[0m results_dict \u001b[39m=\u001b[39m vary_seeds(agents_names\u001b[39m=\u001b[39;49magents_names,\n\u001b[1;32m      <a href='vscode-notebook-cell:/Users/gaetanserre/Documents/Projects/L2RPN-WCCI-Baselines/RL/eval.ipynb#ch0000019?line=4'>5</a>\u001b[0m                             env_name \u001b[39m=\u001b[39;49menv_name_used, \n\u001b[1;32m      <a href='vscode-notebook-cell:/Users/gaetanserre/Documents/Projects/L2RPN-WCCI-Baselines/RL/eval.ipynb#ch0000019?line=5'>6</a>\u001b[0m                             save_path\u001b[39m=\u001b[39;49msave_path, \n\u001b[1;32m      <a href='vscode-notebook-cell:/Users/gaetanserre/Documents/Projects/L2RPN-WCCI-Baselines/RL/eval.ipynb#ch0000019?line=6'>7</a>\u001b[0m                             gymenv_class\u001b[39m=\u001b[39;49mgymenv_class,\n\u001b[1;32m      <a href='vscode-notebook-cell:/Users/gaetanserre/Documents/Projects/L2RPN-WCCI-Baselines/RL/eval.ipynb#ch0000019?line=7'>8</a>\u001b[0m                             gymenv_kwargs\u001b[39m=\u001b[39;49mtrain_args[\u001b[39m\"\u001b[39;49m\u001b[39mgymenv_kwargs\u001b[39;49m\u001b[39m\"\u001b[39;49m] \u001b[39mif\u001b[39;49;00m var_to_test\u001b[39m!=\u001b[39;49m\u001b[39m\"\u001b[39;49m\u001b[39mgymenv_kwargs\u001b[39;49m\u001b[39m\"\u001b[39;49m \u001b[39melse\u001b[39;49;00m values_to_test[i],\n\u001b[1;32m      <a href='vscode-notebook-cell:/Users/gaetanserre/Documents/Projects/L2RPN-WCCI-Baselines/RL/eval.ipynb#ch0000019?line=8'>9</a>\u001b[0m                             nb_scenario\u001b[39m=\u001b[39;49mnb_scenario,\n\u001b[1;32m     <a href='vscode-notebook-cell:/Users/gaetanserre/Documents/Projects/L2RPN-WCCI-Baselines/RL/eval.ipynb#ch0000019?line=9'>10</a>\u001b[0m                             filter_chronics\u001b[39m=\u001b[39;49mfilter_chronics,\n\u001b[1;32m     <a href='vscode-notebook-cell:/Users/gaetanserre/Documents/Projects/L2RPN-WCCI-Baselines/RL/eval.ipynb#ch0000019?line=10'>11</a>\u001b[0m                             nb_init_env_seeds\u001b[39m=\u001b[39;49m\u001b[39m1\u001b[39;49m,\n\u001b[1;32m     <a href='vscode-notebook-cell:/Users/gaetanserre/Documents/Projects/L2RPN-WCCI-Baselines/RL/eval.ipynb#ch0000019?line=11'>12</a>\u001b[0m                             agents_dict\u001b[39m=\u001b[39;49m{}\n\u001b[1;32m     <a href='vscode-notebook-cell:/Users/gaetanserre/Documents/Projects/L2RPN-WCCI-Baselines/RL/eval.ipynb#ch0000019?line=12'>13</a>\u001b[0m                             )\n",
      "\u001b[1;32m/Users/gaetanserre/Documents/Projects/L2RPN-WCCI-Baselines/RL/eval.ipynb Cell 19'\u001b[0m in \u001b[0;36mvary_seeds\u001b[0;34m(env_name, save_path, nb_scenario, gymenv_class, agents_names, gymenv_kwargs, nb_init_env_seeds, filter_chronics, agents_dict, param)\u001b[0m\n\u001b[1;32m     <a href='vscode-notebook-cell:/Users/gaetanserre/Documents/Projects/L2RPN-WCCI-Baselines/RL/eval.ipynb#ch0000018?line=27'>28</a>\u001b[0m results_dict[agent_name]\u001b[39m=\u001b[39m[]\n\u001b[1;32m     <a href='vscode-notebook-cell:/Users/gaetanserre/Documents/Projects/L2RPN-WCCI-Baselines/RL/eval.ipynb#ch0000018?line=28'>29</a>\u001b[0m \u001b[39mfor\u001b[39;00m env_seeds \u001b[39min\u001b[39;00m tqdm(env_seeds_list, desc \u001b[39m=\u001b[39m agent_name):\n\u001b[0;32m---> <a href='vscode-notebook-cell:/Users/gaetanserre/Documents/Projects/L2RPN-WCCI-Baselines/RL/eval.ipynb#ch0000018?line=29'>30</a>\u001b[0m     results \u001b[39m=\u001b[39m eval_agent(env_name,\n\u001b[1;32m     <a href='vscode-notebook-cell:/Users/gaetanserre/Documents/Projects/L2RPN-WCCI-Baselines/RL/eval.ipynb#ch0000018?line=30'>31</a>\u001b[0m                 nb_scenario,\n\u001b[1;32m     <a href='vscode-notebook-cell:/Users/gaetanserre/Documents/Projects/L2RPN-WCCI-Baselines/RL/eval.ipynb#ch0000018?line=31'>32</a>\u001b[0m                 agent_name,\n\u001b[1;32m     <a href='vscode-notebook-cell:/Users/gaetanserre/Documents/Projects/L2RPN-WCCI-Baselines/RL/eval.ipynb#ch0000018?line=32'>33</a>\u001b[0m                 save_path,\n\u001b[1;32m     <a href='vscode-notebook-cell:/Users/gaetanserre/Documents/Projects/L2RPN-WCCI-Baselines/RL/eval.ipynb#ch0000018?line=33'>34</a>\u001b[0m                 SCOREUSED,\n\u001b[1;32m     <a href='vscode-notebook-cell:/Users/gaetanserre/Documents/Projects/L2RPN-WCCI-Baselines/RL/eval.ipynb#ch0000018?line=34'>35</a>\u001b[0m                 gymenv_class,\n\u001b[1;32m     <a href='vscode-notebook-cell:/Users/gaetanserre/Documents/Projects/L2RPN-WCCI-Baselines/RL/eval.ipynb#ch0000018?line=35'>36</a>\u001b[0m                 verbose\u001b[39m=\u001b[39;49m\u001b[39mFalse\u001b[39;49;00m,\n\u001b[1;32m     <a href='vscode-notebook-cell:/Users/gaetanserre/Documents/Projects/L2RPN-WCCI-Baselines/RL/eval.ipynb#ch0000018?line=36'>37</a>\u001b[0m                 gymenv_kwargs\u001b[39m=\u001b[39;49mgymenv_kwargs,\n\u001b[1;32m     <a href='vscode-notebook-cell:/Users/gaetanserre/Documents/Projects/L2RPN-WCCI-Baselines/RL/eval.ipynb#ch0000018?line=37'>38</a>\u001b[0m                 param\u001b[39m=\u001b[39;49mp,\n\u001b[1;32m     <a href='vscode-notebook-cell:/Users/gaetanserre/Documents/Projects/L2RPN-WCCI-Baselines/RL/eval.ipynb#ch0000018?line=38'>39</a>\u001b[0m                 filter_fun\u001b[39m=\u001b[39;49mfilter_chronics,\n\u001b[1;32m     <a href='vscode-notebook-cell:/Users/gaetanserre/Documents/Projects/L2RPN-WCCI-Baselines/RL/eval.ipynb#ch0000018?line=39'>40</a>\u001b[0m                 env_seeds\u001b[39m=\u001b[39;49menv_seeds,\n\u001b[1;32m     <a href='vscode-notebook-cell:/Users/gaetanserre/Documents/Projects/L2RPN-WCCI-Baselines/RL/eval.ipynb#ch0000018?line=40'>41</a>\u001b[0m                 my_agent\u001b[39m=\u001b[39;49magent)\n\u001b[1;32m     <a href='vscode-notebook-cell:/Users/gaetanserre/Documents/Projects/L2RPN-WCCI-Baselines/RL/eval.ipynb#ch0000018?line=41'>42</a>\u001b[0m     results_dict[agent_name]\u001b[39m.\u001b[39mappend(results[\u001b[39m0\u001b[39m])\n\u001b[1;32m     <a href='vscode-notebook-cell:/Users/gaetanserre/Documents/Projects/L2RPN-WCCI-Baselines/RL/eval.ipynb#ch0000018?line=42'>43</a>\u001b[0m     results_list\u001b[39m.\u001b[39mappend([env_seeds, agent_name, results[\u001b[39m0\u001b[39m]])\n",
      "\u001b[0;31mTypeError\u001b[0m: eval_agent() got multiple values for argument 'verbose'"
     ]
    }
   ],
   "source": [
    "agents_names = ['GymEnvWithRecoWithDN_2022-05-20_18-52_learning_rate_0']\n",
    "agents_names = []\n",
    "\n",
    "results_dict = vary_seeds(agents_names=agents_names,\n",
    "                            env_name =env_name_used, \n",
    "                            save_path=save_path, \n",
    "                            gymenv_class=gymenv_class,\n",
    "                            gymenv_kwargs=train_args[\"gymenv_kwargs\"] if var_to_test!=\"gymenv_kwargs\" else values_to_test[i],\n",
    "                            nb_scenario=nb_scenario,\n",
    "                            filter_chronics=filter_chronics,\n",
    "                            nb_init_env_seeds=1,\n",
    "                            agents_dict={}\n",
    "                            )"
   ]
  },
  {
   "cell_type": "code",
   "execution_count": 53,
   "metadata": {},
   "outputs": [
    {
     "data": {
      "image/png": "[encoded data removed]",
      "text/plain": [
       "<Figure size 720x360 with 1 Axes>"
      ]
     },
     "metadata": {
      "needs_background": "light"
     },
     "output_type": "display_data"
    },
    {
     "data": {
      "text/plain": [
       "({'GymEnvWithRecoWithDN_2022-05-20_18-52_learning_rate_0': array([[121],\n",
       "         [  3],\n",
       "         [105],\n",
       "         [120]]),\n",
       "  'DoNothingAgent': array([[ 86],\n",
       "         [  3],\n",
       "         [115],\n",
       "         [142]]),\n",
       "  'RecoPowerlineAgent': array([[ 86],\n",
       "         [  3],\n",
       "         [115],\n",
       "         [142]])},\n",
       " None)"
      ]
     },
     "execution_count": 53,
     "metadata": {},
     "output_type": "execute_result"
    }
   ],
   "source": [
    "results_dict, create_box_plot(results_dict, [], [])"
   ]
  },
  {
   "cell_type": "code",
   "execution_count": 19,
   "metadata": {},
   "outputs": [],
   "source": [
    "# create_bar_plot({k:el.T[0] for k,el in results_dict.items()}, [], [])"
   ]
  },
  {
   "cell_type": "code",
   "execution_count": null,
   "metadata": {},
   "outputs": [],
   "source": []
  }
 ],
 "metadata": {
  "interpreter": {
   "hash": "91a35dfe52835051810f52e811c447a0465b76bfe18baf308825e1f156f0fde9"
  },
  "kernelspec": {
   "display_name": "Python 3.9.12 ('L2RPN')",
   "language": "python",
   "name": "python3"
  },
  "language_info": {
   "codemirror_mode": {
    "name": "ipython",
    "version": 3
   },
   "file_extension": ".py",
   "mimetype": "text/x-python",
   "name": "python",
   "nbconvert_exporter": "python",
   "pygments_lexer": "ipython3",
   "version": "3.9.12"
  },
  "orig_nbformat": 4
 },
 "nbformat": 4,
 "nbformat_minor": 2
}
