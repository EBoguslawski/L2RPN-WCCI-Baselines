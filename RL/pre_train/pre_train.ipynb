{
 "cells": [
  {
   "cell_type": "code",
   "execution_count": 1,
   "metadata": {},
   "outputs": [
    {
     "name": "stderr",
     "output_type": "stream",
     "text": [
      "/home/boguslawskieva/miniconda3/envs/baselines_dev/lib/python3.8/site-packages/tqdm/auto.py:22: TqdmWarning: IProgress not found. Please update jupyter and ipywidgets. See https://ipywidgets.readthedocs.io/en/stable/user_install.html\n",
      "  from .autonotebook import tqdm as notebook_tqdm\n"
     ]
    }
   ],
   "source": [
    "import sys\n",
    "sys.path.insert(0, \"../\")\n",
    "\n",
    "# from CustomGymEnv import CustomGymEnv\n",
    "import torch\n",
    "from grid2op.Parameters import Parameters\n",
    "from examples.ppo_stable_baselines.B_train_agent import CustomReward\n",
    "from lightsim2grid import LightSimBackend\n",
    "from grid2op.Chronics import MultifolderWithCache\n",
    "from grid2op.utils import ScoreL2RPN2020\n",
    "from examples.ppo_stable_baselines.A_prep_env import get_env_seed\n",
    "import numpy as np\n",
    "from datetime import datetime"
   ]
  },
  {
   "cell_type": "code",
   "execution_count": 2,
   "metadata": {},
   "outputs": [],
   "source": [
    "# Copyright (c) 2020-2022 RTE (https://www.rte-france.com)\n",
    "# See AUTHORS.txt\n",
    "# This Source Code Form is subject to the terms of the Mozilla Public License, version 2.0.\n",
    "# If a copy of the Mozilla Public License, version 2.0 was not distributed with this file,\n",
    "# you can obtain one at http://mozilla.org/MPL/2.0/.\n",
    "# SPDX-License-Identifier: MPL-2.0\n",
    "# This file is part of L2RPN Baselines, L2RPN Baselines a repository to host baselines for l2rpn competitions.\n",
    "\n",
    "import warnings\n",
    "import copy\n",
    "import os\n",
    "import grid2op\n",
    "import json\n",
    "\n",
    "from grid2op.gym_compat import BoxGymActSpace, BoxGymObsSpace, GymEnv\n",
    "\n",
    "from l2rpn_baselines.PPO_SB3.utils import SB3Agent\n",
    "from l2rpn_baselines.utils import GymEnvWithRecoWithDN\n",
    "\n",
    "try:\n",
    "    from stable_baselines3.common.callbacks import CheckpointCallback\n",
    "    from stable_baselines3 import PPO\n",
    "    from stable_baselines3.ppo import MlpPolicy\n",
    "    _CAN_USE_STABLE_BASELINE = True\n",
    "except ImportError:\n",
    "    _CAN_USE_STABLE_BASELINE = False\n",
    "    class MlpPolicy(object):\n",
    "        \"\"\"\n",
    "        Do not use, this class is a template when stable baselines3 is not installed.\n",
    "        \n",
    "        It represents `from stable_baselines3.ppo import MlpPolicy`\n",
    "        \"\"\"\n",
    "    \n",
    "from l2rpn_baselines.PPO_SB3.utils import (default_obs_attr_to_keep, \n",
    "                                           default_act_attr_to_keep,\n",
    "                                           remove_non_usable_attr,\n",
    "                                           save_used_attribute)\n",
    "\n",
    "\n",
    "def get_agent(env,\n",
    "            name=\"PPO_SB3\",\n",
    "            iterations=1,\n",
    "            save_path=None,\n",
    "            load_path=None,\n",
    "            net_arch=None,\n",
    "            logs_dir=None,\n",
    "            learning_rate=3e-4,\n",
    "            save_every_xxx_steps=None,\n",
    "            model_policy=MlpPolicy,\n",
    "            obs_attr_to_keep=copy.deepcopy(default_obs_attr_to_keep),\n",
    "            obs_space_kwargs=None,\n",
    "            act_attr_to_keep=copy.deepcopy(default_act_attr_to_keep),\n",
    "            act_space_kwargs=None,\n",
    "            policy_kwargs=None,\n",
    "            normalize_obs=False,\n",
    "            normalize_act=False,\n",
    "            gymenv_class=GymEnv,\n",
    "            gymenv_kwargs=None,\n",
    "            verbose=True,\n",
    "            seed=None,  # TODO\n",
    "            eval_env=None,  # TODO\n",
    "            **kwargs):\n",
    "    \n",
    "    if not _CAN_USE_STABLE_BASELINE:\n",
    "        raise ImportError(\"Cannot use this function as stable baselines3 is not installed\")\n",
    "    \n",
    "    # keep only usable attributes (if default is used)\n",
    "    act_attr_to_keep = remove_non_usable_attr(env, act_attr_to_keep)\n",
    "    \n",
    "    # save the attributes kept\n",
    "    if save_path is not None:\n",
    "        my_path = os.path.join(save_path, name)\n",
    "    save_used_attribute(save_path, name, obs_attr_to_keep, act_attr_to_keep)\n",
    "\n",
    "    # define the gym environment from the grid2op env\n",
    "    if gymenv_kwargs is None:\n",
    "        gymenv_kwargs = {}\n",
    "    env_gym = gymenv_class(env, **gymenv_kwargs)\n",
    "    env_gym.observation_space.close()\n",
    "    if obs_space_kwargs is None:\n",
    "        obs_space_kwargs = {}\n",
    "    env_gym.observation_space = BoxGymObsSpace(env.observation_space,\n",
    "                                               attr_to_keep=obs_attr_to_keep,\n",
    "                                               **obs_space_kwargs)\n",
    "    env_gym.action_space.close()\n",
    "    if act_space_kwargs is None:\n",
    "        act_space_kwargs = {}\n",
    "    env_gym.action_space = BoxGymActSpace(env.action_space,\n",
    "                                          attr_to_keep=act_attr_to_keep,\n",
    "                                          **act_space_kwargs)\n",
    "\n",
    "    if normalize_act:\n",
    "        if save_path is not None:\n",
    "            with open(os.path.join(my_path, \".normalize_act\"), encoding=\"utf-8\", \n",
    "                      mode=\"w\") as f:\n",
    "                f.write(\"I have encoded the action space !\\n DO NOT MODIFY !\")\n",
    "        for attr_nm in act_attr_to_keep:\n",
    "            if ((\"multiply\" in act_space_kwargs and attr_nm in act_space_kwargs[\"multiply\"]) or \n",
    "                (\"add\" in act_space_kwargs and attr_nm in act_space_kwargs[\"add\"]) \n",
    "               ):\n",
    "                # attribute is scaled elsewhere\n",
    "                continue\n",
    "            env_gym.action_space.normalize_attr(attr_nm)\n",
    "\n",
    "    if normalize_obs:\n",
    "        if save_path is not None:\n",
    "            with open(os.path.join(my_path, \".normalize_obs\"), encoding=\"utf-8\", \n",
    "                      mode=\"w\") as f:\n",
    "                f.write(\"I have encoded the observation space !\\n DO NOT MODIFY !\")\n",
    "        for attr_nm in obs_attr_to_keep:\n",
    "            if ((\"divide\" in obs_space_kwargs and attr_nm in obs_space_kwargs[\"divide\"]) or \n",
    "                (\"subtract\" in obs_space_kwargs and attr_nm in obs_space_kwargs[\"subtract\"]) \n",
    "               ):\n",
    "                # attribute is scaled elsewhere\n",
    "                continue\n",
    "            env_gym.observation_space.normalize_attr(attr_nm)\n",
    "    \n",
    "    # Save a checkpoint every \"save_every_xxx_steps\" steps\n",
    "    checkpoint_callback = None\n",
    "    if save_every_xxx_steps is not None:\n",
    "        if save_path is None:\n",
    "            warnings.warn(\"save_every_xxx_steps is set, but no path are \"\n",
    "                          \"set to save the model (save_path is None). No model \"\n",
    "                          \"will be saved.\")\n",
    "        else:\n",
    "            checkpoint_callback = CheckpointCallback(save_freq=save_every_xxx_steps,\n",
    "                                                     save_path=my_path,\n",
    "                                                     name_prefix=name)\n",
    "\n",
    "    # define the policy\n",
    "    if load_path is None:\n",
    "        if policy_kwargs is None:\n",
    "            policy_kwargs = {}\n",
    "        if net_arch is not None:\n",
    "            policy_kwargs[\"net_arch\"] = net_arch\n",
    "        if logs_dir is not None:\n",
    "            if not os.path.exists(logs_dir):\n",
    "                os.mkdir(logs_dir)\n",
    "            this_logs_dir = os.path.join(logs_dir, name)\n",
    "        else:\n",
    "            this_logs_dir = None\n",
    "                \n",
    "        nn_kwargs = {\n",
    "            \"policy\": model_policy,\n",
    "            \"env\": env_gym,\n",
    "            \"verbose\": verbose,\n",
    "            \"learning_rate\": learning_rate,\n",
    "            \"tensorboard_log\": this_logs_dir,\n",
    "            \"policy_kwargs\": policy_kwargs,\n",
    "            **kwargs\n",
    "        }\n",
    "        agent = SB3Agent(env.action_space,\n",
    "                         env_gym.action_space,\n",
    "                         env_gym.observation_space,\n",
    "                         nn_kwargs=nn_kwargs,\n",
    "        )\n",
    "    else:        \n",
    "        agent = SB3Agent(env.action_space,\n",
    "                         env_gym.action_space,\n",
    "                         env_gym.observation_space,\n",
    "                         nn_path=os.path.join(load_path, name)\n",
    "        )\n",
    "    return agent, env_gym\n"
   ]
  },
  {
   "cell_type": "code",
   "execution_count": 4,
   "metadata": {},
   "outputs": [],
   "source": [
    "ENV_NAME = \"l2rpn_wcci_2022_dev\"\n",
    "env_name_train = '_'.join([ENV_NAME, \"train\"])\n",
    "datetime_now=datetime.now().strftime('%Y-%m-%d_%H-%M')\n",
    "save_path = \"./student\"\n",
    "# name = \"CustomGymEnv\"\n",
    "# gymenv_class = CustomGymEnv\n",
    "name = \"GymEnvWithRecoWithDN_{}\".format(datetime_now)\n",
    "gymenv_class = GymEnvWithRecoWithDN # CustomGymEnv\n",
    "SCOREUSED = ScoreL2RPN2020\n",
    "\n",
    "train_args = {}\n",
    "\n",
    "# Utility parameters PPO\n",
    "train_args[\"logs_dir\"] = \"./logs\"\n",
    "train_args[\"save_path\"] = save_path\n",
    "train_args[\"name\"] = name\n",
    "train_args[\"verbose\"] = 1\n",
    "train_args[\"gymenv_class\"] = gymenv_class\n",
    "train_args[\"device\"] = torch.device(\"cuda\" if torch.cuda.is_available() else \"cpu\")\n",
    "\n",
    "train_args[\"obs_attr_to_keep\"] = [\"month\", \"day_of_week\", \"hour_of_day\", \"minute_of_hour\",\n",
    "                                  \"gen_p\", \"load_p\", \n",
    "                                  \"p_or\", \"rho\", \"timestep_overflow\", \"line_status\",\n",
    "                                  # dispatch part of the observation\n",
    "                                  \"actual_dispatch\", \"target_dispatch\",\n",
    "                                  # storage part of the observation\n",
    "                                  \"storage_charge\", \"storage_power\",\n",
    "                                  # curtailment part of the observation\n",
    "                                  \"curtailment\", \"curtailment_limit\",  \"gen_p_before_curtail\",\n",
    "                                  ]\n",
    "train_args[\"act_attr_to_keep\"] = [\"set_storage\", \"curtail\"]\n",
    "train_args[\"iterations\"] = 700_000\n",
    "train_args[\"learning_rate\"] = 1e-4\n",
    "train_args[\"net_arch\"] = [300, 300, 300]\n",
    "train_args[\"gamma\"] = 0.999\n",
    "train_args[\"gymenv_kwargs\"] = {\"safe_max_rho\": 0.2}\n",
    "train_args[\"normalize_act\"] = True\n",
    "train_args[\"normalize_obs\"] = True\n",
    "\n",
    "train_args[\"save_every_xxx_steps\"] = min(train_args[\"iterations\"] // 10, 100_000)\n",
    "\n",
    "train_args[\"n_steps\"] = 16\n",
    "train_args[\"batch_size\"] = 16\n",
    "\n",
    "p = Parameters()\n",
    "p.LIMIT_INFEASIBLE_CURTAILMENT_STORAGE_ACTION = True\n",
    "\n",
    "env = grid2op.make(ENV_NAME,\n",
    "                   reward_class=CustomReward,\n",
    "                   backend=LightSimBackend(),\n",
    "                   chronics_class=MultifolderWithCache,\n",
    "                   param=p)"
   ]
  },
  {
   "cell_type": "code",
   "execution_count": 5,
   "metadata": {},
   "outputs": [
    {
     "name": "stdout",
     "output_type": "stream",
     "text": [
      "Using cuda device\n",
      "Wrapping the env with a `Monitor` wrapper\n",
      "Wrapping the env in a DummyVecEnv.\n"
     ]
    }
   ],
   "source": [
    "with open(\"../preprocess_obs.json\", \"r\", encoding=\"utf-8\") as f:\n",
    "    obs_space_kwargs = json.load(f)\n",
    "with open(\"../preprocess_act.json\", \"r\", encoding=\"utf-8\") as f:\n",
    "    act_space_kwargs = json.load(f)\n",
    "\n",
    "student, gym_env = get_agent(env,\n",
    "          obs_space_kwargs=obs_space_kwargs,\n",
    "          act_space_kwargs=act_space_kwargs,\n",
    "          **train_args)"
   ]
  },
  {
   "cell_type": "code",
   "execution_count": 6,
   "metadata": {},
   "outputs": [],
   "source": [
    "data = np.load(\"expert_data/expert_data_2022-06-03_17-29.npz\", allow_pickle=True)"
   ]
  },
  {
   "cell_type": "markdown",
   "metadata": {},
   "source": [
    "### Pre-train the policy"
   ]
  },
  {
   "cell_type": "code",
   "execution_count": 7,
   "metadata": {},
   "outputs": [],
   "source": [
    "from torch.utils.data.dataset import Dataset, random_split\n",
    "import torch.nn as nn\n",
    "import torch\n",
    "\n",
    "class ExpertDataSet(Dataset):\n",
    "  def __init__(self, expert_observations, expert_actions):\n",
    "            self.observations = expert_observations\n",
    "            self.actions = expert_actions\n",
    "      \n",
    "  def __getitem__(self, index):\n",
    "      return (self.observations[index], self.actions[index])\n",
    "\n",
    "  def __len__(self):\n",
    "      return len(self.observations)"
   ]
  },
  {
   "cell_type": "code",
   "execution_count": 8,
   "metadata": {},
   "outputs": [],
   "source": [
    "def convert_acts(actions):\n",
    "    converted_acts = []\n",
    "    for act in actions:\n",
    "        low = gym_env.action_space.dict_properties[\"curtail\"][0]\n",
    "        high = gym_env.action_space.dict_properties[\"curtail\"][1]\n",
    "\n",
    "        curtail = act.curtail.copy()[env.gen_renewable]\n",
    "        curtail = curtail / (high - low) + low\n",
    "\n",
    "        low = gym_env.action_space.dict_properties[\"set_storage\"][0]\n",
    "        high = gym_env.action_space.dict_properties[\"set_storage\"][1]\n",
    "\n",
    "        storage = act.storage_p.copy() / act_space_kwargs[\"multiply\"][\"set_storage\"]\n",
    "\n",
    "        converted_acts.append(np.concatenate((curtail, storage)))\n",
    "    return converted_acts"
   ]
  },
  {
   "cell_type": "code",
   "execution_count": 9,
   "metadata": {},
   "outputs": [],
   "source": [
    "def convert_obs(observations):\n",
    "    converted_obs = []\n",
    "    g2op_obs = env.reset()\n",
    "    for obs in observations:\n",
    "        g2op_obs.from_vect(obs)\n",
    "        converted_obs.append(gym_env.observation_space.to_gym(g2op_obs))\n",
    "    return converted_obs"
   ]
  },
  {
   "cell_type": "code",
   "execution_count": 32,
   "metadata": {},
   "outputs": [],
   "source": [
    "expert_flag      = data.get(\"expert_flag\")\n",
    "expert_observations = convert_obs(data.get(\"expert_observations\"))\n",
    "expert_actions      = convert_acts(data.get(\"expert_actions\"))\n",
    "# expert_observations = [el for i,el in enumerate(expert_observations) if expert_flag[i]==2] # we only keep unsafe case\n",
    "# expert_actions = [el for i,el in enumerate(expert_actions) if expert_flag[i]==2] # we only keep unsafe case\n",
    "\n",
    "expert_dataset = ExpertDataSet(expert_observations, expert_actions)\n",
    "\n",
    "train_size = int(0.8 * len(expert_dataset))\n",
    "\n",
    "test_size = len(expert_dataset) - train_size\n",
    "\n",
    "train_expert_dataset, test_expert_dataset = random_split(\n",
    "    expert_dataset, [train_size, test_size]\n",
    ")"
   ]
  },
  {
   "cell_type": "code",
   "execution_count": 34,
   "metadata": {},
   "outputs": [
    {
     "name": "stdout",
     "output_type": "stream",
     "text": [
      "test_expert_dataset:  11388\n",
      "train_expert_dataset:  45549\n"
     ]
    }
   ],
   "source": [
    "print(\"test_expert_dataset: \", len(test_expert_dataset))\n",
    "print(\"train_expert_dataset: \", len(train_expert_dataset))"
   ]
  },
  {
   "cell_type": "code",
   "execution_count": 36,
   "metadata": {},
   "outputs": [],
   "source": [
    "def pretrain_agent(\n",
    "    student,\n",
    "    batch_size=64,\n",
    "    epochs=1000,\n",
    "    learning_rate=1e-4,\n",
    "    log_interval=10,\n",
    "    seed=42,\n",
    "    test_batch_size=64,\n",
    "):\n",
    "  torch.manual_seed(seed)\n",
    "  device = torch.device(\"cuda\" if torch.cuda.is_available() else \"cpu\")\n",
    "\n",
    "  criterion = nn.MSELoss()\n",
    "\n",
    "  # Extract initial policy\n",
    "  model = student.nn_model.policy.to(device)\n",
    "\n",
    "  def train(model, device, train_loader, optimizer):\n",
    "    model.train()\n",
    "\n",
    "    for batch_idx, (data, target) in enumerate(train_loader):\n",
    "      data, target = data.to(device), target.to(device)\n",
    "      optimizer.zero_grad()\n",
    "      action, _, _ = model(data)\n",
    "      action_prediction = action.double()\n",
    "\n",
    "      loss = criterion(action_prediction, target)\n",
    "      loss.backward()\n",
    "      optimizer.step()\n",
    "      if batch_idx % log_interval == 0:\n",
    "        print(\n",
    "          \"Train Epoch: {} [{}/{} ({:.0f}%)]\\tLoss: {:.6f}\".format(\n",
    "            epoch,\n",
    "            batch_idx * len(data),\n",
    "            len(train_loader.dataset),\n",
    "            100.0 * batch_idx / len(train_loader),\n",
    "            loss.item()\n",
    "          )\n",
    "        )\n",
    "\n",
    "  def test(model, device, test_loader):\n",
    "    model.eval()\n",
    "    test_loss = 0\n",
    "    with torch.no_grad():\n",
    "      for data, target in test_loader:\n",
    "        data, target = data.to(device), target.to(device)\n",
    "        action, _, _ = model(data)\n",
    "        action_prediction = action.double()\n",
    "        test_loss += criterion(action_prediction, target)\n",
    "    test_loss /= len(test_loader) # Nb batches\n",
    "    print(f\"Test set: Average loss: {test_loss.item():.4f}\")\n",
    "\n",
    "  # Here, we use PyTorch `DataLoader` to our load previously created `ExpertDataset` for training\n",
    "  # and testing\n",
    "  train_loader = torch.utils.data.DataLoader(\n",
    "    dataset=train_expert_dataset, batch_size=batch_size, shuffle=True\n",
    "  )\n",
    "  test_loader = torch.utils.data.DataLoader(\n",
    "    dataset=test_expert_dataset, batch_size=test_batch_size, shuffle=True\n",
    "  )\n",
    "\n",
    "  # Define an Optimizer and a learning rate schedule.\n",
    "  optimizer = torch.optim.Adam(model.parameters(), lr=learning_rate)\n",
    "\n",
    "  # Now we are finally ready to train the policy model.\n",
    "  for epoch in range(1, epochs + 1):\n",
    "    train(model, device, train_loader, optimizer)\n",
    "    test(model, device, test_loader)\n",
    "    optimizer.step()\n",
    "  student.nn_model.policy = model"
   ]
  },
  {
   "cell_type": "code",
   "execution_count": 37,
   "metadata": {},
   "outputs": [],
   "source": [
    "def eval_agent(agent, env_name, nb_scenario, param, verbose):\n",
    "    env_val = grid2op.make(env_name, backend=LightSimBackend(), param=param)\n",
    "    my_score = SCOREUSED(env_val,\n",
    "                        nb_scenario=nb_scenario,\n",
    "                        env_seeds=get_env_seed(env_name)[:nb_scenario],\n",
    "                        agent_seeds=[0 for _ in range(nb_scenario)],\n",
    "                        verbose=verbose,\n",
    "                        nb_process_stats=1)\n",
    "    _, ts_survived, _ = my_score.get(agent)\n",
    "    return np.array(ts_survived)"
   ]
  },
  {
   "cell_type": "markdown",
   "metadata": {},
   "source": [
    "Eval before pre-training"
   ]
  },
  {
   "cell_type": "code",
   "execution_count": 38,
   "metadata": {},
   "outputs": [
    {
     "name": "stdout",
     "output_type": "stream",
     "text": [
      "Starts the evaluation of the agent\n",
      "Start the evaluation of the scores\n"
     ]
    },
    {
     "data": {
      "text/plain": [
       "467.1694915254237"
      ]
     },
     "execution_count": 38,
     "metadata": {},
     "output_type": "execute_result"
    }
   ],
   "source": [
    "ts = eval_agent(student, \"l2rpn_wcci_2022_dev_val\", 59, p, 1)\n",
    "ts.mean()"
   ]
  },
  {
   "cell_type": "code",
   "execution_count": null,
   "metadata": {},
   "outputs": [],
   "source": [
    "pretrain_agent(student, batch_size=64, epochs=100000, log_interval=10)"
   ]
  },
  {
   "cell_type": "markdown",
   "metadata": {},
   "source": [
    "Eval after pre-training"
   ]
  },
  {
   "cell_type": "code",
   "execution_count": 43,
   "metadata": {},
   "outputs": [
    {
     "name": "stdout",
     "output_type": "stream",
     "text": [
      "Starts the evaluation of the agent\n",
      "Start the evaluation of the scores\n"
     ]
    },
    {
     "data": {
      "text/plain": [
       "466.2881355932203"
      ]
     },
     "execution_count": 43,
     "metadata": {},
     "output_type": "execute_result"
    }
   ],
   "source": [
    "ts = eval_agent(student, \"l2rpn_wcci_2022_dev_val\", 59, p, 1)\n",
    "ts.mean()"
   ]
  },
  {
   "cell_type": "markdown",
   "metadata": {},
   "source": [
    "Check learning curves"
   ]
  },
  {
   "cell_type": "code",
   "execution_count": 55,
   "metadata": {},
   "outputs": [],
   "source": [
    "import matplotlib.pyplot as plt"
   ]
  },
  {
   "cell_type": "code",
   "execution_count": 60,
   "metadata": {},
   "outputs": [],
   "source": [
    "data = np.load(os.path.join(save_path,\n",
    "                            \"GymEnvWithRecoWithDN_student_2022-06-07_16-26\",\n",
    "                            \"train_test_loss_list.npz\"))"
   ]
  },
  {
   "cell_type": "code",
   "execution_count": 58,
   "metadata": {},
   "outputs": [
    {
     "data": {
      "image/png": "[encoded data removed]",
      "text/plain": [
       "<Figure size 432x288 with 1 Axes>"
      ]
     },
     "metadata": {
      "needs_background": "light"
     },
     "output_type": "display_data"
    },
    {
     "data": {
      "image/png": "[encoded data removed]",
      "text/plain": [
       "<Figure size 432x288 with 1 Axes>"
      ]
     },
     "metadata": {
      "needs_background": "light"
     },
     "output_type": "display_data"
    }
   ],
   "source": [
    "plt.plot(data[\"train_loss_list\"])\n",
    "plt.show()\n",
    "plt.plot(data[\"test_loss_list\"])\n",
    "plt.show()"
   ]
  }
 ],
 "metadata": {
  "interpreter": {
   "hash": "c4f61d462cb5c7869e4a197937948bf593da4f031038557c2fa13a5c9eff1b5f"
  },
  "kernelspec": {
   "display_name": "Python 3.8.13 ('baselines_dev')",
   "language": "python",
   "name": "python3"
  },
  "language_info": {
   "codemirror_mode": {
    "name": "ipython",
    "version": 3
   },
   "file_extension": ".py",
   "mimetype": "text/x-python",
   "name": "python",
   "nbconvert_exporter": "python",
   "pygments_lexer": "ipython3",
   "version": "3.8.13"
  },
  "orig_nbformat": 4
 },
 "nbformat": 4,
 "nbformat_minor": 2
}
