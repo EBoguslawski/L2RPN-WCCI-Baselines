{
 "cells": [
  {
   "cell_type": "code",
   "execution_count": 1,
   "metadata": {},
   "outputs": [],
   "source": [
    "import os\n",
    "import grid2op\n",
    "from grid2op.Parameters import Parameters\n",
    "import numpy as np\n",
    "import shutil\n",
    "from examples.ppo_stable_baselines.C_evaluate_trained_model import load_agent\n",
    "import matplotlib.pyplot as plt\n",
    "\n",
    "from sklearn.cluster import AffinityPropagation, KMeans\n",
    "from tqdm.notebook import tqdm\n",
    "from grid2op.Runner import Runner\n",
    "from lightsim2grid import LightSimBackend\n",
    "from CustomGymEnv import CustomGymEnv\n",
    "\n",
    "path_agents = \"study_rl_agent\""
   ]
  },
  {
   "cell_type": "code",
   "execution_count": 2,
   "metadata": {},
   "outputs": [],
   "source": [
    "ENV_NAME = \"l2rpn_wcci_2022_dev_val\"\n",
    "\n",
    "p = Parameters()\n",
    "p.LIMIT_INFEASIBLE_CURTAILMENT_STORAGE_ACTION = True\n",
    "\n",
    "env = grid2op.make(ENV_NAME, backend=LightSimBackend(), param=p)\n",
    "\n",
    "shutil.rmtree(os.path.abspath(path_agents), ignore_errors=True)\n",
    "if not os.path.exists(path_agents):\n",
    "    os.mkdir(path_agents)\n",
    "\n",
    "# make a runner for this agent\n",
    "agent_name = \"GymEnvWithRecoWithDN_2022-04-23_01-20_learning_rate_1\"\n",
    "gymenv_kwargs = {\"safe_max_rho\": 0.9}\n",
    "\n",
    "path_agent = os.path.join(path_agents, agent_name)\n",
    "shutil.rmtree(os.path.abspath(path_agent), ignore_errors=True)\n",
    "load_path = os.path.join(\"saved_model\", agent_name)\n",
    "\n",
    "my_agent = load_agent(env, load_path=\"saved_model\", name=agent_name, gymenv_class=CustomGymEnv, gymenv_kwargs=gymenv_kwargs)"
   ]
  },
  {
   "cell_type": "code",
   "execution_count": 3,
   "metadata": {},
   "outputs": [
    {
     "data": {
      "application/vnd.jupyter.widget-view+json": {
       "model_id": "b146f75d7bb04feea2b1d7fb63ea6021",
       "version_major": 2,
       "version_minor": 0
      },
      "text/plain": [
       "episode:   0%|          | 0/21 [00:00<?, ?it/s]"
      ]
     },
     "metadata": {},
     "output_type": "display_data"
    },
    {
     "data": {
      "application/vnd.jupyter.widget-view+json": {
       "model_id": "829dd321eddc495a9c8d1700d1a48fc6",
       "version_major": 2,
       "version_minor": 0
      },
      "text/plain": [
       "episode:   0%|          | 0/2017 [00:00<?, ?it/s]"
      ]
     },
     "metadata": {},
     "output_type": "display_data"
    },
    {
     "data": {
      "application/vnd.jupyter.widget-view+json": {
       "model_id": "21fd2ff2e84248f080181d1ce34447fe",
       "version_major": 2,
       "version_minor": 0
      },
      "text/plain": [
       "episode:   0%|          | 0/2017 [00:00<?, ?it/s]"
      ]
     },
     "metadata": {},
     "output_type": "display_data"
    },
    {
     "data": {
      "application/vnd.jupyter.widget-view+json": {
       "model_id": "19a8b9d085f64c32ab3ff3166b9599c7",
       "version_major": 2,
       "version_minor": 0
      },
      "text/plain": [
       "episode:   0%|          | 0/2017 [00:00<?, ?it/s]"
      ]
     },
     "metadata": {},
     "output_type": "display_data"
    },
    {
     "data": {
      "application/vnd.jupyter.widget-view+json": {
       "model_id": "e0f5bb88cd244d61868b7bb980fb9a2a",
       "version_major": 2,
       "version_minor": 0
      },
      "text/plain": [
       "episode:   0%|          | 0/2017 [00:00<?, ?it/s]"
      ]
     },
     "metadata": {},
     "output_type": "display_data"
    },
    {
     "data": {
      "application/vnd.jupyter.widget-view+json": {
       "model_id": "96f32fa64e70488fbe56ec2ea16e39f7",
       "version_major": 2,
       "version_minor": 0
      },
      "text/plain": [
       "episode:   0%|          | 0/2017 [00:00<?, ?it/s]"
      ]
     },
     "metadata": {},
     "output_type": "display_data"
    },
    {
     "data": {
      "application/vnd.jupyter.widget-view+json": {
       "model_id": "2f9147f68d65473981ce2ef0dad4a0e4",
       "version_major": 2,
       "version_minor": 0
      },
      "text/plain": [
       "episode:   0%|          | 0/2017 [00:00<?, ?it/s]"
      ]
     },
     "metadata": {},
     "output_type": "display_data"
    },
    {
     "data": {
      "application/vnd.jupyter.widget-view+json": {
       "model_id": "29c6a192e1b140679453bf5604187199",
       "version_major": 2,
       "version_minor": 0
      },
      "text/plain": [
       "episode:   0%|          | 0/2017 [00:00<?, ?it/s]"
      ]
     },
     "metadata": {},
     "output_type": "display_data"
    },
    {
     "data": {
      "application/vnd.jupyter.widget-view+json": {
       "model_id": "e8f84ab975e347fc89cdd2566fa6ab73",
       "version_major": 2,
       "version_minor": 0
      },
      "text/plain": [
       "episode:   0%|          | 0/2017 [00:00<?, ?it/s]"
      ]
     },
     "metadata": {},
     "output_type": "display_data"
    },
    {
     "data": {
      "application/vnd.jupyter.widget-view+json": {
       "model_id": "ed4a3880e3394fa3b5904ff36d51c7ac",
       "version_major": 2,
       "version_minor": 0
      },
      "text/plain": [
       "episode:   0%|          | 0/2017 [00:00<?, ?it/s]"
      ]
     },
     "metadata": {},
     "output_type": "display_data"
    },
    {
     "data": {
      "application/vnd.jupyter.widget-view+json": {
       "model_id": "e53540b62e8e476f84854bc7422a2048",
       "version_major": 2,
       "version_minor": 0
      },
      "text/plain": [
       "episode:   0%|          | 0/2017 [00:00<?, ?it/s]"
      ]
     },
     "metadata": {},
     "output_type": "display_data"
    },
    {
     "data": {
      "application/vnd.jupyter.widget-view+json": {
       "model_id": "9ab8d3938a7948479003c29b5b605733",
       "version_major": 2,
       "version_minor": 0
      },
      "text/plain": [
       "episode:   0%|          | 0/2017 [00:00<?, ?it/s]"
      ]
     },
     "metadata": {},
     "output_type": "display_data"
    },
    {
     "data": {
      "application/vnd.jupyter.widget-view+json": {
       "model_id": "73a4175002304c01a4e9e5fb3a1c7cfc",
       "version_major": 2,
       "version_minor": 0
      },
      "text/plain": [
       "episode:   0%|          | 0/2017 [00:00<?, ?it/s]"
      ]
     },
     "metadata": {},
     "output_type": "display_data"
    },
    {
     "data": {
      "application/vnd.jupyter.widget-view+json": {
       "model_id": "24dea9f0699f48d595a820d898181547",
       "version_major": 2,
       "version_minor": 0
      },
      "text/plain": [
       "episode:   0%|          | 0/2017 [00:00<?, ?it/s]"
      ]
     },
     "metadata": {},
     "output_type": "display_data"
    },
    {
     "data": {
      "application/vnd.jupyter.widget-view+json": {
       "model_id": "88c24688ff5e4812ab3384647ec5a7a9",
       "version_major": 2,
       "version_minor": 0
      },
      "text/plain": [
       "episode:   0%|          | 0/2017 [00:00<?, ?it/s]"
      ]
     },
     "metadata": {},
     "output_type": "display_data"
    },
    {
     "data": {
      "application/vnd.jupyter.widget-view+json": {
       "model_id": "da0c1b37432a4dfdb994c1733c099aa6",
       "version_major": 2,
       "version_minor": 0
      },
      "text/plain": [
       "episode:   0%|          | 0/2017 [00:00<?, ?it/s]"
      ]
     },
     "metadata": {},
     "output_type": "display_data"
    },
    {
     "data": {
      "application/vnd.jupyter.widget-view+json": {
       "model_id": "e9bbfa995db548118cf4ae934b936f89",
       "version_major": 2,
       "version_minor": 0
      },
      "text/plain": [
       "episode:   0%|          | 0/2017 [00:00<?, ?it/s]"
      ]
     },
     "metadata": {},
     "output_type": "display_data"
    },
    {
     "data": {
      "application/vnd.jupyter.widget-view+json": {
       "model_id": "dd05307161184542934c667df9086238",
       "version_major": 2,
       "version_minor": 0
      },
      "text/plain": [
       "episode:   0%|          | 0/2017 [00:00<?, ?it/s]"
      ]
     },
     "metadata": {},
     "output_type": "display_data"
    },
    {
     "data": {
      "application/vnd.jupyter.widget-view+json": {
       "model_id": "419c75be881d4d73bac8d36671262bd8",
       "version_major": 2,
       "version_minor": 0
      },
      "text/plain": [
       "episode:   0%|          | 0/2017 [00:00<?, ?it/s]"
      ]
     },
     "metadata": {},
     "output_type": "display_data"
    },
    {
     "data": {
      "application/vnd.jupyter.widget-view+json": {
       "model_id": "5693b589868f46a1a2a92497aab209bf",
       "version_major": 2,
       "version_minor": 0
      },
      "text/plain": [
       "episode:   0%|          | 0/2017 [00:00<?, ?it/s]"
      ]
     },
     "metadata": {},
     "output_type": "display_data"
    },
    {
     "data": {
      "application/vnd.jupyter.widget-view+json": {
       "model_id": "81ff51f3fad442cc85cc4c964f626dff",
       "version_major": 2,
       "version_minor": 0
      },
      "text/plain": [
       "episode:   0%|          | 0/2017 [00:00<?, ?it/s]"
      ]
     },
     "metadata": {},
     "output_type": "display_data"
    },
    {
     "data": {
      "application/vnd.jupyter.widget-view+json": {
       "model_id": "da42d98a60584950a040c5d9b2dbb8f5",
       "version_major": 2,
       "version_minor": 0
      },
      "text/plain": [
       "episode:   0%|          | 0/2017 [00:00<?, ?it/s]"
      ]
     },
     "metadata": {},
     "output_type": "display_data"
    },
    {
     "name": "stdout",
     "output_type": "stream",
     "text": [
      "The results for the evaluated agent are:\n",
      "\tFor chronics with id 2050-01-24_4\n",
      "\t\t - cumulative reward: 1252.071045\n",
      "\t\t - number of time steps completed: 7 / 2017\n",
      "\tFor chronics with id 2050-03-07_0\n",
      "\t\t - cumulative reward: 32557.832031\n",
      "\t\t - number of time steps completed: 149 / 2017\n",
      "\tFor chronics with id 2050-03-14_2\n",
      "\t\t - cumulative reward: 143503.406250\n",
      "\t\t - number of time steps completed: 708 / 2017\n",
      "\tFor chronics with id 2050-03-14_7\n",
      "\t\t - cumulative reward: 28499.847656\n",
      "\t\t - number of time steps completed: 133 / 2017\n",
      "\tFor chronics with id 2050-05-02_3\n",
      "\t\t - cumulative reward: 231958.984375\n",
      "\t\t - number of time steps completed: 984 / 2017\n",
      "\tFor chronics with id 2050-05-09_7\n",
      "\t\t - cumulative reward: 304892.406250\n",
      "\t\t - number of time steps completed: 1265 / 2017\n",
      "\tFor chronics with id 2050-05-30_4\n",
      "\t\t - cumulative reward: 122167.429688\n",
      "\t\t - number of time steps completed: 463 / 2017\n",
      "\tFor chronics with id 2050-06-06_5\n",
      "\t\t - cumulative reward: 424674.531250\n",
      "\t\t - number of time steps completed: 1552 / 2017\n",
      "\tFor chronics with id 2050-06-13_3\n",
      "\t\t - cumulative reward: 364915.750000\n",
      "\t\t - number of time steps completed: 1279 / 2017\n",
      "\tFor chronics with id 2050-06-20_2\n",
      "\t\t - cumulative reward: 294956.000000\n",
      "\t\t - number of time steps completed: 1014 / 2017\n",
      "\tFor chronics with id 2050-07-11_3\n",
      "\t\t - cumulative reward: 649908.812500\n",
      "\t\t - number of time steps completed: 2017 / 2017\n",
      "\tFor chronics with id 2050-07-18_9\n",
      "\t\t - cumulative reward: 683689.437500\n",
      "\t\t - number of time steps completed: 2017 / 2017\n",
      "\tFor chronics with id 2050-08-01_6\n",
      "\t\t - cumulative reward: 690840.375000\n",
      "\t\t - number of time steps completed: 2017 / 2017\n",
      "\tFor chronics with id 2050-08-08_8\n",
      "\t\t - cumulative reward: 156700.015625\n",
      "\t\t - number of time steps completed: 437 / 2017\n",
      "\tFor chronics with id 2050-08-29_5\n",
      "\t\t - cumulative reward: 45693.792969\n",
      "\t\t - number of time steps completed: 123 / 2017\n",
      "\tFor chronics with id 2050-10-10_6\n",
      "\t\t - cumulative reward: 602820.062500\n",
      "\t\t - number of time steps completed: 2017 / 2017\n",
      "\tFor chronics with id 2050-10-24_3\n",
      "\t\t - cumulative reward: 558812.125000\n",
      "\t\t - number of time steps completed: 2017 / 2017\n",
      "\tFor chronics with id 2050-10-31_9\n",
      "\t\t - cumulative reward: 545718.062500\n",
      "\t\t - number of time steps completed: 2017 / 2017\n",
      "\tFor chronics with id 2050-11-07_0\n",
      "\t\t - cumulative reward: 37096.210938\n",
      "\t\t - number of time steps completed: 130 / 2017\n",
      "\tFor chronics with id 2050-11-21_0\n",
      "\t\t - cumulative reward: 172930.625000\n",
      "\t\t - number of time steps completed: 702 / 2017\n",
      "\tFor chronics with id 2050-12-12_1\n",
      "\t\t - cumulative reward: 65997.898438\n",
      "\t\t - number of time steps completed: 293 / 2017\n"
     ]
    }
   ],
   "source": [
    "runner = Runner(**env.get_params_for_runner(),\n",
    "                agentClass=None,\n",
    "                agentInstance=my_agent\n",
    "                )\n",
    "res = runner.run(path_save=path_agent,\n",
    "                 nb_episode=21,\n",
    "                 pbar=tqdm)"
   ]
  },
  {
   "cell_type": "code",
   "execution_count": 4,
   "metadata": {},
   "outputs": [
    {
     "data": {
      "text/plain": [
       "21"
      ]
     },
     "execution_count": 4,
     "metadata": {},
     "output_type": "execute_result"
    }
   ],
   "source": [
    "from grid2op.Episode import EpisodeData\n",
    "episode_studied = EpisodeData.list_episode(path_agent)\n",
    "len(episode_studied)"
   ]
  },
  {
   "cell_type": "code",
   "execution_count": 5,
   "metadata": {},
   "outputs": [],
   "source": [
    "this_episode = EpisodeData.from_disk(*episode_studied[20])"
   ]
  },
  {
   "cell_type": "code",
   "execution_count": 6,
   "metadata": {},
   "outputs": [],
   "source": [
    "curtailment_actions = []\n",
    "storage_power_actions = []\n",
    "\n",
    "for ep in episode_studied:\n",
    "  this_episode = EpisodeData.from_disk(*ep)\n",
    "  for act in this_episode.actions:\n",
    "      dict_ = act.as_dict()\n",
    "      if \"storage_power\" in dict_:\n",
    "        storage_power_actions.append(dict_[\"storage_power\"])\n",
    "      if \"curtailment\" in dict_:\n",
    "        curtailment_actions.append(dict_[\"curtailment\"][dict_[\"curtailment\"] >= 0])\n",
    "\n",
    "curtailment_actions = np.array(curtailment_actions)\n",
    "storage_power_actions = np.array(storage_power_actions)"
   ]
  },
  {
   "cell_type": "code",
   "execution_count": 7,
   "metadata": {},
   "outputs": [
    {
     "data": {
      "image/png": "[encoded data removed]",
      "text/plain": [
       "<Figure size 576x432 with 1 Axes>"
      ]
     },
     "metadata": {
      "needs_background": "light"
     },
     "output_type": "display_data"
    }
   ],
   "source": [
    "var = np.var(curtailment_actions, axis=0)\n",
    "mean = np.mean(curtailment_actions, axis=0)\n",
    "\n",
    "plt.figure(figsize=(8, 6))\n",
    "plt.bar(np.arange(0, curtailment_actions.shape[1], 1), var)\n",
    "plt.xlabel(\"Renewable power plants\")\n",
    "_=plt.ylabel(\"Curtailment variance\")"
   ]
  },
  {
   "cell_type": "code",
   "execution_count": 8,
   "metadata": {},
   "outputs": [
    {
     "data": {
      "image/png": "[encoded data removed]",
      "text/plain": [
       "<Figure size 432x288 with 1 Axes>"
      ]
     },
     "metadata": {
      "needs_background": "light"
     },
     "output_type": "display_data"
    }
   ],
   "source": [
    "plt.figure(figsize=(8, 6))\n",
    "plt.bar(np.arange(0, curtailment_actions.shape[1], 1), mean)\n",
    "plt.xlabel(\"Renewable power plants\")\n",
    "_=plt.ylabel(\"Curtailment mean\")"
   ]
  },
  {
   "cell_type": "code",
   "execution_count": 9,
   "metadata": {},
   "outputs": [
    {
     "data": {
      "image/png": "[encoded data removed]",
      "text/plain": [
       "<Figure size 576x432 with 1 Axes>"
      ]
     },
     "metadata": {
      "needs_background": "light"
     },
     "output_type": "display_data"
    }
   ],
   "source": [
    "var = np.var(storage_power_actions, axis=0)\n",
    "mean = np.mean(storage_power_actions, axis=0)\n",
    "\n",
    "plt.figure(figsize=(8, 6))\n",
    "plt.bar(np.arange(0, storage_power_actions.shape[1], 1), var)\n",
    "plt.xlabel(\"Batteries\")\n",
    "_=plt.ylabel(\"storage_power variance\")"
   ]
  },
  {
   "cell_type": "code",
   "execution_count": 10,
   "metadata": {},
   "outputs": [
    {
     "data": {
      "image/png": "[encoded data removed]",
      "text/plain": [
       "<Figure size 576x432 with 1 Axes>"
      ]
     },
     "metadata": {
      "needs_background": "light"
     },
     "output_type": "display_data"
    }
   ],
   "source": [
    "plt.figure(figsize=(8, 6))\n",
    "plt.bar(np.arange(0, storage_power_actions.shape[1], 1), mean)\n",
    "plt.xlabel(\"Batteries\")\n",
    "_=plt.ylabel(\"storage_power mean\")"
   ]
  },
  {
   "cell_type": "code",
   "execution_count": 11,
   "metadata": {},
   "outputs": [
    {
     "name": "stdout",
     "output_type": "stream",
     "text": [
      "64.8569% of the data are in the cluster 0\n",
      "The average distance to the cluster center is 0.0001232682989211753\n",
      "30.9970% of the data are in the cluster 1\n",
      "The average distance to the cluster center is 0.0004292291996534914\n",
      "0.5923% of the data are in the cluster 2\n",
      "The average distance to the cluster center is 0.0002448059094604105\n",
      "2.0731% of the data are in the cluster 3\n",
      "The average distance to the cluster center is 7.669139449717477e-05\n",
      "0.1974% of the data are in the cluster 4\n",
      "The average distance to the cluster center is 0.0002752730215433985\n",
      "0.0987% of the data are in the cluster 5\n",
      "The average distance to the cluster center is 0.0\n",
      "0.2962% of the data are in the cluster 6\n",
      "The average distance to the cluster center is 4.642151543521322e-05\n",
      "0.0987% of the data are in the cluster 7\n",
      "The average distance to the cluster center is 1.6521176010920818e-18\n",
      "0.6910% of the data are in the cluster 8\n",
      "The average distance to the cluster center is 0.00010171866597374901\n",
      "0.0987% of the data are in the cluster 9\n",
      "The average distance to the cluster center is 1.6190751890996458e-17\n"
     ]
    }
   ],
   "source": [
    "n_clusters = 10\n",
    "clustering = KMeans(n_clusters=n_clusters, random_state=42).fit(curtailment_actions)\n",
    "for i in range(n_clusters):\n",
    "  print(f\"{((clustering.labels_==i).sum() / clustering.labels_.shape[0]) * 100:.4f}% of the data are in the cluster {i}\")\n",
    "  mask = clustering.labels_==i\n",
    "  mean_dist = ((curtailment_actions[mask] - clustering.cluster_centers_[i])**2).sum(axis=0).mean()\n",
    "  print(f\"The average distance to the cluster center is {mean_dist:.4f}\")"
   ]
  },
  {
   "cell_type": "code",
   "execution_count": 12,
   "metadata": {},
   "outputs": [
    {
     "name": "stdout",
     "output_type": "stream",
     "text": [
      "64.8569% of the data are in the cluster 0\n",
      "The average distance to the cluster center is 0.001447424991056323\n",
      "30.9970% of the data are in the cluster 1\n",
      "The average distance to the cluster center is 0.003951460123062134\n",
      "0.0987% of the data are in the cluster 2\n",
      "The average distance to the cluster center is 0.0\n",
      "2.0731% of the data are in the cluster 3\n",
      "The average distance to the cluster center is 0.0011830503353849053\n",
      "0.1974% of the data are in the cluster 4\n",
      "The average distance to the cluster center is 0.001891941879875958\n",
      "0.5923% of the data are in the cluster 5\n",
      "The average distance to the cluster center is 0.0027112674433737993\n",
      "0.0987% of the data are in the cluster 6\n",
      "The average distance to the cluster center is 0.0\n",
      "0.3949% of the data are in the cluster 7\n",
      "The average distance to the cluster center is 0.0018688504351302981\n",
      "0.0987% of the data are in the cluster 8\n",
      "The average distance to the cluster center is 6.344131720542492e-16\n",
      "0.5923% of the data are in the cluster 9\n",
      "The average distance to the cluster center is 0.0006163644720800221\n"
     ]
    }
   ],
   "source": [
    "n_clusters = 10\n",
    "clustering = KMeans(n_clusters=n_clusters, random_state=42).fit(storage_power_actions)\n",
    "for i in range(n_clusters):\n",
    "  print(f\"{((clustering.labels_==i).sum() / clustering.labels_.shape[0]) * 100:.4f}% of the data are in the cluster {i}\")\n",
    "  mask = clustering.labels_==i\n",
    "  mean_dist = ((storage_power_actions[mask] - clustering.cluster_centers_[i])**2).sum(axis=0).mean()\n",
    "  print(f\"The average distance to the cluster center is {mean_dist:.4f}\")"
   ]
  }
 ],
 "metadata": {
  "interpreter": {
   "hash": "91a35dfe52835051810f52e811c447a0465b76bfe18baf308825e1f156f0fde9"
  },
  "kernelspec": {
   "display_name": "Python 3.8.13 ('L2RPN')",
   "language": "python",
   "name": "python3"
  },
  "language_info": {
   "codemirror_mode": {
    "name": "ipython",
    "version": 3
   },
   "file_extension": ".py",
   "mimetype": "text/x-python",
   "name": "python",
   "nbconvert_exporter": "python",
   "pygments_lexer": "ipython3",
   "version": "3.8.13"
  },
  "orig_nbformat": 4
 },
 "nbformat": 4,
 "nbformat_minor": 2
}
