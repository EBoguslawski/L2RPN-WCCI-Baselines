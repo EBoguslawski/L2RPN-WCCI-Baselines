{
 "cells": [
  {
   "cell_type": "code",
   "execution_count": 33,
   "metadata": {},
   "outputs": [],
   "source": [
    "import json\n",
    "import os\n",
    "import numpy as np\n",
    "import copy"
   ]
  },
  {
   "cell_type": "code",
   "execution_count": 4,
   "metadata": {},
   "outputs": [],
   "source": [
    "path = os.path.abspath(\".\")"
   ]
  },
  {
   "cell_type": "code",
   "execution_count": 71,
   "metadata": {},
   "outputs": [],
   "source": [
    "with open (os.path.join(path, \"agents_runs_first_eval_withgaetan.json\"), \"r\") as f:\n",
    "    dict_res_first = json.load(f)\n",
    "\n",
    "with open (os.path.join(path, \"agents_runs_second_eval.json\"), \"r\") as f:\n",
    "    dict_res_second = json.load(f)\n",
    "    \n",
    "with open (os.path.join(path, \"agents_runs_third_eval2.json\"), \"r\") as f:\n",
    "    dict_res_third = json.load(f)\n",
    "    \n",
    "with open (os.path.join(path, \"agents_runs_safe_max_rho_eval2.json\"), \"r\") as f:\n",
    "    dict_res_fmr_1 = json.load(f)\n",
    "with open (os.path.join(path, \"agents_runs_safe_max_rho_eval3.json\"), \"r\") as f:\n",
    "    dict_res_fmr_2 = json.load(f)\n",
    "\n",
    "def dict_merge(dict1, dict2):\n",
    "    res = copy.deepcopy(dict1)\n",
    "    for k in dict2:\n",
    "        if k not in res:\n",
    "            res[k] = copy.deepcopy(dict2[k])\n",
    "        else:\n",
    "            if isinstance(res[k], dict):\n",
    "                res[k] = dict_merge(res[k], dict2[k])\n",
    "            else:\n",
    "                print(f\"error for key in dict2: {k}\")\n",
    "    return res\n",
    "dict_res_fmr = dict_merge(dict_res_fmr_2, dict_res_fmr_1)"
   ]
  },
  {
   "cell_type": "code",
   "execution_count": 43,
   "metadata": {},
   "outputs": [
    {
     "data": {
      "text/plain": [
       "dict_keys(['0.8', '0.825', '0.85', '0.875', '0.9', '9.925', '0.95', '0.975', '1.0', '1.025', '0.6', '0.625', '0.65', '0.675'])"
      ]
     },
     "execution_count": 43,
     "metadata": {},
     "output_type": "execute_result"
    }
   ],
   "source": [
    "dict_res_fmr.keys()"
   ]
  },
  {
   "cell_type": "code",
   "execution_count": 23,
   "metadata": {},
   "outputs": [],
   "source": [
    "res_first = {}\n",
    "for safe_max_rho_, dict_f in dict_res_first.items():\n",
    "    for limit_cs_margin_, res_margin in dict_f.items(): \n",
    "        for training_iter_, res_iter in res_margin.items():\n",
    "            for weights_dir_str, tmp_res_model in res_iter.items():\n",
    "                model_nm = os.path.split(os.path.split(weights_dir_str)[0])[1]\n",
    "                res_first[model_nm] = tmp_res_model['score_avg']"
   ]
  },
  {
   "cell_type": "code",
   "execution_count": 14,
   "metadata": {},
   "outputs": [],
   "source": [
    "res_second = {}\n",
    "for safe_max_rho_, dict_f in dict_res_second.items():\n",
    "    for limit_cs_margin_, res_margin in dict_f.items(): \n",
    "        for training_iter_, res_iter in res_margin.items():\n",
    "            for weights_dir_str, tmp_res_model in res_iter.items():\n",
    "                model_nm = os.path.split(os.path.split(weights_dir_str)[0])[1]\n",
    "                res_second[model_nm] = tmp_res_model['score_avg']"
   ]
  },
  {
   "cell_type": "code",
   "execution_count": 72,
   "metadata": {},
   "outputs": [],
   "source": [
    "res_third = {}\n",
    "for safe_max_rho_, dict_f in dict_res_third.items():\n",
    "    for limit_cs_margin_, res_margin in dict_f.items(): \n",
    "        for training_iter_, res_iter in res_margin.items():\n",
    "            for weights_dir_str, tmp_res_model in res_iter.items():\n",
    "                model_nm = os.path.split(os.path.split(weights_dir_str)[0])[1]\n",
    "                res_third[model_nm] = tmp_res_model['score_avg']"
   ]
  },
  {
   "cell_type": "code",
   "execution_count": 67,
   "metadata": {},
   "outputs": [],
   "source": [
    "res_smr = {}\n",
    "for safe_max_rho_, dict_f in dict_res_fmr.items():\n",
    "    if float(safe_max_rho_) > 2.:\n",
    "        # bug in the data I generated: there is 9.975 instead of 0.975\n",
    "        continue\n",
    "    for limit_cs_margin_, res_margin in dict_f.items(): \n",
    "        for training_iter_, res_iter in res_margin.items():\n",
    "            for weights_dir_str, tmp_res_model in res_iter.items():\n",
    "                model_nm = os.path.split(os.path.split(weights_dir_str)[0])[1]\n",
    "                res_smr[(model_nm, safe_max_rho_)] = (tmp_res_model['score_avg'], np.sum(tmp_res_model['n_played']))"
   ]
  },
  {
   "cell_type": "code",
   "execution_count": 73,
   "metadata": {},
   "outputs": [
    {
     "data": {
      "text/plain": [
       "-7.201105393517457"
      ]
     },
     "execution_count": 73,
     "metadata": {},
     "output_type": "execute_result"
    }
   ],
   "source": [
    "np.mean(list(res_third.values()))"
   ]
  },
  {
   "cell_type": "code",
   "execution_count": 74,
   "metadata": {},
   "outputs": [
    {
     "data": {
      "text/plain": [
       "3.8581820334126538"
      ]
     },
     "execution_count": 74,
     "metadata": {},
     "output_type": "execute_result"
    }
   ],
   "source": [
    "np.mean(list(res_second.values()))"
   ]
  },
  {
   "cell_type": "code",
   "execution_count": 75,
   "metadata": {},
   "outputs": [
    {
     "data": {
      "text/plain": [
       "[('GymEnvWithRecoWithDN_20220708_140216_learning_rate_0', -33.852713878956),\n",
       " ('GymEnvWithRecoWithDN_20220708_140237_learning_rate_0', -32.35185524938328),\n",
       " ('GymEnvWithRecoWithDN_20220708_145245_learning_rate_0', -26.70077279204935),\n",
       " ('GymEnvWithRecoWithDN_20220708_191843_learning_rate_0', -19.732288546911526),\n",
       " ('GymEnvWithRecoWithDN_20220708_145303_learning_rate_0', -17.962235734932513),\n",
       " ('GymEnvWithRecoWithDN_20220710_144746_learning_rate_0', -17.20135457721523),\n",
       " ('GymEnvWithRecoWithDN_20220708_135945_learning_rate_0', -15.803013750901632),\n",
       " ('GymEnvWithRecoWithDN_20220708_145319_learning_rate_0', -14.499311349218035),\n",
       " ('GymEnvWithRecoWithDN_20220708_144913_learning_rate_0', -13.362311779021125),\n",
       " ('GymEnvWithRecoWithDN_20220709_143821_learning_rate_0', -12.634830553081162),\n",
       " ('GymEnvWithRecoWithDN_20220708_191404_learning_rate_0', -10.226771744346852),\n",
       " ('GymEnvWithRecoWithDN_20220708_191623_learning_rate_0', -10.129287819505329),\n",
       " ('GymEnvWithRecoWithDN_20220709_195644_learning_rate_0', -4.682399265756799),\n",
       " ('GymEnvWithRecoWithDN_20220708_190556_learning_rate_0', -4.235718510585664),\n",
       " ('GymEnvWithRecoWithDN_20220709_191005_learning_rate_0', -1.7497208373387516),\n",
       " ('GymEnvWithRecoWithDN_20220709_143432_learning_rate_0', -1.6259392210342463),\n",
       " ('GymEnvWithRecoWithDN_20220709_150411_learning_rate_0', 1.420086840839964),\n",
       " ('PPO_agent0_20220709_152030', 5.431892735295124),\n",
       " ('GymEnvWithRecoWithDN_20220709_195159_learning_rate_0', 5.965997890229551),\n",
       " ('PPO_agent2_20220709_152040', 6.280112700694483),\n",
       " ('PPO_agent1_20220709_152030', 12.388619706423851),\n",
       " ('PPO_agent3_20220709_152051', 12.660371379260043),\n",
       " ('GymEnvWithRecoWithDN_20220709_210104_learning_rate_0', 26.978020306592956)]"
      ]
     },
     "execution_count": 75,
     "metadata": {},
     "output_type": "execute_result"
    }
   ],
   "source": [
    "sorted(res_third.items(), key=lambda x: x[1])"
   ]
  },
  {
   "cell_type": "code",
   "execution_count": 25,
   "metadata": {},
   "outputs": [
    {
     "data": {
      "text/plain": [
       "[('GymEnvWithRecoWithDN_20220708_145245_learning_rate_0', -14.483168471127795),\n",
       " ('GymEnvWithRecoWithDN_20220708_140237_learning_rate_0', -13.110436854039826),\n",
       " ('GymEnvWithRecoWithDN_20220708_140216_learning_rate_0', -9.588720687084534),\n",
       " ('GymEnvWithRecoWithDN_20220708_145303_learning_rate_0', -6.492831630012134),\n",
       " ('GymEnvWithRecoWithDN_20220709_143821_learning_rate_0', -6.120078026927096),\n",
       " ('GymEnvWithRecoWithDN_20220710_144746_learning_rate_0', -4.142344989418255),\n",
       " ('GymEnvWithRecoWithDN_20220708_145319_learning_rate_0', -2.2408698057109757),\n",
       " ('GymEnvWithRecoWithDN_20220708_135945_learning_rate_0', -0.5480947158197492),\n",
       " ('GymEnvWithRecoWithDN_20220708_144913_learning_rate_0', 1.5648549019709643),\n",
       " ('GymEnvWithRecoWithDN_20220709_195644_learning_rate_0', 2.815732361223233),\n",
       " ('GymEnvWithRecoWithDN_20220709_150411_learning_rate_0', 4.9027006815223055),\n",
       " ('GymEnvWithRecoWithDN_20220709_143432_learning_rate_0', 8.080601268938278),\n",
       " ('PPO_agent2_20220709_152040', 9.30139117661593),\n",
       " ('GymEnvWithRecoWithDN_20220709_191005_learning_rate_0', 12.744637037931843),\n",
       " ('GymEnvWithRecoWithDN_20220709_195159_learning_rate_0', 13.459709063917206),\n",
       " ('PPO_agent0_20220709_152030', 14.382076062733272),\n",
       " ('PPO_agent1_20220709_152030', 15.936817075738729),\n",
       " ('PPO_agent3_20220709_152051', 20.858984870296826),\n",
       " ('GymEnvWithRecoWithDN_20220709_210104_learning_rate_0', 25.98449931409219)]"
      ]
     },
     "execution_count": 25,
     "metadata": {},
     "output_type": "execute_result"
    }
   ],
   "source": [
    "sorted(res_second.items(), key=lambda x: x[1])"
   ]
  },
  {
   "cell_type": "code",
   "execution_count": 60,
   "metadata": {},
   "outputs": [
    {
     "data": {
      "text/plain": [
       "[('GymEnvWithRecoWithDN_20220709_195644_learning_rate_0', -22.185810484038658),\n",
       " ('GymEnvWithRecoWithDN_20220709_150411_learning_rate_0', -17.064856659157183),\n",
       " ('GymEnvWithRecoWithDN_20220708_145245_learning_rate_0', -16.689621819845105),\n",
       " ('GymEnvWithRecoWithDN_20220708_135945_learning_rate_0', -15.552010955278224),\n",
       " ('PPO_agent1_20220709_152030', -15.114631199438302),\n",
       " ('GymEnvWithRecoWithDN_20220708_140237_learning_rate_0', -14.376236155626593),\n",
       " ('GymEnvWithRecoWithDN_20220708_140216_learning_rate_0', -13.540336220346932),\n",
       " ('PPO_agent3_20220709_152051', -4.601406301136948),\n",
       " ('GymEnvWithRecoWithDN_20220708_145303_learning_rate_0', -3.989250028559703),\n",
       " ('GymEnvWithRecoWithDN_20220710_144746_learning_rate_0', -0.9769569663197776),\n",
       " ('GymEnvWithRecoWithDN_20220708_144913_learning_rate_0', 1.2736277839908712),\n",
       " ('GymEnvWithRecoWithDN_20220709_210104_learning_rate_0', 1.3295790130852068),\n",
       " ('GymEnvWithRecoWithDN_20220709_143821_learning_rate_0', 2.574123870052177),\n",
       " ('PPO_agent2_20220709_152040', 4.905542066430957),\n",
       " ('GymEnvWithRecoWithDN_20220709_143432_learning_rate_0', 5.264381674362432),\n",
       " ('GymEnvWithRecoWithDN_20220709_195159_learning_rate_0', 6.296641093652529),\n",
       " ('GymEnvWithRecoWithDN_20220708_145319_learning_rate_0', 6.560969409828139),\n",
       " ('GymEnvWithRecoWithDN_20220709_191005_learning_rate_0', 7.106879089575489),\n",
       " ('PPO_agent0_20220709_152030', 7.635810025557796)]"
      ]
     },
     "execution_count": 60,
     "metadata": {},
     "output_type": "execute_result"
    }
   ],
   "source": [
    "sorted(res_first.items(), key=lambda x: x[1])"
   ]
  },
  {
   "cell_type": "code",
   "execution_count": 69,
   "metadata": {},
   "outputs": [
    {
     "data": {
      "text/plain": [
       "[(('GymEnvWithRecoWithDN_20220709_210104_learning_rate_0', '1.025'),\n",
       "  (18.649060723722588, 39545)),\n",
       " (('GymEnvWithRecoWithDN_20220709_210104_learning_rate_0', '0.85'),\n",
       "  (20.051498424936124, 46073)),\n",
       " (('GymEnvWithRecoWithDN_20220709_210104_learning_rate_0', '0.875'),\n",
       "  (20.133367221652126, 47135)),\n",
       " (('GymEnvWithRecoWithDN_20220709_210104_learning_rate_0', '0.725'),\n",
       "  (20.476537562309474, 47274)),\n",
       " (('GymEnvWithRecoWithDN_20220709_210104_learning_rate_0', '0.75'),\n",
       "  (21.24325720863463, 48035)),\n",
       " (('GymEnvWithRecoWithDN_20220709_210104_learning_rate_0', '0.825'),\n",
       "  (22.28289383951952, 48078)),\n",
       " (('GymEnvWithRecoWithDN_20220709_210104_learning_rate_0', '0.9'),\n",
       "  (22.62364866037014, 48737)),\n",
       " (('GymEnvWithRecoWithDN_20220709_210104_learning_rate_0', '0.95'),\n",
       "  (25.98449931409219, 49178)),\n",
       " (('GymEnvWithRecoWithDN_20220709_210104_learning_rate_0', '0.975'),\n",
       "  (25.560449366974485, 49585)),\n",
       " (('GymEnvWithRecoWithDN_20220709_210104_learning_rate_0', '0.7'),\n",
       "  (23.58164514634908, 49688)),\n",
       " (('GymEnvWithRecoWithDN_20220709_210104_learning_rate_0', '1.0'),\n",
       "  (26.60270627410235, 49820)),\n",
       " (('GymEnvWithRecoWithDN_20220709_210104_learning_rate_0', '0.8'),\n",
       "  (24.16241770746795, 49882)),\n",
       " (('GymEnvWithRecoWithDN_20220709_210104_learning_rate_0', '0.6'),\n",
       "  (24.19965974446233, 50467)),\n",
       " (('GymEnvWithRecoWithDN_20220709_210104_learning_rate_0', '0.625'),\n",
       "  (24.19965974446233, 50467)),\n",
       " (('GymEnvWithRecoWithDN_20220709_210104_learning_rate_0', '0.65'),\n",
       "  (24.218114975050323, 50467)),\n",
       " (('GymEnvWithRecoWithDN_20220709_210104_learning_rate_0', '0.675'),\n",
       "  (24.22610861414035, 50467)),\n",
       " (('GymEnvWithRecoWithDN_20220709_210104_learning_rate_0', '0.775'),\n",
       "  (24.511380255597736, 50547))]"
      ]
     },
     "execution_count": 69,
     "metadata": {},
     "output_type": "execute_result"
    }
   ],
   "source": [
    "sorted(res_smr.items(), key=lambda x: x[1][1])"
   ]
  },
  {
   "cell_type": "code",
   "execution_count": 70,
   "metadata": {},
   "outputs": [
    {
     "data": {
      "text/plain": [
       "[(('GymEnvWithRecoWithDN_20220709_210104_learning_rate_0', '1.025'),\n",
       "  (18.649060723722588, 39545)),\n",
       " (('GymEnvWithRecoWithDN_20220709_210104_learning_rate_0', '0.85'),\n",
       "  (20.051498424936124, 46073)),\n",
       " (('GymEnvWithRecoWithDN_20220709_210104_learning_rate_0', '0.875'),\n",
       "  (20.133367221652126, 47135)),\n",
       " (('GymEnvWithRecoWithDN_20220709_210104_learning_rate_0', '0.725'),\n",
       "  (20.476537562309474, 47274)),\n",
       " (('GymEnvWithRecoWithDN_20220709_210104_learning_rate_0', '0.75'),\n",
       "  (21.24325720863463, 48035)),\n",
       " (('GymEnvWithRecoWithDN_20220709_210104_learning_rate_0', '0.825'),\n",
       "  (22.28289383951952, 48078)),\n",
       " (('GymEnvWithRecoWithDN_20220709_210104_learning_rate_0', '0.9'),\n",
       "  (22.62364866037014, 48737)),\n",
       " (('GymEnvWithRecoWithDN_20220709_210104_learning_rate_0', '0.7'),\n",
       "  (23.58164514634908, 49688)),\n",
       " (('GymEnvWithRecoWithDN_20220709_210104_learning_rate_0', '0.8'),\n",
       "  (24.16241770746795, 49882)),\n",
       " (('GymEnvWithRecoWithDN_20220709_210104_learning_rate_0', '0.6'),\n",
       "  (24.19965974446233, 50467)),\n",
       " (('GymEnvWithRecoWithDN_20220709_210104_learning_rate_0', '0.625'),\n",
       "  (24.19965974446233, 50467)),\n",
       " (('GymEnvWithRecoWithDN_20220709_210104_learning_rate_0', '0.65'),\n",
       "  (24.218114975050323, 50467)),\n",
       " (('GymEnvWithRecoWithDN_20220709_210104_learning_rate_0', '0.675'),\n",
       "  (24.22610861414035, 50467)),\n",
       " (('GymEnvWithRecoWithDN_20220709_210104_learning_rate_0', '0.775'),\n",
       "  (24.511380255597736, 50547)),\n",
       " (('GymEnvWithRecoWithDN_20220709_210104_learning_rate_0', '0.975'),\n",
       "  (25.560449366974485, 49585)),\n",
       " (('GymEnvWithRecoWithDN_20220709_210104_learning_rate_0', '0.95'),\n",
       "  (25.98449931409219, 49178)),\n",
       " (('GymEnvWithRecoWithDN_20220709_210104_learning_rate_0', '1.0'),\n",
       "  (26.60270627410235, 49820))]"
      ]
     },
     "execution_count": 70,
     "metadata": {},
     "output_type": "execute_result"
    }
   ],
   "source": [
    "sorted(res_smr.items(), key=lambda x: x[1][0])"
   ]
  },
  {
   "cell_type": "code",
   "execution_count": 66,
   "metadata": {},
   "outputs": [
    {
     "data": {
      "text/plain": [
       "[<matplotlib.lines.Line2D at 0x7fac3e038f10>]"
      ]
     },
     "execution_count": 66,
     "metadata": {},
     "output_type": "execute_result"
    },
    {
     "data": {
      "image/png": "[encoded data removed]",
      "text/plain": [
       "<Figure size 432x288 with 1 Axes>"
      ]
     },
     "metadata": {
      "needs_background": "light"
     },
     "output_type": "display_data"
    }
   ],
   "source": [
    "import matplotlib.pyplot as plt\n",
    "plt.plot([float(el[1]) for el in sorted(res_smr.keys())],\n",
    "         [res_smr[el] for el in sorted(res_smr.keys())])"
   ]
  },
  {
   "cell_type": "code",
   "execution_count": null,
   "metadata": {},
   "outputs": [],
   "source": [
    "# 0.675\n",
    "{\"scores\": [4.183806258244331, 1.8316798528453546,\n",
    "            0.43853536098582424, 17.49440640978409,\n",
    "            -0.9199530882837927, -88.43682191749348,\n",
    "            3.4223651355474516, 0.1002071756253855,\n",
    "            -96.01732996005138, 1.795698958643257,\n",
    "            11.516581464772912, 61.82753775858934,\n",
    "            2.734841639985362, -0.18835913774126561,\n",
    "            -0.35467405570949395, 79.07802924633053,\n",
    "            -0.4938530401864434, -1.1700795748282278,\n",
    "            61.400855658442936, 50.76592429205074,\n",
    "            0.09002750044648167, 15.68772163238036,\n",
    "            -71.04872165002081, 22.871406897990575, \n",
    "            88.67419382117025, -1.7489875896898888,\n",
    "            77.91154678380126, 75.45294294770738,\n",
    "            43.80246539669828, 74.56730635822908,\n",
    "            24.05310846065443, 29.190714640718653,\n",
    "            42.54287365355273, 78.21798717491897,\n",
    "            77.63891600105603, 77.75376224102112,\n",
    "            77.69001205737749, 73.67709269254972,\n",
    "            39.65252438421157, 77.65104579524473,\n",
    "            -1.4053435251047897, 6.440512400271814,\n",
    "            78.08697149777173, -1.181369972581663,\n",
    "            78.44336715997113, 78.55088362605541,\n",
    "            42.85175332171671, 4.124753651645605,\n",
    "            20.898437300200634, 78.83486839730517,\n",
    "            18.908871746624357, -0.7850076638089841],\n",
    " \"score_std\": 44.76052708620361,\n",
    " \"min\": -96.01732996005138,\n",
    " \"max\": 79.07802924633053,\n",
    " \"n_played\": [609, 97, 152, 525, 202, 10, 121, 36, 10, 166, 525, 1559, 147, 975, 25,\n",
    "              2017, 50, 235, 1556, 1557, 79, 510, 127, 1288, 138, 2017, 2017, 2017,\n",
    "              1551, 2017, 687, 978, 1103, 2017, 2017, 2017, 2017, 2017, 1263, 2017,\n",
    "              503, 360, 2017, 234, 2017, 2017, 1142, 233, 692, 2017, 523, 244]\n",
    "}"
   ]
  },
  {
   "cell_type": "code",
   "execution_count": null,
   "metadata": {},
   "outputs": [],
   "source": [
    "{\n",
    "    \"scores\": [-0.011599903042765605, 1.6167830937787215,\n",
    "               -0.0020508833065232355, 17.564174821947034,\n",
    "               0.2950697194579277, -88.43682191749348,\n",
    "               3.528292276851147, 0.2723744621626025,\n",
    "               -96.01732996005138, 1.56956856776317,\n",
    "               -0.0006635045514200546, 61.88660516043964,\n",
    "               -0.007449962496211524, 0.4904904945271227,\n",
    "               -0.05600116669097273, 79.44099498030504,\n",
    "               -0.04069201080187923, 0.0,\n",
    "               0.0894203585553015, 51.558994516505535,\n",
    "               0.0, 16.587400799891995,\n",
    "               6.052568551694961, -24.85061246801695,\n",
    "               78.38170697920157, -0.2935238070314095,\n",
    "               79.22501122370389, 79.30986358566437,\n",
    "               45.64958130492425, 79.6395283261252,\n",
    "               24.29200159393541, 29.83451560523885,\n",
    "               43.02569960322756, 4.500184616426097,\n",
    "               79.99999942518029, 60.06574657483606,\n",
    "               79.74406114113195, 79.18848069993106,\n",
    "               40.39826206973527, 79.37945414604532,\n",
    "               0.10978401898394452, 79.51633219740911,\n",
    "               79.43855235065787, -0.0636683082490382,\n",
    "               79.22845944430631, 78.66646505289422,\n",
    "               8.223397333506185, 14.731692873067288,\n",
    "               -0.4757915813238397, 75.40000524935776,\n",
    "               54.59758881705464, 0.09781968995322643],\n",
    "    \"score_std\": 41.464521910933406,\n",
    "    \"min\": -96.01732996005138,\n",
    "    \"max\": 79.99999942518029,\n",
    "    \"n_played\": [525, 91, 142, 525, 210, 10, 123, 41, 10, 160, 279, 1559, 85, 975, 25,\n",
    "                 2017, 50, 235, 107, 1551, 76, 523, 523, 754, 2017, 2017, 2017,\n",
    "                 2017, 1551, 2017, 687, 981, 1103, 480, 2017, 1614, 2017, 2017, 1263,\n",
    "                 2017, 505, 2017, 2017, 234, 2017, 2017, 363, 475, 222, 1913, 1367, 245], \n",
    "}"
   ]
  }
 ],
 "metadata": {
  "kernelspec": {
   "display_name": "Python 3.8.10 64-bit",
   "language": "python",
   "name": "python3"
  },
  "language_info": {
   "codemirror_mode": {
    "name": "ipython",
    "version": 3
   },
   "file_extension": ".py",
   "mimetype": "text/x-python",
   "name": "python",
   "nbconvert_exporter": "python",
   "pygments_lexer": "ipython3",
   "version": "3.8.10"
  },
  "orig_nbformat": 4,
  "vscode": {
   "interpreter": {
    "hash": "916dbcbb3f70747c44a77c7bcd40155683ae19c65e1c03b4aa3499c5328201f1"
   }
  }
 },
 "nbformat": 4,
 "nbformat_minor": 2
}
