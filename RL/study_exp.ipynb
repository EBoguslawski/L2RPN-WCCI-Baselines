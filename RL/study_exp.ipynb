{
 "cells": [
  {
   "cell_type": "code",
   "execution_count": 38,
   "metadata": {},
   "outputs": [],
   "source": [
    "import json\n",
    "import numpy as np"
   ]
  },
  {
   "cell_type": "code",
   "execution_count": 39,
   "metadata": {},
   "outputs": [],
   "source": [
    "def study_exp(exp_name):\n",
    "  with open(f\"agents_runs_{exp_name}.json\") as f:\n",
    "    data = json.load(f)\n",
    "  return data[list(data.keys())[0]]"
   ]
  },
  {
   "cell_type": "code",
   "execution_count": 40,
   "metadata": {},
   "outputs": [],
   "source": [
    "data = study_exp(\"margin1\")"
   ]
  },
  {
   "cell_type": "code",
   "execution_count": 41,
   "metadata": {},
   "outputs": [
    {
     "name": "stdout",
     "output_type": "stream",
     "text": [
      "846.8076923076923\n",
      "15.364294660639938\n",
      "836.1923076923077\n",
      "14.162527845703291\n",
      "841.9423076923077\n",
      "15.536152519958314\n",
      "489.3269230769231\n",
      "-8.942999608839248\n"
     ]
    }
   ],
   "source": [
    "for k1 in data.keys():\n",
    "  for k2 in data[k1].keys():\n",
    "    for k3 in data[k1][k2].keys():\n",
    "      print(np.mean(data[k1][k2][k3][\"n_played\"]))\n",
    "      print(np.mean(data[k1][k2][k3][\"score_avg\"]))"
   ]
  },
  {
   "cell_type": "code",
   "execution_count": null,
   "metadata": {},
   "outputs": [],
   "source": []
  }
 ],
 "metadata": {
  "kernelspec": {
   "display_name": "Python 3.9.12 ('L2RPN')",
   "language": "python",
   "name": "python3"
  },
  "language_info": {
   "codemirror_mode": {
    "name": "ipython",
    "version": 3
   },
   "file_extension": ".py",
   "mimetype": "text/x-python",
   "name": "python",
   "nbconvert_exporter": "python",
   "pygments_lexer": "ipython3",
   "version": "3.9.12"
  },
  "orig_nbformat": 4,
  "vscode": {
   "interpreter": {
    "hash": "ac16c9cda3e1ca3ba8ef92137292ce35515d0771bf3965bd3a22025532cdb42f"
   }
  }
 },
 "nbformat": 4,
 "nbformat_minor": 2
}
