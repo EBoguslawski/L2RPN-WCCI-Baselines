{
 "cells": [
  {
   "cell_type": "code",
   "execution_count": 1,
   "metadata": {},
   "outputs": [],
   "source": [
    "import os\n",
    "import grid2op\n",
    "from grid2op.Parameters import Parameters\n",
    "import numpy as np\n",
    "import shutil\n",
    "from examples.ppo_stable_baselines.C_evaluate_trained_model import load_agent\n",
    "import matplotlib.pyplot as plt\n",
    "\n",
    "from sklearn.cluster import AffinityPropagation, KMeans\n",
    "from tqdm.notebook import tqdm\n",
    "from grid2op.Runner import Runner\n",
    "from lightsim2grid import LightSimBackend\n",
    "from CustomGymEnv import CustomGymEnv\n",
    "\n",
    "path_agents = \"study_rl_agent\""
   ]
  },
  {
   "cell_type": "code",
   "execution_count": 3,
   "metadata": {},
   "outputs": [],
   "source": [
    "ENV_NAME = \"l2rpn_wcci_2022_dev_val\"\n",
    "\n",
    "p = Parameters()\n",
    "p.LIMIT_INFEASIBLE_CURTAILMENT_STORAGE_ACTION = True\n",
    "\n",
    "env = grid2op.make(ENV_NAME, backend=LightSimBackend(), param=p)\n",
    "\n",
    "shutil.rmtree(os.path.abspath(path_agents), ignore_errors=True)\n",
    "if not os.path.exists(path_agents):\n",
    "    os.mkdir(path_agents)\n",
    "\n",
    "# make a runner for this agent\n",
    "agent_name = \"CustomGymEnv_2022-05-06_18-51\"\n",
    "gymenv_kwargs = {\"safe_max_rho\": 0.9}\n",
    "\n",
    "path_agent = os.path.join(path_agents, agent_name)\n",
    "shutil.rmtree(os.path.abspath(path_agent), ignore_errors=True)\n",
    "load_path = os.path.join(\"saved_model\", agent_name)\n",
    "\n",
    "my_agent = load_agent(env, load_path=\"saved_model\", name=agent_name, gymenv_class=CustomGymEnv, gymenv_kwargs=gymenv_kwargs)"
   ]
  },
  {
   "cell_type": "code",
   "execution_count": 4,
   "metadata": {},
   "outputs": [
    {
     "data": {
      "application/vnd.jupyter.widget-view+json": {
       "model_id": "b893a2bb73674c56b5ab9966a2ff835e",
       "version_major": 2,
       "version_minor": 0
      },
      "text/plain": [
       "episode:   0%|          | 0/21 [00:00<?, ?it/s]"
      ]
     },
     "metadata": {},
     "output_type": "display_data"
    },
    {
     "data": {
      "application/vnd.jupyter.widget-view+json": {
       "model_id": "6c4c326f6ab04396a204983f03af924a",
       "version_major": 2,
       "version_minor": 0
      },
      "text/plain": [
       "episode:   0%|          | 0/2017 [00:00<?, ?it/s]"
      ]
     },
     "metadata": {},
     "output_type": "display_data"
    },
    {
     "data": {
      "application/vnd.jupyter.widget-view+json": {
       "model_id": "93b46275edb641249f982f22e11747f2",
       "version_major": 2,
       "version_minor": 0
      },
      "text/plain": [
       "episode:   0%|          | 0/2017 [00:00<?, ?it/s]"
      ]
     },
     "metadata": {},
     "output_type": "display_data"
    },
    {
     "data": {
      "application/vnd.jupyter.widget-view+json": {
       "model_id": "95d69448b73149f59c1b4124dfa50863",
       "version_major": 2,
       "version_minor": 0
      },
      "text/plain": [
       "episode:   0%|          | 0/2017 [00:00<?, ?it/s]"
      ]
     },
     "metadata": {},
     "output_type": "display_data"
    },
    {
     "data": {
      "application/vnd.jupyter.widget-view+json": {
       "model_id": "8e5adf4bdbf74aa7a1b2c688afe903a9",
       "version_major": 2,
       "version_minor": 0
      },
      "text/plain": [
       "episode:   0%|          | 0/2017 [00:00<?, ?it/s]"
      ]
     },
     "metadata": {},
     "output_type": "display_data"
    },
    {
     "data": {
      "application/vnd.jupyter.widget-view+json": {
       "model_id": "3ad52e83579e4f88835d5358c8ddbbf2",
       "version_major": 2,
       "version_minor": 0
      },
      "text/plain": [
       "episode:   0%|          | 0/2017 [00:00<?, ?it/s]"
      ]
     },
     "metadata": {},
     "output_type": "display_data"
    },
    {
     "data": {
      "application/vnd.jupyter.widget-view+json": {
       "model_id": "17d8e71208bf40a0acb5bca485c086c1",
       "version_major": 2,
       "version_minor": 0
      },
      "text/plain": [
       "episode:   0%|          | 0/2017 [00:00<?, ?it/s]"
      ]
     },
     "metadata": {},
     "output_type": "display_data"
    },
    {
     "data": {
      "application/vnd.jupyter.widget-view+json": {
       "model_id": "db5080b16df844eeb3f59bf050d59507",
       "version_major": 2,
       "version_minor": 0
      },
      "text/plain": [
       "episode:   0%|          | 0/2017 [00:00<?, ?it/s]"
      ]
     },
     "metadata": {},
     "output_type": "display_data"
    },
    {
     "data": {
      "application/vnd.jupyter.widget-view+json": {
       "model_id": "b80e71d87f444507bdd32c8947281ca4",
       "version_major": 2,
       "version_minor": 0
      },
      "text/plain": [
       "episode:   0%|          | 0/2017 [00:00<?, ?it/s]"
      ]
     },
     "metadata": {},
     "output_type": "display_data"
    },
    {
     "data": {
      "application/vnd.jupyter.widget-view+json": {
       "model_id": "1a6acb5a82424edcb8b64c2950d6935e",
       "version_major": 2,
       "version_minor": 0
      },
      "text/plain": [
       "episode:   0%|          | 0/2017 [00:00<?, ?it/s]"
      ]
     },
     "metadata": {},
     "output_type": "display_data"
    },
    {
     "data": {
      "application/vnd.jupyter.widget-view+json": {
       "model_id": "1952cf85faa445349a70cb64aa0ff6ae",
       "version_major": 2,
       "version_minor": 0
      },
      "text/plain": [
       "episode:   0%|          | 0/2017 [00:00<?, ?it/s]"
      ]
     },
     "metadata": {},
     "output_type": "display_data"
    },
    {
     "data": {
      "application/vnd.jupyter.widget-view+json": {
       "model_id": "d4944991a44545e6bbc5146c1cfd797e",
       "version_major": 2,
       "version_minor": 0
      },
      "text/plain": [
       "episode:   0%|          | 0/2017 [00:00<?, ?it/s]"
      ]
     },
     "metadata": {},
     "output_type": "display_data"
    },
    {
     "data": {
      "application/vnd.jupyter.widget-view+json": {
       "model_id": "27e723e0ecb248f099a814c635e6293a",
       "version_major": 2,
       "version_minor": 0
      },
      "text/plain": [
       "episode:   0%|          | 0/2017 [00:00<?, ?it/s]"
      ]
     },
     "metadata": {},
     "output_type": "display_data"
    },
    {
     "data": {
      "application/vnd.jupyter.widget-view+json": {
       "model_id": "855722b54de14ae09de12890145ac1fd",
       "version_major": 2,
       "version_minor": 0
      },
      "text/plain": [
       "episode:   0%|          | 0/2017 [00:00<?, ?it/s]"
      ]
     },
     "metadata": {},
     "output_type": "display_data"
    },
    {
     "data": {
      "application/vnd.jupyter.widget-view+json": {
       "model_id": "84c17a545e8c4115b38d2d28cbc5bc28",
       "version_major": 2,
       "version_minor": 0
      },
      "text/plain": [
       "episode:   0%|          | 0/2017 [00:00<?, ?it/s]"
      ]
     },
     "metadata": {},
     "output_type": "display_data"
    },
    {
     "data": {
      "application/vnd.jupyter.widget-view+json": {
       "model_id": "847fec59afab45978da86517585a6ea4",
       "version_major": 2,
       "version_minor": 0
      },
      "text/plain": [
       "episode:   0%|          | 0/2017 [00:00<?, ?it/s]"
      ]
     },
     "metadata": {},
     "output_type": "display_data"
    },
    {
     "data": {
      "application/vnd.jupyter.widget-view+json": {
       "model_id": "b31743c25a9a459d851cc60bcf110645",
       "version_major": 2,
       "version_minor": 0
      },
      "text/plain": [
       "episode:   0%|          | 0/2017 [00:00<?, ?it/s]"
      ]
     },
     "metadata": {},
     "output_type": "display_data"
    },
    {
     "data": {
      "application/vnd.jupyter.widget-view+json": {
       "model_id": "095563b6566840f0ad4648ede0582f16",
       "version_major": 2,
       "version_minor": 0
      },
      "text/plain": [
       "episode:   0%|          | 0/2017 [00:00<?, ?it/s]"
      ]
     },
     "metadata": {},
     "output_type": "display_data"
    },
    {
     "data": {
      "application/vnd.jupyter.widget-view+json": {
       "model_id": "b08236158e834a55b7e075e7ee074dce",
       "version_major": 2,
       "version_minor": 0
      },
      "text/plain": [
       "episode:   0%|          | 0/2017 [00:00<?, ?it/s]"
      ]
     },
     "metadata": {},
     "output_type": "display_data"
    },
    {
     "data": {
      "application/vnd.jupyter.widget-view+json": {
       "model_id": "f2d9fb347af5403c900ffdd6222f749a",
       "version_major": 2,
       "version_minor": 0
      },
      "text/plain": [
       "episode:   0%|          | 0/2017 [00:00<?, ?it/s]"
      ]
     },
     "metadata": {},
     "output_type": "display_data"
    },
    {
     "data": {
      "application/vnd.jupyter.widget-view+json": {
       "model_id": "c9abc22792354375b4baa740efbab7a8",
       "version_major": 2,
       "version_minor": 0
      },
      "text/plain": [
       "episode:   0%|          | 0/2017 [00:00<?, ?it/s]"
      ]
     },
     "metadata": {},
     "output_type": "display_data"
    },
    {
     "data": {
      "application/vnd.jupyter.widget-view+json": {
       "model_id": "47269939e50c424783dc7e27840169a5",
       "version_major": 2,
       "version_minor": 0
      },
      "text/plain": [
       "episode:   0%|          | 0/2017 [00:00<?, ?it/s]"
      ]
     },
     "metadata": {},
     "output_type": "display_data"
    }
   ],
   "source": [
    "runner = Runner(**env.get_params_for_runner(),\n",
    "                agentClass=None,\n",
    "                agentInstance=my_agent\n",
    "                )\n",
    "res = runner.run(path_save=path_agent,\n",
    "                 nb_episode=21,\n",
    "                 pbar=tqdm)"
   ]
  },
  {
   "cell_type": "code",
   "execution_count": 5,
   "metadata": {},
   "outputs": [
    {
     "data": {
      "text/plain": [
       "21"
      ]
     },
     "execution_count": 5,
     "metadata": {},
     "output_type": "execute_result"
    }
   ],
   "source": [
    "from grid2op.Episode import EpisodeData\n",
    "episode_studied = EpisodeData.list_episode(path_agent)\n",
    "len(episode_studied)"
   ]
  },
  {
   "cell_type": "code",
   "execution_count": 6,
   "metadata": {},
   "outputs": [],
   "source": [
    "this_episode = EpisodeData.from_disk(*episode_studied[20])"
   ]
  },
  {
   "cell_type": "code",
   "execution_count": 7,
   "metadata": {},
   "outputs": [],
   "source": [
    "curtailment_actions = []\n",
    "storage_power_actions = []\n",
    "\n",
    "for ep in episode_studied:\n",
    "  this_episode = EpisodeData.from_disk(*ep)\n",
    "  for act in this_episode.actions:\n",
    "      dict_ = act.as_dict()\n",
    "      if \"storage_power\" in dict_:\n",
    "        storage_power_actions.append(dict_[\"storage_power\"])\n",
    "      if \"curtailment\" in dict_:\n",
    "        curtailment_actions.append(dict_[\"curtailment\"][dict_[\"curtailment\"] >= 0])\n",
    "\n",
    "curtailment_actions = np.array(curtailment_actions)\n",
    "storage_power_actions = np.array(storage_power_actions)"
   ]
  },
  {
   "cell_type": "code",
   "execution_count": 8,
   "metadata": {},
   "outputs": [
    {
     "name": "stderr",
     "output_type": "stream",
     "text": [
      "/home/gaetan/miniconda3/envs/L2RPN/lib/python3.9/site-packages/numpy/core/fromnumeric.py:3723: RuntimeWarning: Degrees of freedom <= 0 for slice\n",
      "  return _methods._var(a, axis=axis, dtype=dtype, out=out, ddof=ddof,\n",
      "/home/gaetan/miniconda3/envs/L2RPN/lib/python3.9/site-packages/numpy/core/_methods.py:222: RuntimeWarning: invalid value encountered in true_divide\n",
      "  arrmean = um.true_divide(arrmean, div, out=arrmean, casting='unsafe',\n",
      "/home/gaetan/miniconda3/envs/L2RPN/lib/python3.9/site-packages/numpy/core/_methods.py:254: RuntimeWarning: invalid value encountered in double_scalars\n",
      "  ret = ret.dtype.type(ret / rcount)\n",
      "/home/gaetan/miniconda3/envs/L2RPN/lib/python3.9/site-packages/numpy/core/fromnumeric.py:3440: RuntimeWarning: Mean of empty slice.\n",
      "  return _methods._mean(a, axis=axis, dtype=dtype,\n",
      "/home/gaetan/miniconda3/envs/L2RPN/lib/python3.9/site-packages/numpy/core/_methods.py:189: RuntimeWarning: invalid value encountered in double_scalars\n",
      "  ret = ret.dtype.type(ret / rcount)\n"
     ]
    },
    {
     "ename": "IndexError",
     "evalue": "tuple index out of range",
     "output_type": "error",
     "traceback": [
      "\u001b[0;31m---------------------------------------------------------------------------\u001b[0m",
      "\u001b[0;31mIndexError\u001b[0m                                Traceback (most recent call last)",
      "\u001b[1;32m/home/gaetan/Documents/Projects/L2RPN-WCCI-Baselines/RL/study_actions.ipynb Cell 7'\u001b[0m in \u001b[0;36m<cell line: 5>\u001b[0;34m()\u001b[0m\n\u001b[1;32m      <a href='vscode-notebook-cell:/home/gaetan/Documents/Projects/L2RPN-WCCI-Baselines/RL/study_actions.ipynb#ch0000006?line=1'>2</a>\u001b[0m mean \u001b[39m=\u001b[39m np\u001b[39m.\u001b[39mmean(curtailment_actions, axis\u001b[39m=\u001b[39m\u001b[39m0\u001b[39m)\n\u001b[1;32m      <a href='vscode-notebook-cell:/home/gaetan/Documents/Projects/L2RPN-WCCI-Baselines/RL/study_actions.ipynb#ch0000006?line=3'>4</a>\u001b[0m plt\u001b[39m.\u001b[39mfigure(figsize\u001b[39m=\u001b[39m(\u001b[39m8\u001b[39m, \u001b[39m6\u001b[39m))\n\u001b[0;32m----> <a href='vscode-notebook-cell:/home/gaetan/Documents/Projects/L2RPN-WCCI-Baselines/RL/study_actions.ipynb#ch0000006?line=4'>5</a>\u001b[0m plt\u001b[39m.\u001b[39mbar(np\u001b[39m.\u001b[39marange(\u001b[39m0\u001b[39m, curtailment_actions\u001b[39m.\u001b[39;49mshape[\u001b[39m1\u001b[39;49m], \u001b[39m1\u001b[39m), var)\n\u001b[1;32m      <a href='vscode-notebook-cell:/home/gaetan/Documents/Projects/L2RPN-WCCI-Baselines/RL/study_actions.ipynb#ch0000006?line=5'>6</a>\u001b[0m plt\u001b[39m.\u001b[39mxlabel(\u001b[39m\"\u001b[39m\u001b[39mRenewable power plants\u001b[39m\u001b[39m\"\u001b[39m)\n\u001b[1;32m      <a href='vscode-notebook-cell:/home/gaetan/Documents/Projects/L2RPN-WCCI-Baselines/RL/study_actions.ipynb#ch0000006?line=6'>7</a>\u001b[0m _\u001b[39m=\u001b[39mplt\u001b[39m.\u001b[39mylabel(\u001b[39m\"\u001b[39m\u001b[39mCurtailment variance\u001b[39m\u001b[39m\"\u001b[39m)\n",
      "\u001b[0;31mIndexError\u001b[0m: tuple index out of range"
     ]
    },
    {
     "data": {
      "text/plain": [
       "<Figure size 576x432 with 0 Axes>"
      ]
     },
     "metadata": {},
     "output_type": "display_data"
    }
   ],
   "source": [
    "var = np.var(curtailment_actions, axis=0)\n",
    "mean = np.mean(curtailment_actions, axis=0)\n",
    "\n",
    "plt.figure(figsize=(8, 6))\n",
    "plt.bar(np.arange(0, curtailment_actions.shape[1], 1), var)\n",
    "plt.xlabel(\"Renewable power plants\")\n",
    "_=plt.ylabel(\"Curtailment variance\")"
   ]
  },
  {
   "cell_type": "code",
   "execution_count": 9,
   "metadata": {},
   "outputs": [
    {
     "ename": "IndexError",
     "evalue": "tuple index out of range",
     "output_type": "error",
     "traceback": [
      "\u001b[0;31m---------------------------------------------------------------------------\u001b[0m",
      "\u001b[0;31mIndexError\u001b[0m                                Traceback (most recent call last)",
      "\u001b[1;32m/home/gaetan/Documents/Projects/L2RPN-WCCI-Baselines/RL/study_actions.ipynb Cell 8'\u001b[0m in \u001b[0;36m<cell line: 2>\u001b[0;34m()\u001b[0m\n\u001b[1;32m      <a href='vscode-notebook-cell:/home/gaetan/Documents/Projects/L2RPN-WCCI-Baselines/RL/study_actions.ipynb#ch0000007?line=0'>1</a>\u001b[0m plt\u001b[39m.\u001b[39mfigure(figsize\u001b[39m=\u001b[39m(\u001b[39m8\u001b[39m, \u001b[39m6\u001b[39m))\n\u001b[0;32m----> <a href='vscode-notebook-cell:/home/gaetan/Documents/Projects/L2RPN-WCCI-Baselines/RL/study_actions.ipynb#ch0000007?line=1'>2</a>\u001b[0m plt\u001b[39m.\u001b[39mbar(np\u001b[39m.\u001b[39marange(\u001b[39m0\u001b[39m, curtailment_actions\u001b[39m.\u001b[39;49mshape[\u001b[39m1\u001b[39;49m], \u001b[39m1\u001b[39m), mean)\n\u001b[1;32m      <a href='vscode-notebook-cell:/home/gaetan/Documents/Projects/L2RPN-WCCI-Baselines/RL/study_actions.ipynb#ch0000007?line=2'>3</a>\u001b[0m plt\u001b[39m.\u001b[39mxlabel(\u001b[39m\"\u001b[39m\u001b[39mRenewable power plants\u001b[39m\u001b[39m\"\u001b[39m)\n\u001b[1;32m      <a href='vscode-notebook-cell:/home/gaetan/Documents/Projects/L2RPN-WCCI-Baselines/RL/study_actions.ipynb#ch0000007?line=3'>4</a>\u001b[0m _\u001b[39m=\u001b[39mplt\u001b[39m.\u001b[39mylabel(\u001b[39m\"\u001b[39m\u001b[39mCurtailment mean\u001b[39m\u001b[39m\"\u001b[39m)\n",
      "\u001b[0;31mIndexError\u001b[0m: tuple index out of range"
     ]
    },
    {
     "data": {
      "text/plain": [
       "<Figure size 576x432 with 0 Axes>"
      ]
     },
     "metadata": {},
     "output_type": "display_data"
    }
   ],
   "source": [
    "plt.figure(figsize=(8, 6))\n",
    "plt.bar(np.arange(0, curtailment_actions.shape[1], 1), mean)\n",
    "plt.xlabel(\"Renewable power plants\")\n",
    "_=plt.ylabel(\"Curtailment mean\")"
   ]
  },
  {
   "cell_type": "code",
   "execution_count": 10,
   "metadata": {},
   "outputs": [
    {
     "data": {
      "image/png": "[encoded data removed]",
      "text/plain": [
       "<Figure size 576x432 with 1 Axes>"
      ]
     },
     "metadata": {
      "needs_background": "light"
     },
     "output_type": "display_data"
    }
   ],
   "source": [
    "var = np.var(storage_power_actions, axis=0)\n",
    "mean = np.mean(storage_power_actions, axis=0)\n",
    "\n",
    "plt.figure(figsize=(8, 6))\n",
    "plt.bar(np.arange(0, storage_power_actions.shape[1], 1), var)\n",
    "plt.xlabel(\"Batteries\")\n",
    "_=plt.ylabel(\"storage_power variance\")"
   ]
  },
  {
   "cell_type": "code",
   "execution_count": 11,
   "metadata": {},
   "outputs": [
    {
     "data": {
      "image/png": "[encoded data removed]",
      "text/plain": [
       "<Figure size 576x432 with 1 Axes>"
      ]
     },
     "metadata": {
      "needs_background": "light"
     },
     "output_type": "display_data"
    }
   ],
   "source": [
    "plt.figure(figsize=(8, 6))\n",
    "plt.bar(np.arange(0, storage_power_actions.shape[1], 1), mean)\n",
    "plt.xlabel(\"Batteries\")\n",
    "_=plt.ylabel(\"storage_power mean\")"
   ]
  },
  {
   "cell_type": "code",
   "execution_count": 12,
   "metadata": {},
   "outputs": [
    {
     "ename": "ValueError",
     "evalue": "Expected 2D array, got 1D array instead:\narray=[].\nReshape your data either using array.reshape(-1, 1) if your data has a single feature or array.reshape(1, -1) if it contains a single sample.",
     "output_type": "error",
     "traceback": [
      "\u001b[0;31m---------------------------------------------------------------------------\u001b[0m",
      "\u001b[0;31mValueError\u001b[0m                                Traceback (most recent call last)",
      "\u001b[1;32m/home/gaetan/Documents/Projects/L2RPN-WCCI-Baselines/RL/study_actions.ipynb Cell 11'\u001b[0m in \u001b[0;36m<cell line: 2>\u001b[0;34m()\u001b[0m\n\u001b[1;32m      <a href='vscode-notebook-cell:/home/gaetan/Documents/Projects/L2RPN-WCCI-Baselines/RL/study_actions.ipynb#ch0000010?line=0'>1</a>\u001b[0m n_clusters \u001b[39m=\u001b[39m \u001b[39m10\u001b[39m\n\u001b[0;32m----> <a href='vscode-notebook-cell:/home/gaetan/Documents/Projects/L2RPN-WCCI-Baselines/RL/study_actions.ipynb#ch0000010?line=1'>2</a>\u001b[0m clustering \u001b[39m=\u001b[39m KMeans(n_clusters\u001b[39m=\u001b[39;49mn_clusters, random_state\u001b[39m=\u001b[39;49m\u001b[39m42\u001b[39;49m)\u001b[39m.\u001b[39;49mfit(curtailment_actions)\n\u001b[1;32m      <a href='vscode-notebook-cell:/home/gaetan/Documents/Projects/L2RPN-WCCI-Baselines/RL/study_actions.ipynb#ch0000010?line=2'>3</a>\u001b[0m \u001b[39mfor\u001b[39;00m i \u001b[39min\u001b[39;00m \u001b[39mrange\u001b[39m(n_clusters):\n\u001b[1;32m      <a href='vscode-notebook-cell:/home/gaetan/Documents/Projects/L2RPN-WCCI-Baselines/RL/study_actions.ipynb#ch0000010?line=3'>4</a>\u001b[0m   \u001b[39mprint\u001b[39m(\u001b[39mf\u001b[39m\u001b[39m\"\u001b[39m\u001b[39m{\u001b[39;00m((clustering\u001b[39m.\u001b[39mlabels_\u001b[39m==\u001b[39mi)\u001b[39m.\u001b[39msum() \u001b[39m/\u001b[39m clustering\u001b[39m.\u001b[39mlabels_\u001b[39m.\u001b[39mshape[\u001b[39m0\u001b[39m]) \u001b[39m*\u001b[39m \u001b[39m100\u001b[39m\u001b[39m:\u001b[39;00m\u001b[39m.4f\u001b[39m\u001b[39m}\u001b[39;00m\u001b[39m% of the data are in the cluster \u001b[39m\u001b[39m{\u001b[39;00mi\u001b[39m}\u001b[39;00m\u001b[39m\"\u001b[39m)\n",
      "File \u001b[0;32m~/miniconda3/envs/L2RPN/lib/python3.9/site-packages/sklearn/cluster/_kmeans.py:1137\u001b[0m, in \u001b[0;36mKMeans.fit\u001b[0;34m(self, X, y, sample_weight)\u001b[0m\n\u001b[1;32m   <a href='file:///home/gaetan/miniconda3/envs/L2RPN/lib/python3.9/site-packages/sklearn/cluster/_kmeans.py?line=1110'>1111</a>\u001b[0m \u001b[39mdef\u001b[39;00m \u001b[39mfit\u001b[39m(\u001b[39mself\u001b[39m, X, y\u001b[39m=\u001b[39m\u001b[39mNone\u001b[39;00m, sample_weight\u001b[39m=\u001b[39m\u001b[39mNone\u001b[39;00m):\n\u001b[1;32m   <a href='file:///home/gaetan/miniconda3/envs/L2RPN/lib/python3.9/site-packages/sklearn/cluster/_kmeans.py?line=1111'>1112</a>\u001b[0m     \u001b[39m\"\"\"Compute k-means clustering.\u001b[39;00m\n\u001b[1;32m   <a href='file:///home/gaetan/miniconda3/envs/L2RPN/lib/python3.9/site-packages/sklearn/cluster/_kmeans.py?line=1112'>1113</a>\u001b[0m \n\u001b[1;32m   <a href='file:///home/gaetan/miniconda3/envs/L2RPN/lib/python3.9/site-packages/sklearn/cluster/_kmeans.py?line=1113'>1114</a>\u001b[0m \u001b[39m    Parameters\u001b[39;00m\n\u001b[0;32m   (...)\u001b[0m\n\u001b[1;32m   <a href='file:///home/gaetan/miniconda3/envs/L2RPN/lib/python3.9/site-packages/sklearn/cluster/_kmeans.py?line=1134'>1135</a>\u001b[0m \u001b[39m        Fitted estimator.\u001b[39;00m\n\u001b[1;32m   <a href='file:///home/gaetan/miniconda3/envs/L2RPN/lib/python3.9/site-packages/sklearn/cluster/_kmeans.py?line=1135'>1136</a>\u001b[0m \u001b[39m    \"\"\"\u001b[39;00m\n\u001b[0;32m-> <a href='file:///home/gaetan/miniconda3/envs/L2RPN/lib/python3.9/site-packages/sklearn/cluster/_kmeans.py?line=1136'>1137</a>\u001b[0m     X \u001b[39m=\u001b[39m \u001b[39mself\u001b[39;49m\u001b[39m.\u001b[39;49m_validate_data(\n\u001b[1;32m   <a href='file:///home/gaetan/miniconda3/envs/L2RPN/lib/python3.9/site-packages/sklearn/cluster/_kmeans.py?line=1137'>1138</a>\u001b[0m         X,\n\u001b[1;32m   <a href='file:///home/gaetan/miniconda3/envs/L2RPN/lib/python3.9/site-packages/sklearn/cluster/_kmeans.py?line=1138'>1139</a>\u001b[0m         accept_sparse\u001b[39m=\u001b[39;49m\u001b[39m\"\u001b[39;49m\u001b[39mcsr\u001b[39;49m\u001b[39m\"\u001b[39;49m,\n\u001b[1;32m   <a href='file:///home/gaetan/miniconda3/envs/L2RPN/lib/python3.9/site-packages/sklearn/cluster/_kmeans.py?line=1139'>1140</a>\u001b[0m         dtype\u001b[39m=\u001b[39;49m[np\u001b[39m.\u001b[39;49mfloat64, np\u001b[39m.\u001b[39;49mfloat32],\n\u001b[1;32m   <a href='file:///home/gaetan/miniconda3/envs/L2RPN/lib/python3.9/site-packages/sklearn/cluster/_kmeans.py?line=1140'>1141</a>\u001b[0m         order\u001b[39m=\u001b[39;49m\u001b[39m\"\u001b[39;49m\u001b[39mC\u001b[39;49m\u001b[39m\"\u001b[39;49m,\n\u001b[1;32m   <a href='file:///home/gaetan/miniconda3/envs/L2RPN/lib/python3.9/site-packages/sklearn/cluster/_kmeans.py?line=1141'>1142</a>\u001b[0m         copy\u001b[39m=\u001b[39;49m\u001b[39mself\u001b[39;49m\u001b[39m.\u001b[39;49mcopy_x,\n\u001b[1;32m   <a href='file:///home/gaetan/miniconda3/envs/L2RPN/lib/python3.9/site-packages/sklearn/cluster/_kmeans.py?line=1142'>1143</a>\u001b[0m         accept_large_sparse\u001b[39m=\u001b[39;49m\u001b[39mFalse\u001b[39;49;00m,\n\u001b[1;32m   <a href='file:///home/gaetan/miniconda3/envs/L2RPN/lib/python3.9/site-packages/sklearn/cluster/_kmeans.py?line=1143'>1144</a>\u001b[0m     )\n\u001b[1;32m   <a href='file:///home/gaetan/miniconda3/envs/L2RPN/lib/python3.9/site-packages/sklearn/cluster/_kmeans.py?line=1145'>1146</a>\u001b[0m     \u001b[39mself\u001b[39m\u001b[39m.\u001b[39m_check_params(X)\n\u001b[1;32m   <a href='file:///home/gaetan/miniconda3/envs/L2RPN/lib/python3.9/site-packages/sklearn/cluster/_kmeans.py?line=1146'>1147</a>\u001b[0m     random_state \u001b[39m=\u001b[39m check_random_state(\u001b[39mself\u001b[39m\u001b[39m.\u001b[39mrandom_state)\n",
      "File \u001b[0;32m~/miniconda3/envs/L2RPN/lib/python3.9/site-packages/sklearn/base.py:566\u001b[0m, in \u001b[0;36mBaseEstimator._validate_data\u001b[0;34m(self, X, y, reset, validate_separately, **check_params)\u001b[0m\n\u001b[1;32m    <a href='file:///home/gaetan/miniconda3/envs/L2RPN/lib/python3.9/site-packages/sklearn/base.py?line=563'>564</a>\u001b[0m     \u001b[39mraise\u001b[39;00m \u001b[39mValueError\u001b[39;00m(\u001b[39m\"\u001b[39m\u001b[39mValidation should be done on X, y or both.\u001b[39m\u001b[39m\"\u001b[39m)\n\u001b[1;32m    <a href='file:///home/gaetan/miniconda3/envs/L2RPN/lib/python3.9/site-packages/sklearn/base.py?line=564'>565</a>\u001b[0m \u001b[39melif\u001b[39;00m \u001b[39mnot\u001b[39;00m no_val_X \u001b[39mand\u001b[39;00m no_val_y:\n\u001b[0;32m--> <a href='file:///home/gaetan/miniconda3/envs/L2RPN/lib/python3.9/site-packages/sklearn/base.py?line=565'>566</a>\u001b[0m     X \u001b[39m=\u001b[39m check_array(X, \u001b[39m*\u001b[39;49m\u001b[39m*\u001b[39;49mcheck_params)\n\u001b[1;32m    <a href='file:///home/gaetan/miniconda3/envs/L2RPN/lib/python3.9/site-packages/sklearn/base.py?line=566'>567</a>\u001b[0m     out \u001b[39m=\u001b[39m X\n\u001b[1;32m    <a href='file:///home/gaetan/miniconda3/envs/L2RPN/lib/python3.9/site-packages/sklearn/base.py?line=567'>568</a>\u001b[0m \u001b[39melif\u001b[39;00m no_val_X \u001b[39mand\u001b[39;00m \u001b[39mnot\u001b[39;00m no_val_y:\n",
      "File \u001b[0;32m~/miniconda3/envs/L2RPN/lib/python3.9/site-packages/sklearn/utils/validation.py:769\u001b[0m, in \u001b[0;36mcheck_array\u001b[0;34m(array, accept_sparse, accept_large_sparse, dtype, order, copy, force_all_finite, ensure_2d, allow_nd, ensure_min_samples, ensure_min_features, estimator)\u001b[0m\n\u001b[1;32m    <a href='file:///home/gaetan/miniconda3/envs/L2RPN/lib/python3.9/site-packages/sklearn/utils/validation.py?line=766'>767</a>\u001b[0m     \u001b[39m# If input is 1D raise error\u001b[39;00m\n\u001b[1;32m    <a href='file:///home/gaetan/miniconda3/envs/L2RPN/lib/python3.9/site-packages/sklearn/utils/validation.py?line=767'>768</a>\u001b[0m     \u001b[39mif\u001b[39;00m array\u001b[39m.\u001b[39mndim \u001b[39m==\u001b[39m \u001b[39m1\u001b[39m:\n\u001b[0;32m--> <a href='file:///home/gaetan/miniconda3/envs/L2RPN/lib/python3.9/site-packages/sklearn/utils/validation.py?line=768'>769</a>\u001b[0m         \u001b[39mraise\u001b[39;00m \u001b[39mValueError\u001b[39;00m(\n\u001b[1;32m    <a href='file:///home/gaetan/miniconda3/envs/L2RPN/lib/python3.9/site-packages/sklearn/utils/validation.py?line=769'>770</a>\u001b[0m             \u001b[39m\"\u001b[39m\u001b[39mExpected 2D array, got 1D array instead:\u001b[39m\u001b[39m\\n\u001b[39;00m\u001b[39marray=\u001b[39m\u001b[39m{}\u001b[39;00m\u001b[39m.\u001b[39m\u001b[39m\\n\u001b[39;00m\u001b[39m\"\u001b[39m\n\u001b[1;32m    <a href='file:///home/gaetan/miniconda3/envs/L2RPN/lib/python3.9/site-packages/sklearn/utils/validation.py?line=770'>771</a>\u001b[0m             \u001b[39m\"\u001b[39m\u001b[39mReshape your data either using array.reshape(-1, 1) if \u001b[39m\u001b[39m\"\u001b[39m\n\u001b[1;32m    <a href='file:///home/gaetan/miniconda3/envs/L2RPN/lib/python3.9/site-packages/sklearn/utils/validation.py?line=771'>772</a>\u001b[0m             \u001b[39m\"\u001b[39m\u001b[39myour data has a single feature or array.reshape(1, -1) \u001b[39m\u001b[39m\"\u001b[39m\n\u001b[1;32m    <a href='file:///home/gaetan/miniconda3/envs/L2RPN/lib/python3.9/site-packages/sklearn/utils/validation.py?line=772'>773</a>\u001b[0m             \u001b[39m\"\u001b[39m\u001b[39mif it contains a single sample.\u001b[39m\u001b[39m\"\u001b[39m\u001b[39m.\u001b[39mformat(array)\n\u001b[1;32m    <a href='file:///home/gaetan/miniconda3/envs/L2RPN/lib/python3.9/site-packages/sklearn/utils/validation.py?line=773'>774</a>\u001b[0m         )\n\u001b[1;32m    <a href='file:///home/gaetan/miniconda3/envs/L2RPN/lib/python3.9/site-packages/sklearn/utils/validation.py?line=775'>776</a>\u001b[0m \u001b[39m# make sure we actually converted to numeric:\u001b[39;00m\n\u001b[1;32m    <a href='file:///home/gaetan/miniconda3/envs/L2RPN/lib/python3.9/site-packages/sklearn/utils/validation.py?line=776'>777</a>\u001b[0m \u001b[39mif\u001b[39;00m dtype_numeric \u001b[39mand\u001b[39;00m array\u001b[39m.\u001b[39mdtype\u001b[39m.\u001b[39mkind \u001b[39min\u001b[39;00m \u001b[39m\"\u001b[39m\u001b[39mOUSV\u001b[39m\u001b[39m\"\u001b[39m:\n",
      "\u001b[0;31mValueError\u001b[0m: Expected 2D array, got 1D array instead:\narray=[].\nReshape your data either using array.reshape(-1, 1) if your data has a single feature or array.reshape(1, -1) if it contains a single sample."
     ]
    }
   ],
   "source": [
    "n_clusters = 10\n",
    "clustering = KMeans(n_clusters=n_clusters, random_state=42).fit(curtailment_actions)\n",
    "for i in range(n_clusters):\n",
    "  print(f\"{((clustering.labels_==i).sum() / clustering.labels_.shape[0]) * 100:.4f}% of the data are in the cluster {i}\")\n",
    "  mask = clustering.labels_==i\n",
    "  mean_dist = ((curtailment_actions[mask] - clustering.cluster_centers_[i])**2).sum(axis=0).mean()\n",
    "  print(f\"The average distance to the cluster center is {mean_dist:.4f}\")"
   ]
  },
  {
   "cell_type": "code",
   "execution_count": 14,
   "metadata": {},
   "outputs": [
    {
     "name": "stdout",
     "output_type": "stream",
     "text": [
      "45.7333% of the data are in the cluster 0\n",
      "The average distance to the cluster center is 0.0000\n",
      "0.4667% of the data are in the cluster 1\n",
      "The average distance to the cluster center is 0.0000\n",
      "4.4667% of the data are in the cluster 2\n",
      "The average distance to the cluster center is 0.0000\n",
      "3.8000% of the data are in the cluster 3\n",
      "The average distance to the cluster center is 0.0000\n",
      "14.5333% of the data are in the cluster 4\n",
      "The average distance to the cluster center is 0.0000\n",
      "0.3333% of the data are in the cluster 5\n",
      "The average distance to the cluster center is 0.0000\n",
      "0.3333% of the data are in the cluster 6\n",
      "The average distance to the cluster center is 0.0000\n",
      "26.8000% of the data are in the cluster 7\n",
      "The average distance to the cluster center is 0.0000\n",
      "3.2000% of the data are in the cluster 8\n",
      "The average distance to the cluster center is 0.0000\n",
      "0.3333% of the data are in the cluster 9\n",
      "The average distance to the cluster center is 0.0000\n"
     ]
    }
   ],
   "source": [
    "n_clusters = 10\n",
    "clustering = KMeans(n_clusters=n_clusters, random_state=42).fit(storage_power_actions)\n",
    "for i in range(n_clusters):\n",
    "  print(f\"{((clustering.labels_==i).sum() / clustering.labels_.shape[0]) * 100:.4f}% of the data are in the cluster {i}\")\n",
    "  mask = clustering.labels_==i\n",
    "  mean_dist = ((storage_power_actions[mask] - clustering.cluster_centers_[i])**2).sum(axis=0).mean()\n",
    "  print(f\"The average distance to the cluster center is {mean_dist:.4f}\")"
   ]
  },
  {
   "cell_type": "code",
   "execution_count": null,
   "metadata": {},
   "outputs": [],
   "source": []
  }
 ],
 "metadata": {
  "interpreter": {
   "hash": "6ff328efa4567933ddc4c72ffd470532b6fc6588b5928ed695d935cb16d1bf3c"
  },
  "kernelspec": {
   "display_name": "Python 3.9.12 ('L2RPN')",
   "language": "python",
   "name": "python3"
  },
  "language_info": {
   "codemirror_mode": {
    "name": "ipython",
    "version": 3
   },
   "file_extension": ".py",
   "mimetype": "text/x-python",
   "name": "python",
   "nbconvert_exporter": "python",
   "pygments_lexer": "ipython3",
   "version": "3.9.12"
  },
  "orig_nbformat": 4
 },
 "nbformat": 4,
 "nbformat_minor": 2
}
