{
 "cells": [
  {
   "cell_type": "markdown",
   "metadata": {},
   "source": [
    "## Charge parameters"
   ]
  },
  {
   "cell_type": "code",
   "execution_count": 1,
   "metadata": {},
   "outputs": [
    {
     "name": "stderr",
     "output_type": "stream",
     "text": [
      "2022-05-13 15:30:17.449701: W tensorflow/stream_executor/platform/default/dso_loader.cc:64] Could not load dynamic library 'libcudart.so.11.0'; dlerror: libcudart.so.11.0: cannot open shared object file: No such file or directory\n",
      "2022-05-13 15:30:17.449724: I tensorflow/stream_executor/cuda/cudart_stub.cc:29] Ignore above cudart dlerror if you do not have a GPU set up on your machine.\n",
      "/home/boguslawskieva/miniconda3/envs/baselines_dev/lib/python3.8/site-packages/tqdm/auto.py:22: TqdmWarning: IProgress not found. Please update jupyter and ipywidgets. See https://ipywidgets.readthedocs.io/en/stable/user_install.html\n",
      "  from .autonotebook import tqdm as notebook_tqdm\n"
     ]
    }
   ],
   "source": [
    "import grid2op\n",
    "import numpy as np\n",
    "from lightsim2grid import LightSimBackend\n",
    "from grid2op.Chronics import MultifolderWithCache\n",
    "from l2rpn_baselines.utils import GymEnvWithRecoWithDN\n",
    "from grid2op.Parameters import Parameters\n",
    "from grid2op.utils import ScoreL2RPN2020\n",
    "import torch\n",
    "import datetime\n",
    "import sys\n",
    "import re\n",
    "import os\n",
    "import matplotlib.pyplot as plt\n",
    "import pandas as pd\n",
    "import seaborn as sns\n",
    "\n",
    "from utils import *\n",
    "\n",
    "from examples.ppo_stable_baselines.B_train_agent import CustomReward"
   ]
  },
  {
   "cell_type": "code",
   "execution_count": 5,
   "metadata": {},
   "outputs": [],
   "source": [
    "ENV_NAME = \"l2rpn_wcci_2022_dev\"\n",
    "\n",
    "# Split sets and statistics parameters\n",
    "is_windows = sys.platform.startswith(\"win32\")\n",
    "is_windows_or_darwin = sys.platform.startswith(\"win32\") or sys.platform.startswith(\"darwin\")\n",
    "nb_process_stats = 4 if not is_windows_or_darwin else 1\n",
    "deep_copy = is_windows  # force the deep copy on windows (due to permission issue in symlink in windows)\n",
    "verbose = 1\n",
    "SCOREUSED = ScoreL2RPN2020  # ScoreICAPS2021\n",
    "name_stats = \"_reco_powerline\"\n",
    "\n",
    "# Train parameters\n",
    "env_name_train = '_'.join([ENV_NAME, \"train\"])\n",
    "save_path = \"./saved_model\"\n",
    "name = '_'.join([\"GymEnvWithRecoWithDN\", datetime.datetime.now().strftime('%Y-%m-%d_%H-%M')])\n",
    "gymenv_class = GymEnvWithRecoWithDN"
   ]
  },
  {
   "cell_type": "code",
   "execution_count": 2,
   "metadata": {},
   "outputs": [],
   "source": [
    "def filter_chronics(x):\n",
    "  list_chronics = ['2050-01-03_31', '2050-02-21_31', '2050-03-07_31', '2050-04-18_31'] # Names of chronics to keep\n",
    "  p = re.compile(\".*(\" + '|'.join([c + '$' for c in list_chronics]) + \")\")\n",
    "  return re.match(p, x) is not None"
   ]
  },
  {
   "cell_type": "code",
   "execution_count": 3,
   "metadata": {},
   "outputs": [],
   "source": [
    "with open(\"./preprocess_obs.json\", \"r\", encoding=\"utf-8\") as f:\n",
    "    obs_space_kwargs = json.load(f)\n",
    "with open(\"./preprocess_act.json\", \"r\", encoding=\"utf-8\") as f:\n",
    "    act_space_kwargs = json.load(f)"
   ]
  },
  {
   "cell_type": "code",
   "execution_count": 6,
   "metadata": {},
   "outputs": [],
   "source": [
    "p=Parameters()\n",
    "p.LIMIT_INFEASIBLE_CURTAILMENT_STORAGE_ACTION = True\n",
    "\n",
    "env_train = grid2op.make(ENV_NAME,\n",
    "                   reward_class=CustomReward2,\n",
    "                   backend=LightSimBackend(),\n",
    "                   chronics_class=MultifolderWithCache,\n",
    "                   param=p,\n",
    "                   other_rewards={\"CustomReward2\": CustomReward2}\n",
    "                   )\n",
    "env_train.chronics_handler.real_data.set_filter(filter_chronics)\n",
    "env_train.chronics_handler.real_data.reset()\n",
    "\n",
    "nb_scenario = len(env_train.chronics_handler.real_data.available_chronics())"
   ]
  },
  {
   "cell_type": "markdown",
   "metadata": {},
   "source": [
    "## Test Runner"
   ]
  },
  {
   "cell_type": "code",
   "execution_count": null,
   "metadata": {},
   "outputs": [],
   "source": [
    "from grid2op.Runner import Runner\n",
    "from examples.ppo_stable_baselines.C_evaluate_trained_model import load_agent\n",
    "\n",
    "from grid2op.PlotGrid import PlotMatplot\n",
    "plot_helper = PlotMatplot(observation_space=env_train.observation_space)"
   ]
  },
  {
   "cell_type": "code",
   "execution_count": null,
   "metadata": {},
   "outputs": [],
   "source": [
    "agent_name = \"GymEnvWithRecoWithDN_2022-05-12_21-37_learning_rate_3\"\n",
    "path_agent = os.path.join(save_path, agent_name)\n",
    "path_results_agent = os.path.join(\"./model_results\", agent_name)"
   ]
  },
  {
   "cell_type": "code",
   "execution_count": null,
   "metadata": {},
   "outputs": [],
   "source": [
    "runner_params = env_train.get_params_for_runner()\n",
    "runner_params[\"verbose\"] = verbose\n",
    "runner = Runner(**runner_params, agentClass=None, agentInstance=my_agent)"
   ]
  },
  {
   "cell_type": "code",
   "execution_count": null,
   "metadata": {},
   "outputs": [],
   "source": [
    "os.makedirs(path_results_agent, exist_ok=True)\n",
    "\n",
    "res = runner.run(path_save=path_results_agent, \n",
    "    nb_episode=nb_scenario, \n",
    "    nb_process=1, \n",
    "    max_iter=-1, \n",
    "    pbar=True,\n",
    "    env_seeds=get_env_seed(ENV_NAME)[:nb_scenario], \n",
    "    # env_seeds=[42 for _ in range(nb_scenario)],\n",
    "    agent_seeds=[0 for _ in range(nb_scenario)])"
   ]
  }
 ],
 "metadata": {
  "interpreter": {
   "hash": "c4f61d462cb5c7869e4a197937948bf593da4f031038557c2fa13a5c9eff1b5f"
  },
  "kernelspec": {
   "display_name": "Python 3.8.13 ('baselines_dev')",
   "language": "python",
   "name": "python3"
  },
  "language_info": {
   "codemirror_mode": {
    "name": "ipython",
    "version": 3
   },
   "file_extension": ".py",
   "mimetype": "text/x-python",
   "name": "python",
   "nbconvert_exporter": "python",
   "pygments_lexer": "ipython3",
   "version": "3.8.13"
  },
  "orig_nbformat": 4
 },
 "nbformat": 4,
 "nbformat_minor": 2
}
