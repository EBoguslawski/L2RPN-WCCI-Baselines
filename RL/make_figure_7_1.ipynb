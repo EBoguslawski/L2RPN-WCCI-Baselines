{
 "cells": [
  {
   "cell_type": "code",
   "execution_count": 1,
   "metadata": {},
   "outputs": [],
   "source": [
    "# you need to run\n",
    "# python run_trained_agents.py --has_cuda=0 --safe_max_rho 0.95 --limit_cs_margin 100. --expe_name figure_6 --nb_process 4 --training_iter 0 1000000 2000000 3000000 4000000 5000000 6000000 7000000 8000000 9000000 10000000 --path_agents /home/donnotben/Documents/2022_ADPRL_paper/PPO_one_week_trained\n",
    "# before this notebook\n",
    "\n",
    "\"\"\"\n",
    "You need to run\n",
    "python run_trained_agents.py \\\n",
    "--has_cuda=0 \\\n",
    "--safe_max_rho 0.5 0.6 0.7 0.8 0.9 0.95 1.0 1.1 1.2 \\\n",
    "--limit_cs_margin 100. \\\n",
    "--expe_name figure_7_1 \\\n",
    "--nb_process XXX \\\n",
    "--path_agents XXX\n",
    "before this notebook\n",
    "\"\"\"\n",
    "\n",
    "import matplotlib.pyplot as plt\n",
    "import json\n",
    "import os\n",
    "import numpy as np\n",
    "\n",
    "path = \".\"\n",
    "with open (os.path.join(path, \"agents_runs_figure_7_1.json\"), \"r\") as f:\n",
    "    dict_all_ = json.load(f)"
   ]
  },
  {
   "cell_type": "code",
   "execution_count": 8,
   "metadata": {},
   "outputs": [],
   "source": [
    "score_safe_max_rho = {}\n",
    "for safe_max_rho_, dict_f in dict_all_.items():\n",
    "    for limit_cs_margin_, res_margin in dict_f.items():\n",
    "        for training_iter_, res_iter in res_margin.items():\n",
    "            score_this = []\n",
    "            for weights_dir_str, tmp_res_model in res_iter.items():\n",
    "              score_this.append(tmp_res_model[\"score_avg\"])  \n",
    "            score_safe_max_rho[safe_max_rho_] = (np.percentile(score_this, 20),\n",
    "                                              np.percentile(score_this, 40),\n",
    "                                              np.percentile(score_this, 50),\n",
    "                                              np.percentile(score_this, 60),\n",
    "                                              np.percentile(score_this, 80),\n",
    "                                              )\n"
   ]
  },
  {
   "cell_type": "code",
   "execution_count": 12,
   "metadata": {},
   "outputs": [
    {
     "data": {
      "text/plain": [
       "Text(0, 0.5, 'score on validation set')"
      ]
     },
     "execution_count": 12,
     "metadata": {},
     "output_type": "execute_result"
    },
    {
     "data": {
      "image/png": "[encoded data removed]",
      "text/plain": [
       "<Figure size 432x288 with 1 Axes>"
      ]
     },
     "metadata": {
      "needs_background": "light"
     },
     "output_type": "display_data"
    }
   ],
   "source": [
    "x_plt = sorted(score_safe_max_rho.keys(),\n",
    "               key=lambda x: x)\n",
    "x_displ = [el for el in x_plt]\n",
    "plt.fill_between(x_displ,\n",
    "                 y1=[score_safe_max_rho[el][0] for el in x_plt],\n",
    "                 y2=[score_safe_max_rho[el][4] for el in x_plt],\n",
    "                 color=\"cornflowerblue\",\n",
    "                 alpha=0.3\n",
    "                 )\n",
    "plt.fill_between(x_displ,\n",
    "                 y1=[score_safe_max_rho[el][1] for el in x_plt],\n",
    "                 y2=[score_safe_max_rho[el][3] for el in x_plt],\n",
    "                 color=\"cornflowerblue\",\n",
    "                 alpha=0.7\n",
    "                 )\n",
    "plt.plot(x_displ,\n",
    "         [score_safe_max_rho[el][2] for el in x_plt], \n",
    "         color=\"cornflowerblue\")\n",
    "plt.xlabel(\"safe_max_rho\")\n",
    "plt.ylabel(\"score on validation set\")"
   ]
  }
 ],
 "metadata": {
  "kernelspec": {
   "display_name": "Python 3.9.12 ('L2RPN': conda)",
   "language": "python",
   "name": "python3"
  },
  "language_info": {
   "codemirror_mode": {
    "name": "ipython",
    "version": 3
   },
   "file_extension": ".py",
   "mimetype": "text/x-python",
   "name": "python",
   "nbconvert_exporter": "python",
   "pygments_lexer": "ipython3",
   "version": "3.9.12"
  },
  "orig_nbformat": 4,
  "vscode": {
   "interpreter": {
    "hash": "87b3ce69eea7cdb623b479cefa41e06a3706e132edcafb27e9330922d6373cf4"
   }
  }
 },
 "nbformat": 4,
 "nbformat_minor": 2
}
